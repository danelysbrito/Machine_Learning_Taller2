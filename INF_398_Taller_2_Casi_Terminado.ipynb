{
  "cells": [
    {
      "cell_type": "markdown",
      "metadata": {
        "id": "xnN5e0A-U1l7"
      },
      "source": [
        "# Introducción al Aprendizaje Automático: Taller 2\n",
        "\n"
      ]
    },
    {
      "cell_type": "markdown",
      "metadata": {
        "id": "dIlM2s6kksaD"
      },
      "source": [
        "## Predicción de Riesgo Crediticio\n",
        "\n",
        "El objetivo de este taller es que se familiciaricen con competencias/desafíos en ciencia de datos y machine learning. Por lo tanto, la actividad es abierta y requiere diseñar, implementar, y evaluar una solución a un problema real usando técnicas estudiadas en el curso.\n",
        "\n",
        "\n",
        "<table align='left'>\n",
        "<tr>\n",
        "<td><img src='https://content.pymnts.com/wp-content/uploads/2019/02/Aire-AI-Credit-Scoring-1000x600.jpg' width='900'/> </td>\n",
        "</tr>\n",
        "</table>"
      ]
    },
    {
      "cell_type": "markdown",
      "metadata": {
        "id": "KgLFU9XwG3uM"
      },
      "source": [
        "## Introducción\n",
        "\n",
        "La tecnología financiera (*fintech*) es un conjunto de productos y servicios que aprovechan avances tecnOlógicos recientes para resolver problemas o mejorar procesos actuales en la industria financiera. Este sector representa una de las áreas laborales de mayor crecimiento reciente.\n",
        "\n",
        "El aprendizaje automático en fintech implica la aplicación de algoritmos y modelos avanzados para analizar datos financieros, hacer predicciones, automatizar procesos y optimizar la toma de decisiones en la industria financiera. Permite a las instituciones financieras mejorar la evaluación de riesgos, la detección de fraudes, el servicio al cliente, las estrategias de inversión y más, aprovechando el poder de los datos y la automatización."
      ]
    },
    {
      "cell_type": "markdown",
      "metadata": {
        "id": "cLu56_lskMX7"
      },
      "source": [
        "## Problema & Datos\n",
        "\n",
        "> **Problema:** En este desafío exploraremos el problema de predecir si una solicitud de crédito a un banco será pagada o no, una versión binaria de lo que se denomina análisis de riesgo, que es su vez una de las aplicaciones más comunes del aprendizaje automático en la industria financiera.\n",
        "\n",
        "> **Materiales:** Usted dispondrá de varias tablas extraídas de una base de datos relacional que describe el comportamiento previo de los clientes en una entidad financiera real. La solución del desafío requiere emplear técnicas de fusión de datos para crear un dataset que pueda ser utilizado por modelos clásicos de aprendizaje automático. Como en muchos problemas reales, la construcción de una solución requerirá también de una limpieza de datos, de un método para tratar datos faltantes, de un buen análisis exploratorio de datos, y de una creativa ingeniería de atributos."
      ]
    },
    {
      "cell_type": "markdown",
      "metadata": {
        "id": "BbAEhyz5It0V"
      },
      "source": [
        "## Métrica\n",
        "\n",
        "La métrica de la competencia será [AUC](https://es.wikipedia.org/wiki/Curva_ROC) ó área bajo la curva ROC.\n",
        "\n",
        "$$\\operatorname{TPR}(T): T \\to y(x)$$\n",
        "$$\\operatorname{FPR}(T): T \\to x$$\n",
        "\n",
        "\\begin{aligned}\n",
        "A & = \\int_{x=0}^{1}{\\mbox{TPR}(\\mbox{FPR}^{-1}(x)) dx}\\\\\n",
        "& = \\int_{\\infty}^{-\\infty} \\mbox{TPR}(T) \\mbox{FPR}'(T) \\, dT\\\\\n",
        "& = \\int_{-\\infty}^\\infty \\int_{-\\infty}^\\infty I(T' \\ge T)f_1(T') f_0(T) \\, dT' \\, dT = P(X_1 \\ge X_0)\n",
        "\\end{aligned}\n",
        "\n"
      ]
    },
    {
      "cell_type": "markdown",
      "metadata": {
        "id": "4AJyAp_IZxm9"
      },
      "source": [
        "## Base Imports"
      ]
    },
    {
      "cell_type": "code",
      "execution_count": null,
      "metadata": {
        "id": "-Hwo0VvGUZdm"
      },
      "outputs": [],
      "source": [
        "# Plotting libraries\n",
        "import seaborn as sns; sns.set()\n",
        "import matplotlib.pyplot as plt\n",
        "# Scikit learn\n",
        "import sklearn.preprocessing as skp\n",
        "from sklearn.pipeline import Pipeline\n",
        "from sklearn.model_selection import train_test_split, cross_validate, GridSearchCV\n",
        "from sklearn.multiclass import OneVsOneClassifier, OneVsRestClassifier\n",
        "from sklearn.linear_model import LogisticRegression\n",
        "from sklearn.preprocessing import OrdinalEncoder, OneHotEncoder, StandardScaler\n",
        "from sklearn.ensemble import HistGradientBoostingClassifier\n",
        "from sklearn.utils import resample\n",
        "# Scikit Metrics\n",
        "from sklearn.metrics import log_loss, classification_report, accuracy_score, f1_score,roc_auc_score, recall_score, precision_score, roc_curve\n",
        "from sklearn.metrics import confusion_matrix\n",
        "# Data manipulation libraries\n",
        "import pandas as pd\n",
        "import numpy as np\n",
        "# General use\n",
        "from tqdm.notebook import tqdm\n",
        "from joblib import dump, load\n",
        "import warnings\n",
        "warnings.filterwarnings(\"ignore\")\n",
        "\n",
        "# Si quiere trabajar en local cambiar a False\n",
        "COLAB_FLAG = True"
      ]
    },
    {
      "cell_type": "markdown",
      "metadata": {
        "id": "JX18MccEJnzm"
      },
      "source": [
        "## Carga de Datos\n",
        "\n",
        "Como es usual, debe cargar los archivos distribuidos con esta tarea en la máquina virtual o en la máquina local donde trabajará, sustituyendo las rutas mostradas como ejemplo por las rutas donde tiene alojados los archivos."
      ]
    },
    {
      "cell_type": "code",
      "execution_count": null,
      "metadata": {
        "id": "TuwBEP1eaQyP",
        "colab": {
          "base_uri": "https://localhost:8080/"
        },
        "outputId": "2e70f76a-b4ae-4cbe-c468-ccd9c4945bb1"
      },
      "outputs": [
        {
          "output_type": "stream",
          "name": "stdout",
          "text": [
            "Mounting your Google Drive ...\n",
            "Drive not mounted, so nothing to flush and unmount.\n",
            "Mounted at /content/drive\n"
          ]
        }
      ],
      "source": [
        "data_path = ''\n",
        "\n",
        "if COLAB_FLAG:\n",
        "  print(\"Mounting your Google Drive ...\")\n",
        "\n",
        "  from google.colab import drive\n",
        "  drive.flush_and_unmount()\n",
        "  drive.mount('/content/drive', force_remount=True)\n",
        "\n",
        "  data_path = \"/content/drive/My Drive/Machine Learning/Desafio 1/\" # Esta es la ruta. Recuerde modificarla acorde a sus necesidades"
      ]
    },
    {
      "cell_type": "markdown",
      "metadata": {
        "id": "-z_x5v432OOd"
      },
      "source": [
        "## Funciones útiles\n",
        "\n",
        "Estas funciones son adheridas al notebook con tal de ayudar en la inspiración de visualizaciones útiles, facilitando así el encontrar patrones para unificar las tablas."
      ]
    },
    {
      "cell_type": "code",
      "execution_count": null,
      "metadata": {
        "id": "Ccq4gSGL2Rxf"
      },
      "outputs": [],
      "source": [
        "def numeric_columns(df):\n",
        "  numeric_columns = []\n",
        "  for column in df.columns.tolist():\n",
        "    if df.dtypes[column] != 'object':\n",
        "      numeric_columns.append(column)\n",
        "  return numeric_columns\n",
        "\n",
        "def plot_numeric_data(df, nrows=3, ncols=4, exclude_columns=['SK_ID_BUREAU', 'SK_ID_CURR']):\n",
        "  fig, ax = plt.subplots(figsize=(16, 18), nrows=nrows, ncols=ncols)\n",
        "  cont = 0\n",
        "  for idx, column in enumerate(tqdm(numeric_columns(df))):\n",
        "    if df.dtypes[column] != 'object' and column not in exclude_columns:\n",
        "      df[column].plot(kind='kde',\n",
        "                      xlabel=column,\n",
        "                      ax=ax[(idx + cont)//4, (idx + cont)%4])\n",
        "      ax[(idx + cont)//4, (idx + cont)%4].set_xlabel(column, fontsize=8)\n",
        "    else:\n",
        "      cont -= 1\n",
        "\n",
        "  plt.subplots_adjust(bottom=.25, left=.25)\n",
        "  plt.tight_layout()\n",
        "  plt.show()\n",
        "\n",
        "# Descripción de las columnas\n",
        "def dataframe_columns_description(df):\n",
        "  print('-' * 160)\n",
        "  for index, row in description_df[description_df['Row'].isin(df)].drop('Table', axis=1).iterrows():\n",
        "    print(f\"|{row['Row']}: {row['Description']} ({row['Special']})\" if type(row['Special']) != float else f\"|{row['Row']}: {row['Description']}\")\n",
        "    print('-' * 160)"
      ]
    },
    {
      "cell_type": "markdown",
      "metadata": {
        "id": "_ujuhqNNbhak"
      },
      "source": [
        "## Problema & Datos"
      ]
    },
    {
      "cell_type": "code",
      "execution_count": null,
      "metadata": {
        "id": "rD2fj0spbjHc",
        "scrolled": true
      },
      "outputs": [],
      "source": [
        "description_df = pd.read_csv(data_path + 'columns_description.csv').drop(['Unnamed: 0'], axis=1)\n",
        "loan_history_df = pd.read_csv(data_path + 'historial_prestamos.csv')#.drop(['Unnamed: 0'], axis=1)\n",
        "loan_history_movements_df = pd.read_csv(data_path + 'historial_prestamos_movimientos.csv')#.drop(['Unnamed: 0'], axis=1)\n",
        "request_test_df = pd.read_csv(data_path + 'solicitudes_test.csv')\n",
        "request_train_df = pd.read_csv(data_path + 'solicitudes_train.csv')\n",
        "credit_card_movements_df = pd.read_csv(data_path + 'tarjeta_credito_movimientos.csv')#.drop(['Unnamed: 0'], axis=1)"
      ]
    },
    {
      "cell_type": "markdown",
      "metadata": {
        "id": "9Au3Vyzc5Rbl"
      },
      "source": [
        "## Análisis exploratorio de Datos"
      ]
    },
    {
      "cell_type": "code",
      "execution_count": null,
      "metadata": {
        "colab": {
          "base_uri": "https://localhost:8080/",
          "height": 475
        },
        "id": "LcBUkTiz5VyN",
        "outputId": "e19e8bc8-0781-454e-b910-8b3205ea9d0c"
      },
      "outputs": [
        {
          "output_type": "execute_result",
          "data": {
            "text/plain": [
              "            TARGET NAME_CONTRACT_TYPE CODE_GENDER FLAG_OWN_CAR  \\\n",
              "SK_ID_CURR                                                       \n",
              "331475           0         Cash loans           F            Y   \n",
              "366488           0         Cash loans           F            N   \n",
              "444791           0         Cash loans           F            N   \n",
              "112960           0    Revolving loans           F            N   \n",
              "418735           0    Revolving loans           F            N   \n",
              "...            ...                ...         ...          ...   \n",
              "244356           0         Cash loans           M            N   \n",
              "213955           0         Cash loans           F            N   \n",
              "376877           0    Revolving loans           F            N   \n",
              "246747           0         Cash loans           F            N   \n",
              "224980           0    Revolving loans           F            N   \n",
              "\n",
              "           FLAG_OWN_REALTY  CNT_CHILDREN  AMT_INCOME_TOTAL  AMT_CREDIT  \\\n",
              "SK_ID_CURR                                                               \n",
              "331475                   Y             0          135000.0    835380.0   \n",
              "366488                   Y             0          103500.0    659533.5   \n",
              "444791                   Y             0          135000.0    219042.0   \n",
              "112960                   Y             0           67500.0    675000.0   \n",
              "418735                   Y             0          315000.0    900000.0   \n",
              "...                    ...           ...               ...         ...   \n",
              "244356                   Y             0          112500.0    112068.0   \n",
              "213955                   Y             0          135000.0    781920.0   \n",
              "376877                   Y             0          135000.0    202500.0   \n",
              "246747                   N             1          135000.0    508495.5   \n",
              "224980                   Y             1           67500.0    180000.0   \n",
              "\n",
              "            AMT_ANNUITY  AMT_GOODS_PRICE  ... FLAG_DOCUMENT_18  \\\n",
              "SK_ID_CURR                                ...                    \n",
              "331475          30955.5         675000.0  ...                0   \n",
              "366488          26284.5         589500.0  ...                0   \n",
              "444791          23130.0         193500.0  ...                0   \n",
              "112960          33750.0         675000.0  ...                0   \n",
              "418735          45000.0         900000.0  ...                0   \n",
              "...                 ...              ...  ...              ...   \n",
              "244356          11610.0          99000.0  ...                0   \n",
              "213955          32998.5         675000.0  ...                0   \n",
              "376877          10125.0         202500.0  ...                0   \n",
              "246747          21541.5         454500.0  ...                0   \n",
              "224980           9000.0         180000.0  ...                0   \n",
              "\n",
              "           FLAG_DOCUMENT_19 FLAG_DOCUMENT_20 FLAG_DOCUMENT_21  \\\n",
              "SK_ID_CURR                                                      \n",
              "331475                    0                0                0   \n",
              "366488                    0                0                0   \n",
              "444791                    0                0                0   \n",
              "112960                    0                0                0   \n",
              "418735                    0                0                0   \n",
              "...                     ...              ...              ...   \n",
              "244356                    0                0                0   \n",
              "213955                    0                0                0   \n",
              "376877                    0                0                0   \n",
              "246747                    0                0                0   \n",
              "224980                    0                0                0   \n",
              "\n",
              "           AMT_REQ_CREDIT_BUREAU_HOUR  AMT_REQ_CREDIT_BUREAU_DAY  \\\n",
              "SK_ID_CURR                                                         \n",
              "331475                            0.0                        0.0   \n",
              "366488                            0.0                        0.0   \n",
              "444791                            0.0                        0.0   \n",
              "112960                            0.0                        0.0   \n",
              "418735                            0.0                        0.0   \n",
              "...                               ...                        ...   \n",
              "244356                            0.0                        0.0   \n",
              "213955                            0.0                        0.0   \n",
              "376877                            0.0                        0.0   \n",
              "246747                            0.0                        0.0   \n",
              "224980                            0.0                        0.0   \n",
              "\n",
              "            AMT_REQ_CREDIT_BUREAU_WEEK  AMT_REQ_CREDIT_BUREAU_MON  \\\n",
              "SK_ID_CURR                                                          \n",
              "331475                             0.0                        0.0   \n",
              "366488                             0.0                        0.0   \n",
              "444791                             0.0                        0.0   \n",
              "112960                             0.0                        0.0   \n",
              "418735                             0.0                        1.0   \n",
              "...                                ...                        ...   \n",
              "244356                             0.0                        0.0   \n",
              "213955                             0.0                        1.0   \n",
              "376877                             0.0                        0.0   \n",
              "246747                             0.0                        0.0   \n",
              "224980                             0.0                        0.0   \n",
              "\n",
              "            AMT_REQ_CREDIT_BUREAU_QRT  AMT_REQ_CREDIT_BUREAU_YEAR  \n",
              "SK_ID_CURR                                                         \n",
              "331475                            0.0                         0.0  \n",
              "366488                            0.0                         4.0  \n",
              "444791                            0.0                         1.0  \n",
              "112960                            1.0                         9.0  \n",
              "418735                            0.0                         1.0  \n",
              "...                               ...                         ...  \n",
              "244356                            0.0                         1.0  \n",
              "213955                            1.0                         2.0  \n",
              "376877                            0.0                         2.0  \n",
              "246747                            0.0                         0.0  \n",
              "224980                            0.0                         0.0  \n",
              "\n",
              "[150679 rows x 121 columns]"
            ],
            "text/html": [
              "\n",
              "  <div id=\"df-a0fceafa-690f-4e69-add2-b4c4494ea9ca\" class=\"colab-df-container\">\n",
              "    <div>\n",
              "<style scoped>\n",
              "    .dataframe tbody tr th:only-of-type {\n",
              "        vertical-align: middle;\n",
              "    }\n",
              "\n",
              "    .dataframe tbody tr th {\n",
              "        vertical-align: top;\n",
              "    }\n",
              "\n",
              "    .dataframe thead th {\n",
              "        text-align: right;\n",
              "    }\n",
              "</style>\n",
              "<table border=\"1\" class=\"dataframe\">\n",
              "  <thead>\n",
              "    <tr style=\"text-align: right;\">\n",
              "      <th></th>\n",
              "      <th>TARGET</th>\n",
              "      <th>NAME_CONTRACT_TYPE</th>\n",
              "      <th>CODE_GENDER</th>\n",
              "      <th>FLAG_OWN_CAR</th>\n",
              "      <th>FLAG_OWN_REALTY</th>\n",
              "      <th>CNT_CHILDREN</th>\n",
              "      <th>AMT_INCOME_TOTAL</th>\n",
              "      <th>AMT_CREDIT</th>\n",
              "      <th>AMT_ANNUITY</th>\n",
              "      <th>AMT_GOODS_PRICE</th>\n",
              "      <th>...</th>\n",
              "      <th>FLAG_DOCUMENT_18</th>\n",
              "      <th>FLAG_DOCUMENT_19</th>\n",
              "      <th>FLAG_DOCUMENT_20</th>\n",
              "      <th>FLAG_DOCUMENT_21</th>\n",
              "      <th>AMT_REQ_CREDIT_BUREAU_HOUR</th>\n",
              "      <th>AMT_REQ_CREDIT_BUREAU_DAY</th>\n",
              "      <th>AMT_REQ_CREDIT_BUREAU_WEEK</th>\n",
              "      <th>AMT_REQ_CREDIT_BUREAU_MON</th>\n",
              "      <th>AMT_REQ_CREDIT_BUREAU_QRT</th>\n",
              "      <th>AMT_REQ_CREDIT_BUREAU_YEAR</th>\n",
              "    </tr>\n",
              "    <tr>\n",
              "      <th>SK_ID_CURR</th>\n",
              "      <th></th>\n",
              "      <th></th>\n",
              "      <th></th>\n",
              "      <th></th>\n",
              "      <th></th>\n",
              "      <th></th>\n",
              "      <th></th>\n",
              "      <th></th>\n",
              "      <th></th>\n",
              "      <th></th>\n",
              "      <th></th>\n",
              "      <th></th>\n",
              "      <th></th>\n",
              "      <th></th>\n",
              "      <th></th>\n",
              "      <th></th>\n",
              "      <th></th>\n",
              "      <th></th>\n",
              "      <th></th>\n",
              "      <th></th>\n",
              "      <th></th>\n",
              "    </tr>\n",
              "  </thead>\n",
              "  <tbody>\n",
              "    <tr>\n",
              "      <th>331475</th>\n",
              "      <td>0</td>\n",
              "      <td>Cash loans</td>\n",
              "      <td>F</td>\n",
              "      <td>Y</td>\n",
              "      <td>Y</td>\n",
              "      <td>0</td>\n",
              "      <td>135000.0</td>\n",
              "      <td>835380.0</td>\n",
              "      <td>30955.5</td>\n",
              "      <td>675000.0</td>\n",
              "      <td>...</td>\n",
              "      <td>0</td>\n",
              "      <td>0</td>\n",
              "      <td>0</td>\n",
              "      <td>0</td>\n",
              "      <td>0.0</td>\n",
              "      <td>0.0</td>\n",
              "      <td>0.0</td>\n",
              "      <td>0.0</td>\n",
              "      <td>0.0</td>\n",
              "      <td>0.0</td>\n",
              "    </tr>\n",
              "    <tr>\n",
              "      <th>366488</th>\n",
              "      <td>0</td>\n",
              "      <td>Cash loans</td>\n",
              "      <td>F</td>\n",
              "      <td>N</td>\n",
              "      <td>Y</td>\n",
              "      <td>0</td>\n",
              "      <td>103500.0</td>\n",
              "      <td>659533.5</td>\n",
              "      <td>26284.5</td>\n",
              "      <td>589500.0</td>\n",
              "      <td>...</td>\n",
              "      <td>0</td>\n",
              "      <td>0</td>\n",
              "      <td>0</td>\n",
              "      <td>0</td>\n",
              "      <td>0.0</td>\n",
              "      <td>0.0</td>\n",
              "      <td>0.0</td>\n",
              "      <td>0.0</td>\n",
              "      <td>0.0</td>\n",
              "      <td>4.0</td>\n",
              "    </tr>\n",
              "    <tr>\n",
              "      <th>444791</th>\n",
              "      <td>0</td>\n",
              "      <td>Cash loans</td>\n",
              "      <td>F</td>\n",
              "      <td>N</td>\n",
              "      <td>Y</td>\n",
              "      <td>0</td>\n",
              "      <td>135000.0</td>\n",
              "      <td>219042.0</td>\n",
              "      <td>23130.0</td>\n",
              "      <td>193500.0</td>\n",
              "      <td>...</td>\n",
              "      <td>0</td>\n",
              "      <td>0</td>\n",
              "      <td>0</td>\n",
              "      <td>0</td>\n",
              "      <td>0.0</td>\n",
              "      <td>0.0</td>\n",
              "      <td>0.0</td>\n",
              "      <td>0.0</td>\n",
              "      <td>0.0</td>\n",
              "      <td>1.0</td>\n",
              "    </tr>\n",
              "    <tr>\n",
              "      <th>112960</th>\n",
              "      <td>0</td>\n",
              "      <td>Revolving loans</td>\n",
              "      <td>F</td>\n",
              "      <td>N</td>\n",
              "      <td>Y</td>\n",
              "      <td>0</td>\n",
              "      <td>67500.0</td>\n",
              "      <td>675000.0</td>\n",
              "      <td>33750.0</td>\n",
              "      <td>675000.0</td>\n",
              "      <td>...</td>\n",
              "      <td>0</td>\n",
              "      <td>0</td>\n",
              "      <td>0</td>\n",
              "      <td>0</td>\n",
              "      <td>0.0</td>\n",
              "      <td>0.0</td>\n",
              "      <td>0.0</td>\n",
              "      <td>0.0</td>\n",
              "      <td>1.0</td>\n",
              "      <td>9.0</td>\n",
              "    </tr>\n",
              "    <tr>\n",
              "      <th>418735</th>\n",
              "      <td>0</td>\n",
              "      <td>Revolving loans</td>\n",
              "      <td>F</td>\n",
              "      <td>N</td>\n",
              "      <td>Y</td>\n",
              "      <td>0</td>\n",
              "      <td>315000.0</td>\n",
              "      <td>900000.0</td>\n",
              "      <td>45000.0</td>\n",
              "      <td>900000.0</td>\n",
              "      <td>...</td>\n",
              "      <td>0</td>\n",
              "      <td>0</td>\n",
              "      <td>0</td>\n",
              "      <td>0</td>\n",
              "      <td>0.0</td>\n",
              "      <td>0.0</td>\n",
              "      <td>0.0</td>\n",
              "      <td>1.0</td>\n",
              "      <td>0.0</td>\n",
              "      <td>1.0</td>\n",
              "    </tr>\n",
              "    <tr>\n",
              "      <th>...</th>\n",
              "      <td>...</td>\n",
              "      <td>...</td>\n",
              "      <td>...</td>\n",
              "      <td>...</td>\n",
              "      <td>...</td>\n",
              "      <td>...</td>\n",
              "      <td>...</td>\n",
              "      <td>...</td>\n",
              "      <td>...</td>\n",
              "      <td>...</td>\n",
              "      <td>...</td>\n",
              "      <td>...</td>\n",
              "      <td>...</td>\n",
              "      <td>...</td>\n",
              "      <td>...</td>\n",
              "      <td>...</td>\n",
              "      <td>...</td>\n",
              "      <td>...</td>\n",
              "      <td>...</td>\n",
              "      <td>...</td>\n",
              "      <td>...</td>\n",
              "    </tr>\n",
              "    <tr>\n",
              "      <th>244356</th>\n",
              "      <td>0</td>\n",
              "      <td>Cash loans</td>\n",
              "      <td>M</td>\n",
              "      <td>N</td>\n",
              "      <td>Y</td>\n",
              "      <td>0</td>\n",
              "      <td>112500.0</td>\n",
              "      <td>112068.0</td>\n",
              "      <td>11610.0</td>\n",
              "      <td>99000.0</td>\n",
              "      <td>...</td>\n",
              "      <td>0</td>\n",
              "      <td>0</td>\n",
              "      <td>0</td>\n",
              "      <td>0</td>\n",
              "      <td>0.0</td>\n",
              "      <td>0.0</td>\n",
              "      <td>0.0</td>\n",
              "      <td>0.0</td>\n",
              "      <td>0.0</td>\n",
              "      <td>1.0</td>\n",
              "    </tr>\n",
              "    <tr>\n",
              "      <th>213955</th>\n",
              "      <td>0</td>\n",
              "      <td>Cash loans</td>\n",
              "      <td>F</td>\n",
              "      <td>N</td>\n",
              "      <td>Y</td>\n",
              "      <td>0</td>\n",
              "      <td>135000.0</td>\n",
              "      <td>781920.0</td>\n",
              "      <td>32998.5</td>\n",
              "      <td>675000.0</td>\n",
              "      <td>...</td>\n",
              "      <td>0</td>\n",
              "      <td>0</td>\n",
              "      <td>0</td>\n",
              "      <td>0</td>\n",
              "      <td>0.0</td>\n",
              "      <td>0.0</td>\n",
              "      <td>0.0</td>\n",
              "      <td>1.0</td>\n",
              "      <td>1.0</td>\n",
              "      <td>2.0</td>\n",
              "    </tr>\n",
              "    <tr>\n",
              "      <th>376877</th>\n",
              "      <td>0</td>\n",
              "      <td>Revolving loans</td>\n",
              "      <td>F</td>\n",
              "      <td>N</td>\n",
              "      <td>Y</td>\n",
              "      <td>0</td>\n",
              "      <td>135000.0</td>\n",
              "      <td>202500.0</td>\n",
              "      <td>10125.0</td>\n",
              "      <td>202500.0</td>\n",
              "      <td>...</td>\n",
              "      <td>0</td>\n",
              "      <td>0</td>\n",
              "      <td>0</td>\n",
              "      <td>0</td>\n",
              "      <td>0.0</td>\n",
              "      <td>0.0</td>\n",
              "      <td>0.0</td>\n",
              "      <td>0.0</td>\n",
              "      <td>0.0</td>\n",
              "      <td>2.0</td>\n",
              "    </tr>\n",
              "    <tr>\n",
              "      <th>246747</th>\n",
              "      <td>0</td>\n",
              "      <td>Cash loans</td>\n",
              "      <td>F</td>\n",
              "      <td>N</td>\n",
              "      <td>N</td>\n",
              "      <td>1</td>\n",
              "      <td>135000.0</td>\n",
              "      <td>508495.5</td>\n",
              "      <td>21541.5</td>\n",
              "      <td>454500.0</td>\n",
              "      <td>...</td>\n",
              "      <td>0</td>\n",
              "      <td>0</td>\n",
              "      <td>0</td>\n",
              "      <td>0</td>\n",
              "      <td>0.0</td>\n",
              "      <td>0.0</td>\n",
              "      <td>0.0</td>\n",
              "      <td>0.0</td>\n",
              "      <td>0.0</td>\n",
              "      <td>0.0</td>\n",
              "    </tr>\n",
              "    <tr>\n",
              "      <th>224980</th>\n",
              "      <td>0</td>\n",
              "      <td>Revolving loans</td>\n",
              "      <td>F</td>\n",
              "      <td>N</td>\n",
              "      <td>Y</td>\n",
              "      <td>1</td>\n",
              "      <td>67500.0</td>\n",
              "      <td>180000.0</td>\n",
              "      <td>9000.0</td>\n",
              "      <td>180000.0</td>\n",
              "      <td>...</td>\n",
              "      <td>0</td>\n",
              "      <td>0</td>\n",
              "      <td>0</td>\n",
              "      <td>0</td>\n",
              "      <td>0.0</td>\n",
              "      <td>0.0</td>\n",
              "      <td>0.0</td>\n",
              "      <td>0.0</td>\n",
              "      <td>0.0</td>\n",
              "      <td>0.0</td>\n",
              "    </tr>\n",
              "  </tbody>\n",
              "</table>\n",
              "<p>150679 rows × 121 columns</p>\n",
              "</div>\n",
              "    <div class=\"colab-df-buttons\">\n",
              "\n",
              "  <div class=\"colab-df-container\">\n",
              "    <button class=\"colab-df-convert\" onclick=\"convertToInteractive('df-a0fceafa-690f-4e69-add2-b4c4494ea9ca')\"\n",
              "            title=\"Convert this dataframe to an interactive table.\"\n",
              "            style=\"display:none;\">\n",
              "\n",
              "  <svg xmlns=\"http://www.w3.org/2000/svg\" height=\"24px\" viewBox=\"0 -960 960 960\">\n",
              "    <path d=\"M120-120v-720h720v720H120Zm60-500h600v-160H180v160Zm220 220h160v-160H400v160Zm0 220h160v-160H400v160ZM180-400h160v-160H180v160Zm440 0h160v-160H620v160ZM180-180h160v-160H180v160Zm440 0h160v-160H620v160Z\"/>\n",
              "  </svg>\n",
              "    </button>\n",
              "\n",
              "  <style>\n",
              "    .colab-df-container {\n",
              "      display:flex;\n",
              "      gap: 12px;\n",
              "    }\n",
              "\n",
              "    .colab-df-convert {\n",
              "      background-color: #E8F0FE;\n",
              "      border: none;\n",
              "      border-radius: 50%;\n",
              "      cursor: pointer;\n",
              "      display: none;\n",
              "      fill: #1967D2;\n",
              "      height: 32px;\n",
              "      padding: 0 0 0 0;\n",
              "      width: 32px;\n",
              "    }\n",
              "\n",
              "    .colab-df-convert:hover {\n",
              "      background-color: #E2EBFA;\n",
              "      box-shadow: 0px 1px 2px rgba(60, 64, 67, 0.3), 0px 1px 3px 1px rgba(60, 64, 67, 0.15);\n",
              "      fill: #174EA6;\n",
              "    }\n",
              "\n",
              "    .colab-df-buttons div {\n",
              "      margin-bottom: 4px;\n",
              "    }\n",
              "\n",
              "    [theme=dark] .colab-df-convert {\n",
              "      background-color: #3B4455;\n",
              "      fill: #D2E3FC;\n",
              "    }\n",
              "\n",
              "    [theme=dark] .colab-df-convert:hover {\n",
              "      background-color: #434B5C;\n",
              "      box-shadow: 0px 1px 3px 1px rgba(0, 0, 0, 0.15);\n",
              "      filter: drop-shadow(0px 1px 2px rgba(0, 0, 0, 0.3));\n",
              "      fill: #FFFFFF;\n",
              "    }\n",
              "  </style>\n",
              "\n",
              "    <script>\n",
              "      const buttonEl =\n",
              "        document.querySelector('#df-a0fceafa-690f-4e69-add2-b4c4494ea9ca button.colab-df-convert');\n",
              "      buttonEl.style.display =\n",
              "        google.colab.kernel.accessAllowed ? 'block' : 'none';\n",
              "\n",
              "      async function convertToInteractive(key) {\n",
              "        const element = document.querySelector('#df-a0fceafa-690f-4e69-add2-b4c4494ea9ca');\n",
              "        const dataTable =\n",
              "          await google.colab.kernel.invokeFunction('convertToInteractive',\n",
              "                                                    [key], {});\n",
              "        if (!dataTable) return;\n",
              "\n",
              "        const docLinkHtml = 'Like what you see? Visit the ' +\n",
              "          '<a target=\"_blank\" href=https://colab.research.google.com/notebooks/data_table.ipynb>data table notebook</a>'\n",
              "          + ' to learn more about interactive tables.';\n",
              "        element.innerHTML = '';\n",
              "        dataTable['output_type'] = 'display_data';\n",
              "        await google.colab.output.renderOutput(dataTable, element);\n",
              "        const docLink = document.createElement('div');\n",
              "        docLink.innerHTML = docLinkHtml;\n",
              "        element.appendChild(docLink);\n",
              "      }\n",
              "    </script>\n",
              "  </div>\n",
              "\n",
              "\n",
              "<div id=\"df-265dc713-ddee-4d30-ab8e-857b98797945\">\n",
              "  <button class=\"colab-df-quickchart\" onclick=\"quickchart('df-265dc713-ddee-4d30-ab8e-857b98797945')\"\n",
              "            title=\"Suggest charts.\"\n",
              "            style=\"display:none;\">\n",
              "\n",
              "<svg xmlns=\"http://www.w3.org/2000/svg\" height=\"24px\"viewBox=\"0 0 24 24\"\n",
              "     width=\"24px\">\n",
              "    <g>\n",
              "        <path d=\"M19 3H5c-1.1 0-2 .9-2 2v14c0 1.1.9 2 2 2h14c1.1 0 2-.9 2-2V5c0-1.1-.9-2-2-2zM9 17H7v-7h2v7zm4 0h-2V7h2v10zm4 0h-2v-4h2v4z\"/>\n",
              "    </g>\n",
              "</svg>\n",
              "  </button>\n",
              "\n",
              "<style>\n",
              "  .colab-df-quickchart {\n",
              "      --bg-color: #E8F0FE;\n",
              "      --fill-color: #1967D2;\n",
              "      --hover-bg-color: #E2EBFA;\n",
              "      --hover-fill-color: #174EA6;\n",
              "      --disabled-fill-color: #AAA;\n",
              "      --disabled-bg-color: #DDD;\n",
              "  }\n",
              "\n",
              "  [theme=dark] .colab-df-quickchart {\n",
              "      --bg-color: #3B4455;\n",
              "      --fill-color: #D2E3FC;\n",
              "      --hover-bg-color: #434B5C;\n",
              "      --hover-fill-color: #FFFFFF;\n",
              "      --disabled-bg-color: #3B4455;\n",
              "      --disabled-fill-color: #666;\n",
              "  }\n",
              "\n",
              "  .colab-df-quickchart {\n",
              "    background-color: var(--bg-color);\n",
              "    border: none;\n",
              "    border-radius: 50%;\n",
              "    cursor: pointer;\n",
              "    display: none;\n",
              "    fill: var(--fill-color);\n",
              "    height: 32px;\n",
              "    padding: 0;\n",
              "    width: 32px;\n",
              "  }\n",
              "\n",
              "  .colab-df-quickchart:hover {\n",
              "    background-color: var(--hover-bg-color);\n",
              "    box-shadow: 0 1px 2px rgba(60, 64, 67, 0.3), 0 1px 3px 1px rgba(60, 64, 67, 0.15);\n",
              "    fill: var(--button-hover-fill-color);\n",
              "  }\n",
              "\n",
              "  .colab-df-quickchart-complete:disabled,\n",
              "  .colab-df-quickchart-complete:disabled:hover {\n",
              "    background-color: var(--disabled-bg-color);\n",
              "    fill: var(--disabled-fill-color);\n",
              "    box-shadow: none;\n",
              "  }\n",
              "\n",
              "  .colab-df-spinner {\n",
              "    border: 2px solid var(--fill-color);\n",
              "    border-color: transparent;\n",
              "    border-bottom-color: var(--fill-color);\n",
              "    animation:\n",
              "      spin 1s steps(1) infinite;\n",
              "  }\n",
              "\n",
              "  @keyframes spin {\n",
              "    0% {\n",
              "      border-color: transparent;\n",
              "      border-bottom-color: var(--fill-color);\n",
              "      border-left-color: var(--fill-color);\n",
              "    }\n",
              "    20% {\n",
              "      border-color: transparent;\n",
              "      border-left-color: var(--fill-color);\n",
              "      border-top-color: var(--fill-color);\n",
              "    }\n",
              "    30% {\n",
              "      border-color: transparent;\n",
              "      border-left-color: var(--fill-color);\n",
              "      border-top-color: var(--fill-color);\n",
              "      border-right-color: var(--fill-color);\n",
              "    }\n",
              "    40% {\n",
              "      border-color: transparent;\n",
              "      border-right-color: var(--fill-color);\n",
              "      border-top-color: var(--fill-color);\n",
              "    }\n",
              "    60% {\n",
              "      border-color: transparent;\n",
              "      border-right-color: var(--fill-color);\n",
              "    }\n",
              "    80% {\n",
              "      border-color: transparent;\n",
              "      border-right-color: var(--fill-color);\n",
              "      border-bottom-color: var(--fill-color);\n",
              "    }\n",
              "    90% {\n",
              "      border-color: transparent;\n",
              "      border-bottom-color: var(--fill-color);\n",
              "    }\n",
              "  }\n",
              "</style>\n",
              "\n",
              "  <script>\n",
              "    async function quickchart(key) {\n",
              "      const quickchartButtonEl =\n",
              "        document.querySelector('#' + key + ' button');\n",
              "      quickchartButtonEl.disabled = true;  // To prevent multiple clicks.\n",
              "      quickchartButtonEl.classList.add('colab-df-spinner');\n",
              "      try {\n",
              "        const charts = await google.colab.kernel.invokeFunction(\n",
              "            'suggestCharts', [key], {});\n",
              "      } catch (error) {\n",
              "        console.error('Error during call to suggestCharts:', error);\n",
              "      }\n",
              "      quickchartButtonEl.classList.remove('colab-df-spinner');\n",
              "      quickchartButtonEl.classList.add('colab-df-quickchart-complete');\n",
              "    }\n",
              "    (() => {\n",
              "      let quickchartButtonEl =\n",
              "        document.querySelector('#df-265dc713-ddee-4d30-ab8e-857b98797945 button');\n",
              "      quickchartButtonEl.style.display =\n",
              "        google.colab.kernel.accessAllowed ? 'block' : 'none';\n",
              "    })();\n",
              "  </script>\n",
              "</div>\n",
              "    </div>\n",
              "  </div>\n"
            ]
          },
          "metadata": {},
          "execution_count": 24
        }
      ],
      "source": [
        "# Revision datos de entrenamiento\n",
        "solicitudes_train = request_train_df.copy()\n",
        "solicitudes_train.index = solicitudes_train['SK_ID_CURR']\n",
        "solicitudes_train = solicitudes_train.drop(columns=['SK_ID_CURR'])\n",
        "solicitudes_train"
      ]
    },
    {
      "cell_type": "code",
      "execution_count": null,
      "metadata": {
        "colab": {
          "base_uri": "https://localhost:8080/",
          "height": 349
        },
        "id": "Ixw4RnVS5XCi",
        "outputId": "44f87e89-fa43-407a-b9fd-6e782322ccaf"
      },
      "outputs": [
        {
          "output_type": "execute_result",
          "data": {
            "text/plain": [
              "              TARGET   CNT_CHILDREN  AMT_INCOME_TOTAL    AMT_CREDIT  \\\n",
              "count  150679.000000  150679.000000      1.506790e+05  1.506790e+05   \n",
              "mean        0.080728       0.414842      1.681505e+05  5.993161e+05   \n",
              "std         0.272418       0.719823      1.099289e+05  4.015602e+05   \n",
              "min         0.000000       0.000000      2.610000e+04  4.500000e+04   \n",
              "25%         0.000000       0.000000      1.125000e+05  2.700000e+05   \n",
              "50%         0.000000       0.000000      1.485000e+05  5.174190e+05   \n",
              "75%         0.000000       1.000000      2.025000e+05  8.086500e+05   \n",
              "max         1.000000      19.000000      1.800009e+07  4.050000e+06   \n",
              "\n",
              "         AMT_ANNUITY  AMT_GOODS_PRICE  REGION_POPULATION_RELATIVE  \\\n",
              "count  150674.000000     1.505370e+05               150679.000000   \n",
              "mean    27136.709847     5.388100e+05                    0.020846   \n",
              "std     14482.075674     3.688241e+05                    0.013796   \n",
              "min      1993.500000     4.500000e+04                    0.000290   \n",
              "25%     16573.500000     2.385000e+05                    0.010006   \n",
              "50%     24939.000000     4.500000e+05                    0.018850   \n",
              "75%     34650.000000     6.795000e+05                    0.028663   \n",
              "max    258025.500000     4.050000e+06                    0.072508   \n",
              "\n",
              "          DAYS_BIRTH  DAYS_EMPLOYED  DAYS_REGISTRATION  ...  FLAG_DOCUMENT_18  \\\n",
              "count  150679.000000  150679.000000      150679.000000  ...     150679.000000   \n",
              "mean   -16048.431892   64027.408259       -4991.670910  ...          0.008176   \n",
              "std      4362.574783  141455.615395        3529.124251  ...          0.090053   \n",
              "min    -25201.000000  -17912.000000      -24672.000000  ...          0.000000   \n",
              "25%    -19695.000000   -2759.000000       -7492.000000  ...          0.000000   \n",
              "50%    -15770.000000   -1213.000000       -4506.000000  ...          0.000000   \n",
              "75%    -12429.000000    -288.000000       -2014.000000  ...          0.000000   \n",
              "max     -7673.000000  365243.000000           0.000000  ...          1.000000   \n",
              "\n",
              "       FLAG_DOCUMENT_19  FLAG_DOCUMENT_20  FLAG_DOCUMENT_21  \\\n",
              "count     150679.000000     150679.000000     150679.000000   \n",
              "mean           0.000571          0.000544          0.000378   \n",
              "std            0.023884          0.023322          0.019446   \n",
              "min            0.000000          0.000000          0.000000   \n",
              "25%            0.000000          0.000000          0.000000   \n",
              "50%            0.000000          0.000000          0.000000   \n",
              "75%            0.000000          0.000000          0.000000   \n",
              "max            1.000000          1.000000          1.000000   \n",
              "\n",
              "       AMT_REQ_CREDIT_BUREAU_HOUR  AMT_REQ_CREDIT_BUREAU_DAY  \\\n",
              "count               130255.000000              130255.000000   \n",
              "mean                     0.006602                   0.007447   \n",
              "std                      0.085236                   0.115804   \n",
              "min                      0.000000                   0.000000   \n",
              "25%                      0.000000                   0.000000   \n",
              "50%                      0.000000                   0.000000   \n",
              "75%                      0.000000                   0.000000   \n",
              "max                      4.000000                   9.000000   \n",
              "\n",
              "       AMT_REQ_CREDIT_BUREAU_WEEK  AMT_REQ_CREDIT_BUREAU_MON  \\\n",
              "count               130255.000000              130255.000000   \n",
              "mean                     0.034102                   0.262508   \n",
              "std                      0.202790                   0.896681   \n",
              "min                      0.000000                   0.000000   \n",
              "25%                      0.000000                   0.000000   \n",
              "50%                      0.000000                   0.000000   \n",
              "75%                      0.000000                   0.000000   \n",
              "max                      8.000000                  23.000000   \n",
              "\n",
              "       AMT_REQ_CREDIT_BUREAU_QRT  AMT_REQ_CREDIT_BUREAU_YEAR  \n",
              "count              130255.000000               130255.000000  \n",
              "mean                    0.264873                    1.900042  \n",
              "std                     0.612343                    1.865909  \n",
              "min                     0.000000                    0.000000  \n",
              "25%                     0.000000                    0.000000  \n",
              "50%                     0.000000                    1.000000  \n",
              "75%                     0.000000                    3.000000  \n",
              "max                     8.000000                   25.000000  \n",
              "\n",
              "[8 rows x 105 columns]"
            ],
            "text/html": [
              "\n",
              "  <div id=\"df-0c4ad857-7b0c-4088-b835-a9e787f7a95c\" class=\"colab-df-container\">\n",
              "    <div>\n",
              "<style scoped>\n",
              "    .dataframe tbody tr th:only-of-type {\n",
              "        vertical-align: middle;\n",
              "    }\n",
              "\n",
              "    .dataframe tbody tr th {\n",
              "        vertical-align: top;\n",
              "    }\n",
              "\n",
              "    .dataframe thead th {\n",
              "        text-align: right;\n",
              "    }\n",
              "</style>\n",
              "<table border=\"1\" class=\"dataframe\">\n",
              "  <thead>\n",
              "    <tr style=\"text-align: right;\">\n",
              "      <th></th>\n",
              "      <th>TARGET</th>\n",
              "      <th>CNT_CHILDREN</th>\n",
              "      <th>AMT_INCOME_TOTAL</th>\n",
              "      <th>AMT_CREDIT</th>\n",
              "      <th>AMT_ANNUITY</th>\n",
              "      <th>AMT_GOODS_PRICE</th>\n",
              "      <th>REGION_POPULATION_RELATIVE</th>\n",
              "      <th>DAYS_BIRTH</th>\n",
              "      <th>DAYS_EMPLOYED</th>\n",
              "      <th>DAYS_REGISTRATION</th>\n",
              "      <th>...</th>\n",
              "      <th>FLAG_DOCUMENT_18</th>\n",
              "      <th>FLAG_DOCUMENT_19</th>\n",
              "      <th>FLAG_DOCUMENT_20</th>\n",
              "      <th>FLAG_DOCUMENT_21</th>\n",
              "      <th>AMT_REQ_CREDIT_BUREAU_HOUR</th>\n",
              "      <th>AMT_REQ_CREDIT_BUREAU_DAY</th>\n",
              "      <th>AMT_REQ_CREDIT_BUREAU_WEEK</th>\n",
              "      <th>AMT_REQ_CREDIT_BUREAU_MON</th>\n",
              "      <th>AMT_REQ_CREDIT_BUREAU_QRT</th>\n",
              "      <th>AMT_REQ_CREDIT_BUREAU_YEAR</th>\n",
              "    </tr>\n",
              "  </thead>\n",
              "  <tbody>\n",
              "    <tr>\n",
              "      <th>count</th>\n",
              "      <td>150679.000000</td>\n",
              "      <td>150679.000000</td>\n",
              "      <td>1.506790e+05</td>\n",
              "      <td>1.506790e+05</td>\n",
              "      <td>150674.000000</td>\n",
              "      <td>1.505370e+05</td>\n",
              "      <td>150679.000000</td>\n",
              "      <td>150679.000000</td>\n",
              "      <td>150679.000000</td>\n",
              "      <td>150679.000000</td>\n",
              "      <td>...</td>\n",
              "      <td>150679.000000</td>\n",
              "      <td>150679.000000</td>\n",
              "      <td>150679.000000</td>\n",
              "      <td>150679.000000</td>\n",
              "      <td>130255.000000</td>\n",
              "      <td>130255.000000</td>\n",
              "      <td>130255.000000</td>\n",
              "      <td>130255.000000</td>\n",
              "      <td>130255.000000</td>\n",
              "      <td>130255.000000</td>\n",
              "    </tr>\n",
              "    <tr>\n",
              "      <th>mean</th>\n",
              "      <td>0.080728</td>\n",
              "      <td>0.414842</td>\n",
              "      <td>1.681505e+05</td>\n",
              "      <td>5.993161e+05</td>\n",
              "      <td>27136.709847</td>\n",
              "      <td>5.388100e+05</td>\n",
              "      <td>0.020846</td>\n",
              "      <td>-16048.431892</td>\n",
              "      <td>64027.408259</td>\n",
              "      <td>-4991.670910</td>\n",
              "      <td>...</td>\n",
              "      <td>0.008176</td>\n",
              "      <td>0.000571</td>\n",
              "      <td>0.000544</td>\n",
              "      <td>0.000378</td>\n",
              "      <td>0.006602</td>\n",
              "      <td>0.007447</td>\n",
              "      <td>0.034102</td>\n",
              "      <td>0.262508</td>\n",
              "      <td>0.264873</td>\n",
              "      <td>1.900042</td>\n",
              "    </tr>\n",
              "    <tr>\n",
              "      <th>std</th>\n",
              "      <td>0.272418</td>\n",
              "      <td>0.719823</td>\n",
              "      <td>1.099289e+05</td>\n",
              "      <td>4.015602e+05</td>\n",
              "      <td>14482.075674</td>\n",
              "      <td>3.688241e+05</td>\n",
              "      <td>0.013796</td>\n",
              "      <td>4362.574783</td>\n",
              "      <td>141455.615395</td>\n",
              "      <td>3529.124251</td>\n",
              "      <td>...</td>\n",
              "      <td>0.090053</td>\n",
              "      <td>0.023884</td>\n",
              "      <td>0.023322</td>\n",
              "      <td>0.019446</td>\n",
              "      <td>0.085236</td>\n",
              "      <td>0.115804</td>\n",
              "      <td>0.202790</td>\n",
              "      <td>0.896681</td>\n",
              "      <td>0.612343</td>\n",
              "      <td>1.865909</td>\n",
              "    </tr>\n",
              "    <tr>\n",
              "      <th>min</th>\n",
              "      <td>0.000000</td>\n",
              "      <td>0.000000</td>\n",
              "      <td>2.610000e+04</td>\n",
              "      <td>4.500000e+04</td>\n",
              "      <td>1993.500000</td>\n",
              "      <td>4.500000e+04</td>\n",
              "      <td>0.000290</td>\n",
              "      <td>-25201.000000</td>\n",
              "      <td>-17912.000000</td>\n",
              "      <td>-24672.000000</td>\n",
              "      <td>...</td>\n",
              "      <td>0.000000</td>\n",
              "      <td>0.000000</td>\n",
              "      <td>0.000000</td>\n",
              "      <td>0.000000</td>\n",
              "      <td>0.000000</td>\n",
              "      <td>0.000000</td>\n",
              "      <td>0.000000</td>\n",
              "      <td>0.000000</td>\n",
              "      <td>0.000000</td>\n",
              "      <td>0.000000</td>\n",
              "    </tr>\n",
              "    <tr>\n",
              "      <th>25%</th>\n",
              "      <td>0.000000</td>\n",
              "      <td>0.000000</td>\n",
              "      <td>1.125000e+05</td>\n",
              "      <td>2.700000e+05</td>\n",
              "      <td>16573.500000</td>\n",
              "      <td>2.385000e+05</td>\n",
              "      <td>0.010006</td>\n",
              "      <td>-19695.000000</td>\n",
              "      <td>-2759.000000</td>\n",
              "      <td>-7492.000000</td>\n",
              "      <td>...</td>\n",
              "      <td>0.000000</td>\n",
              "      <td>0.000000</td>\n",
              "      <td>0.000000</td>\n",
              "      <td>0.000000</td>\n",
              "      <td>0.000000</td>\n",
              "      <td>0.000000</td>\n",
              "      <td>0.000000</td>\n",
              "      <td>0.000000</td>\n",
              "      <td>0.000000</td>\n",
              "      <td>0.000000</td>\n",
              "    </tr>\n",
              "    <tr>\n",
              "      <th>50%</th>\n",
              "      <td>0.000000</td>\n",
              "      <td>0.000000</td>\n",
              "      <td>1.485000e+05</td>\n",
              "      <td>5.174190e+05</td>\n",
              "      <td>24939.000000</td>\n",
              "      <td>4.500000e+05</td>\n",
              "      <td>0.018850</td>\n",
              "      <td>-15770.000000</td>\n",
              "      <td>-1213.000000</td>\n",
              "      <td>-4506.000000</td>\n",
              "      <td>...</td>\n",
              "      <td>0.000000</td>\n",
              "      <td>0.000000</td>\n",
              "      <td>0.000000</td>\n",
              "      <td>0.000000</td>\n",
              "      <td>0.000000</td>\n",
              "      <td>0.000000</td>\n",
              "      <td>0.000000</td>\n",
              "      <td>0.000000</td>\n",
              "      <td>0.000000</td>\n",
              "      <td>1.000000</td>\n",
              "    </tr>\n",
              "    <tr>\n",
              "      <th>75%</th>\n",
              "      <td>0.000000</td>\n",
              "      <td>1.000000</td>\n",
              "      <td>2.025000e+05</td>\n",
              "      <td>8.086500e+05</td>\n",
              "      <td>34650.000000</td>\n",
              "      <td>6.795000e+05</td>\n",
              "      <td>0.028663</td>\n",
              "      <td>-12429.000000</td>\n",
              "      <td>-288.000000</td>\n",
              "      <td>-2014.000000</td>\n",
              "      <td>...</td>\n",
              "      <td>0.000000</td>\n",
              "      <td>0.000000</td>\n",
              "      <td>0.000000</td>\n",
              "      <td>0.000000</td>\n",
              "      <td>0.000000</td>\n",
              "      <td>0.000000</td>\n",
              "      <td>0.000000</td>\n",
              "      <td>0.000000</td>\n",
              "      <td>0.000000</td>\n",
              "      <td>3.000000</td>\n",
              "    </tr>\n",
              "    <tr>\n",
              "      <th>max</th>\n",
              "      <td>1.000000</td>\n",
              "      <td>19.000000</td>\n",
              "      <td>1.800009e+07</td>\n",
              "      <td>4.050000e+06</td>\n",
              "      <td>258025.500000</td>\n",
              "      <td>4.050000e+06</td>\n",
              "      <td>0.072508</td>\n",
              "      <td>-7673.000000</td>\n",
              "      <td>365243.000000</td>\n",
              "      <td>0.000000</td>\n",
              "      <td>...</td>\n",
              "      <td>1.000000</td>\n",
              "      <td>1.000000</td>\n",
              "      <td>1.000000</td>\n",
              "      <td>1.000000</td>\n",
              "      <td>4.000000</td>\n",
              "      <td>9.000000</td>\n",
              "      <td>8.000000</td>\n",
              "      <td>23.000000</td>\n",
              "      <td>8.000000</td>\n",
              "      <td>25.000000</td>\n",
              "    </tr>\n",
              "  </tbody>\n",
              "</table>\n",
              "<p>8 rows × 105 columns</p>\n",
              "</div>\n",
              "    <div class=\"colab-df-buttons\">\n",
              "\n",
              "  <div class=\"colab-df-container\">\n",
              "    <button class=\"colab-df-convert\" onclick=\"convertToInteractive('df-0c4ad857-7b0c-4088-b835-a9e787f7a95c')\"\n",
              "            title=\"Convert this dataframe to an interactive table.\"\n",
              "            style=\"display:none;\">\n",
              "\n",
              "  <svg xmlns=\"http://www.w3.org/2000/svg\" height=\"24px\" viewBox=\"0 -960 960 960\">\n",
              "    <path d=\"M120-120v-720h720v720H120Zm60-500h600v-160H180v160Zm220 220h160v-160H400v160Zm0 220h160v-160H400v160ZM180-400h160v-160H180v160Zm440 0h160v-160H620v160ZM180-180h160v-160H180v160Zm440 0h160v-160H620v160Z\"/>\n",
              "  </svg>\n",
              "    </button>\n",
              "\n",
              "  <style>\n",
              "    .colab-df-container {\n",
              "      display:flex;\n",
              "      gap: 12px;\n",
              "    }\n",
              "\n",
              "    .colab-df-convert {\n",
              "      background-color: #E8F0FE;\n",
              "      border: none;\n",
              "      border-radius: 50%;\n",
              "      cursor: pointer;\n",
              "      display: none;\n",
              "      fill: #1967D2;\n",
              "      height: 32px;\n",
              "      padding: 0 0 0 0;\n",
              "      width: 32px;\n",
              "    }\n",
              "\n",
              "    .colab-df-convert:hover {\n",
              "      background-color: #E2EBFA;\n",
              "      box-shadow: 0px 1px 2px rgba(60, 64, 67, 0.3), 0px 1px 3px 1px rgba(60, 64, 67, 0.15);\n",
              "      fill: #174EA6;\n",
              "    }\n",
              "\n",
              "    .colab-df-buttons div {\n",
              "      margin-bottom: 4px;\n",
              "    }\n",
              "\n",
              "    [theme=dark] .colab-df-convert {\n",
              "      background-color: #3B4455;\n",
              "      fill: #D2E3FC;\n",
              "    }\n",
              "\n",
              "    [theme=dark] .colab-df-convert:hover {\n",
              "      background-color: #434B5C;\n",
              "      box-shadow: 0px 1px 3px 1px rgba(0, 0, 0, 0.15);\n",
              "      filter: drop-shadow(0px 1px 2px rgba(0, 0, 0, 0.3));\n",
              "      fill: #FFFFFF;\n",
              "    }\n",
              "  </style>\n",
              "\n",
              "    <script>\n",
              "      const buttonEl =\n",
              "        document.querySelector('#df-0c4ad857-7b0c-4088-b835-a9e787f7a95c button.colab-df-convert');\n",
              "      buttonEl.style.display =\n",
              "        google.colab.kernel.accessAllowed ? 'block' : 'none';\n",
              "\n",
              "      async function convertToInteractive(key) {\n",
              "        const element = document.querySelector('#df-0c4ad857-7b0c-4088-b835-a9e787f7a95c');\n",
              "        const dataTable =\n",
              "          await google.colab.kernel.invokeFunction('convertToInteractive',\n",
              "                                                    [key], {});\n",
              "        if (!dataTable) return;\n",
              "\n",
              "        const docLinkHtml = 'Like what you see? Visit the ' +\n",
              "          '<a target=\"_blank\" href=https://colab.research.google.com/notebooks/data_table.ipynb>data table notebook</a>'\n",
              "          + ' to learn more about interactive tables.';\n",
              "        element.innerHTML = '';\n",
              "        dataTable['output_type'] = 'display_data';\n",
              "        await google.colab.output.renderOutput(dataTable, element);\n",
              "        const docLink = document.createElement('div');\n",
              "        docLink.innerHTML = docLinkHtml;\n",
              "        element.appendChild(docLink);\n",
              "      }\n",
              "    </script>\n",
              "  </div>\n",
              "\n",
              "\n",
              "<div id=\"df-bb66e336-726d-40f0-b444-b58ed52c169d\">\n",
              "  <button class=\"colab-df-quickchart\" onclick=\"quickchart('df-bb66e336-726d-40f0-b444-b58ed52c169d')\"\n",
              "            title=\"Suggest charts.\"\n",
              "            style=\"display:none;\">\n",
              "\n",
              "<svg xmlns=\"http://www.w3.org/2000/svg\" height=\"24px\"viewBox=\"0 0 24 24\"\n",
              "     width=\"24px\">\n",
              "    <g>\n",
              "        <path d=\"M19 3H5c-1.1 0-2 .9-2 2v14c0 1.1.9 2 2 2h14c1.1 0 2-.9 2-2V5c0-1.1-.9-2-2-2zM9 17H7v-7h2v7zm4 0h-2V7h2v10zm4 0h-2v-4h2v4z\"/>\n",
              "    </g>\n",
              "</svg>\n",
              "  </button>\n",
              "\n",
              "<style>\n",
              "  .colab-df-quickchart {\n",
              "      --bg-color: #E8F0FE;\n",
              "      --fill-color: #1967D2;\n",
              "      --hover-bg-color: #E2EBFA;\n",
              "      --hover-fill-color: #174EA6;\n",
              "      --disabled-fill-color: #AAA;\n",
              "      --disabled-bg-color: #DDD;\n",
              "  }\n",
              "\n",
              "  [theme=dark] .colab-df-quickchart {\n",
              "      --bg-color: #3B4455;\n",
              "      --fill-color: #D2E3FC;\n",
              "      --hover-bg-color: #434B5C;\n",
              "      --hover-fill-color: #FFFFFF;\n",
              "      --disabled-bg-color: #3B4455;\n",
              "      --disabled-fill-color: #666;\n",
              "  }\n",
              "\n",
              "  .colab-df-quickchart {\n",
              "    background-color: var(--bg-color);\n",
              "    border: none;\n",
              "    border-radius: 50%;\n",
              "    cursor: pointer;\n",
              "    display: none;\n",
              "    fill: var(--fill-color);\n",
              "    height: 32px;\n",
              "    padding: 0;\n",
              "    width: 32px;\n",
              "  }\n",
              "\n",
              "  .colab-df-quickchart:hover {\n",
              "    background-color: var(--hover-bg-color);\n",
              "    box-shadow: 0 1px 2px rgba(60, 64, 67, 0.3), 0 1px 3px 1px rgba(60, 64, 67, 0.15);\n",
              "    fill: var(--button-hover-fill-color);\n",
              "  }\n",
              "\n",
              "  .colab-df-quickchart-complete:disabled,\n",
              "  .colab-df-quickchart-complete:disabled:hover {\n",
              "    background-color: var(--disabled-bg-color);\n",
              "    fill: var(--disabled-fill-color);\n",
              "    box-shadow: none;\n",
              "  }\n",
              "\n",
              "  .colab-df-spinner {\n",
              "    border: 2px solid var(--fill-color);\n",
              "    border-color: transparent;\n",
              "    border-bottom-color: var(--fill-color);\n",
              "    animation:\n",
              "      spin 1s steps(1) infinite;\n",
              "  }\n",
              "\n",
              "  @keyframes spin {\n",
              "    0% {\n",
              "      border-color: transparent;\n",
              "      border-bottom-color: var(--fill-color);\n",
              "      border-left-color: var(--fill-color);\n",
              "    }\n",
              "    20% {\n",
              "      border-color: transparent;\n",
              "      border-left-color: var(--fill-color);\n",
              "      border-top-color: var(--fill-color);\n",
              "    }\n",
              "    30% {\n",
              "      border-color: transparent;\n",
              "      border-left-color: var(--fill-color);\n",
              "      border-top-color: var(--fill-color);\n",
              "      border-right-color: var(--fill-color);\n",
              "    }\n",
              "    40% {\n",
              "      border-color: transparent;\n",
              "      border-right-color: var(--fill-color);\n",
              "      border-top-color: var(--fill-color);\n",
              "    }\n",
              "    60% {\n",
              "      border-color: transparent;\n",
              "      border-right-color: var(--fill-color);\n",
              "    }\n",
              "    80% {\n",
              "      border-color: transparent;\n",
              "      border-right-color: var(--fill-color);\n",
              "      border-bottom-color: var(--fill-color);\n",
              "    }\n",
              "    90% {\n",
              "      border-color: transparent;\n",
              "      border-bottom-color: var(--fill-color);\n",
              "    }\n",
              "  }\n",
              "</style>\n",
              "\n",
              "  <script>\n",
              "    async function quickchart(key) {\n",
              "      const quickchartButtonEl =\n",
              "        document.querySelector('#' + key + ' button');\n",
              "      quickchartButtonEl.disabled = true;  // To prevent multiple clicks.\n",
              "      quickchartButtonEl.classList.add('colab-df-spinner');\n",
              "      try {\n",
              "        const charts = await google.colab.kernel.invokeFunction(\n",
              "            'suggestCharts', [key], {});\n",
              "      } catch (error) {\n",
              "        console.error('Error during call to suggestCharts:', error);\n",
              "      }\n",
              "      quickchartButtonEl.classList.remove('colab-df-spinner');\n",
              "      quickchartButtonEl.classList.add('colab-df-quickchart-complete');\n",
              "    }\n",
              "    (() => {\n",
              "      let quickchartButtonEl =\n",
              "        document.querySelector('#df-bb66e336-726d-40f0-b444-b58ed52c169d button');\n",
              "      quickchartButtonEl.style.display =\n",
              "        google.colab.kernel.accessAllowed ? 'block' : 'none';\n",
              "    })();\n",
              "  </script>\n",
              "</div>\n",
              "    </div>\n",
              "  </div>\n"
            ]
          },
          "metadata": {},
          "execution_count": 25
        }
      ],
      "source": [
        "# Descripcion datos entrenamiento\n",
        "solicitudes_train.describe()"
      ]
    },
    {
      "cell_type": "code",
      "execution_count": null,
      "metadata": {
        "colab": {
          "base_uri": "https://localhost:8080/",
          "height": 471
        },
        "id": "EEX-g2DP5Z3x",
        "outputId": "f1f49a7f-7109-4a06-87b5-6972ad03779a"
      },
      "outputs": [
        {
          "output_type": "display_data",
          "data": {
            "text/plain": [
              "<Figure size 700x400 with 1 Axes>"
            ],
            "image/png": "[encoded data removed]"
          },
          "metadata": {}
        },
        {
          "output_type": "execute_result",
          "data": {
            "text/plain": [
              "0    138515\n",
              "1     12164\n",
              "Name: TARGET, dtype: int64"
            ]
          },
          "metadata": {},
          "execution_count": 26
        }
      ],
      "source": [
        "# Distribucion de variable TARGET\n",
        "fig, ax = plt.subplots(figsize=(7,4),nrows=1)\n",
        "sns.countplot(x = 'TARGET', data=solicitudes_train, palette=\"pastel\", ax = ax)\n",
        "ax.set_title('Distribución de variable TARGET')\n",
        "plt.show()\n",
        "\n",
        "solicitudes_train['TARGET'].value_counts()"
      ]
    },
    {
      "cell_type": "markdown",
      "metadata": {
        "id": "QiN4idVn5ceO"
      },
      "source": [
        "Podemos darnos cuenta de que nos encontramos ante un dataset altamente desbalanceado, ya que la proporción de 0s y 1s es 11,4:1 aproximadamente. Debido a esto, para lograr un buen rendimiento de los modelos a implementar deberemos utilizar técnicas de undersampling y/o oversampling sobre la data para lograr un balance. Para este caso se aplicarán ambas tecnicas, llevando ambos valores a un rango medio entre ellos para evitar que la variación de uno solo sea brusca.\n",
        "\n",
        "Otra forma que también puede usarse (y se utilizó) para el balanceo es el agregar pesos. El regresor logistico permite hacer esto."
      ]
    },
    {
      "cell_type": "code",
      "execution_count": null,
      "metadata": {
        "colab": {
          "base_uri": "https://localhost:8080/"
        },
        "id": "S1yndcgc5bY2",
        "outputId": "6283307c-7f13-4a5f-cbc5-b9231e50d1fb"
      },
      "outputs": [
        {
          "output_type": "stream",
          "name": "stdout",
          "text": [
            "Cantidad de filas y columnas de los datos de entrenamiento\n",
            "150679\n",
            "121\n"
          ]
        }
      ],
      "source": [
        "# Cantidad de filas y columnas de datos de entrenamiento y prueba\n",
        "\n",
        "print(\"Cantidad de filas y columnas de los datos de entrenamiento\")\n",
        "print(solicitudes_train.shape[0])\n",
        "print(solicitudes_train.shape[1])"
      ]
    },
    {
      "cell_type": "code",
      "execution_count": null,
      "metadata": {
        "colab": {
          "base_uri": "https://localhost:8080/"
        },
        "id": "3sExz5iH5joQ",
        "outputId": "eea6e100-9a9c-4757-a895-03f305c52fe6"
      },
      "outputs": [
        {
          "output_type": "stream",
          "name": "stdout",
          "text": [
            "Cantidad de NaN por columna en datos de entrenamiento: \n",
            "\n",
            "COMMONAREA_AVG              105261\n",
            "COMMONAREA_MODE             105261\n",
            "COMMONAREA_MEDI             105261\n",
            "NONLIVINGAPARTMENTS_AVG     104582\n",
            "NONLIVINGAPARTMENTS_MODE    104582\n",
            "NONLIVINGAPARTMENTS_MEDI    104582\n",
            "FONDKAPREMONT_MODE          102975\n",
            "LIVINGAPARTMENTS_MEDI       102961\n",
            "LIVINGAPARTMENTS_AVG        102961\n",
            "LIVINGAPARTMENTS_MODE       102961\n",
            "FLOORSMIN_AVG               102178\n",
            "FLOORSMIN_MODE              102178\n",
            "FLOORSMIN_MEDI              102178\n",
            "YEARS_BUILD_AVG             100136\n",
            "YEARS_BUILD_MEDI            100136\n",
            "YEARS_BUILD_MODE            100136\n",
            "OWN_CAR_AGE                  99515\n",
            "LANDAREA_MEDI                89304\n",
            "LANDAREA_AVG                 89304\n",
            "LANDAREA_MODE                89304\n",
            "dtype: int64\n"
          ]
        }
      ],
      "source": [
        "# Cantidad de datos faltantes por columna en los datos de entrenamiento\n",
        "print(\"Cantidad de NaN por columna en datos de entrenamiento: \\n\")\n",
        "print(solicitudes_train.isnull().sum(axis = 0).sort_values(ascending=False).head(20))"
      ]
    },
    {
      "cell_type": "markdown",
      "metadata": {
        "id": "jf9PuDSy5l98"
      },
      "source": [
        "Notar que las 20 columnas revisadas (16,5% del total de columnas) tienen NaN y todas tienen sobre el 59% de sus filas sin datos."
      ]
    },
    {
      "cell_type": "markdown",
      "metadata": {
        "id": "C1jhqODC5pV4"
      },
      "source": [
        "Antes de proceder con la visualización de datos, primero reemplazaremos los datos nulos en el dataset de entrenamiento y en el de prueba.\n",
        "\n",
        "Para datos categóricos y/o strings, se completarán los datos nulos con la moda, mientras que para datos de tipo numérticos, estos serán reemplazados con la mediana."
      ]
    },
    {
      "cell_type": "code",
      "execution_count": null,
      "metadata": {
        "id": "c5KODwYo5rFq"
      },
      "outputs": [],
      "source": [
        "def completar_nulos(df):\n",
        "\n",
        "    data_copy = df.copy()\n",
        "    # Revisión de si las columnas son numéricas o no\n",
        "    int_columns = data_copy.select_dtypes(include=['int64']).columns.tolist()\n",
        "    float_columns = data_copy.select_dtypes(include=['float64']).columns.tolist()\n",
        "    numericas = float_columns + int_columns\n",
        "\n",
        "    string_columns = data_copy.select_dtypes(exclude=[np.number]).columns.tolist()\n",
        "\n",
        "    for column in numericas:\n",
        "        data_copy[column] = data_copy[column].fillna((data_copy[column].median()))\n",
        "\n",
        "    for column in string_columns:\n",
        "        data_copy[column].fillna(data_copy[column].mode()[0], inplace=True)\n",
        "\n",
        "    return data_copy\n",
        "\n",
        "solicitudes_train_completo = completar_nulos(solicitudes_train)"
      ]
    },
    {
      "cell_type": "code",
      "execution_count": null,
      "metadata": {
        "colab": {
          "base_uri": "https://localhost:8080/"
        },
        "id": "cAPE-V7R5uYm",
        "outputId": "f09af015-a7e8-4f9a-b85e-5ea4e3e0f589"
      },
      "outputs": [
        {
          "output_type": "stream",
          "name": "stdout",
          "text": [
            "0\n"
          ]
        }
      ],
      "source": [
        "print(solicitudes_train_completo.isnull().sum(axis = 0).sum())"
      ]
    },
    {
      "cell_type": "markdown",
      "metadata": {
        "id": "Y2d-O4Ai5xU5"
      },
      "source": [
        "Ahora procederemos a visualizar la data de varias columnas."
      ]
    },
    {
      "cell_type": "code",
      "execution_count": null,
      "metadata": {
        "colab": {
          "base_uri": "https://localhost:8080/",
          "height": 488
        },
        "id": "esvB1LZY5zxO",
        "outputId": "fa2835af-7f8f-466c-b830-42dae8de7123"
      },
      "outputs": [
        {
          "output_type": "display_data",
          "data": {
            "text/plain": [
              "<Figure size 700x400 with 1 Axes>"
            ],
            "image/png": "[encoded data removed]"
          },
          "metadata": {}
        },
        {
          "output_type": "execute_result",
          "data": {
            "text/plain": [
              "F      99488\n",
              "M      51189\n",
              "XNA        2\n",
              "Name: CODE_GENDER, dtype: int64"
            ]
          },
          "metadata": {},
          "execution_count": 31
        }
      ],
      "source": [
        "# Distribución de datos por genero\n",
        "\n",
        "fig, ax = plt.subplots(figsize=(7,4),nrows=1)\n",
        "sns.countplot(x = 'CODE_GENDER', data=solicitudes_train_completo, palette=\"pastel\", ax = ax)\n",
        "ax.set_title('Distribución por genero')\n",
        "plt.show()\n",
        "\n",
        "solicitudes_train['CODE_GENDER'].value_counts()"
      ]
    },
    {
      "cell_type": "code",
      "execution_count": null,
      "metadata": {
        "colab": {
          "base_uri": "https://localhost:8080/"
        },
        "id": "dbfe8eDG6ENt",
        "outputId": "62ed9d4f-3bb6-48f1-f96f-aa4d7a560cba"
      },
      "outputs": [
        {
          "output_type": "execute_result",
          "data": {
            "text/plain": [
              "CODE_GENDER  TARGET\n",
              "F            0         92567\n",
              "             1          6921\n",
              "M            0         45946\n",
              "             1          5243\n",
              "XNA          0             2\n",
              "Name: TARGET, dtype: int64"
            ]
          },
          "metadata": {},
          "execution_count": 32
        }
      ],
      "source": [
        "# Distribución deuda pagada por genero\n",
        "groupGen = solicitudes_train_completo.groupby(['CODE_GENDER'])['TARGET'].value_counts()\n",
        "groupGen"
      ]
    },
    {
      "cell_type": "markdown",
      "metadata": {
        "id": "lvKqXcK6803A"
      },
      "source": [
        "Femenino: 7% no paga (6921 personas)\n",
        "\n",
        "Masculino: 10% no paga (5243 personas)"
      ]
    },
    {
      "cell_type": "code",
      "execution_count": null,
      "metadata": {
        "colab": {
          "base_uri": "https://localhost:8080/"
        },
        "id": "fAhdnrv96Ff9",
        "outputId": "9a4f34b2-4cc0-4f6b-a16b-9f50956acd9c"
      },
      "outputs": [
        {
          "output_type": "execute_result",
          "data": {
            "text/plain": [
              "count    1.506790e+05\n",
              "mean     1.681505e+05\n",
              "std      1.099289e+05\n",
              "min      2.610000e+04\n",
              "25%      1.125000e+05\n",
              "50%      1.485000e+05\n",
              "75%      2.025000e+05\n",
              "max      1.800009e+07\n",
              "Name: AMT_INCOME_TOTAL, dtype: float64"
            ]
          },
          "metadata": {},
          "execution_count": 33
        }
      ],
      "source": [
        "# Descripción de datos de ingresos\n",
        "\n",
        "solicitudes_train_completo['AMT_INCOME_TOTAL'].describe()"
      ]
    },
    {
      "cell_type": "code",
      "execution_count": null,
      "metadata": {
        "colab": {
          "base_uri": "https://localhost:8080/",
          "height": 479
        },
        "id": "_9QdziW16HNS",
        "outputId": "42742960-13d3-4ff6-df72-71c10ac2c4cc"
      },
      "outputs": [
        {
          "output_type": "display_data",
          "data": {
            "text/plain": [
              "<Figure size 1700x500 with 1 Axes>"
            ],
            "image/png": "[encoded data removed]"
          },
          "metadata": {}
        }
      ],
      "source": [
        "plt.figure(figsize=(17,5))\n",
        "plt.xlabel('Monto del ingreso')\n",
        "plt.title('Distribución monto de ingresos')\n",
        "sns.histplot(solicitudes_train_completo['AMT_INCOME_TOTAL'],bins=200,kde=False)\n",
        "plt.axvline(x=solicitudes_train_completo['AMT_INCOME_TOTAL'].median(),\n",
        "            linestyle='--',\n",
        "            color='green',\n",
        "            label='Median: {} USD'.format(int(np.median(solicitudes_train_completo['AMT_INCOME_TOTAL']))))\n",
        "\n",
        "plt.axvline(x=solicitudes_train_completo['AMT_INCOME_TOTAL'].mean(),\n",
        "            linestyle=':',\n",
        "            color='red',\n",
        "            label='Mean: {} USD'.format(int(np.mean(solicitudes_train_completo['AMT_INCOME_TOTAL']))))\n",
        "\n",
        "plt.legend(loc=0)\n",
        "\n",
        "x_ticks = [100000,  2000000, 4000000, 10000000, 20000000]\n",
        "x_labels = ['100,000', '2,000,000', '4,000,000', '10,000,000', '20,000,000']\n",
        "\n",
        "plt.xticks(x_ticks, x_labels)\n",
        "\n",
        "plt.show()"
      ]
    },
    {
      "cell_type": "markdown",
      "metadata": {
        "id": "yiVgsZ3X6KA2"
      },
      "source": [
        "La gráfica anterior no deja ver claramente la distribución, ya que los datos que pasan de 450.000 son muy pocos y hacen que el gráfico se vea desbalanceado.\n",
        "\n",
        "Debido a esto , tomamos el 99% de los datos que se encuentran entre 0 y 450.000 e hicimos nuevamente el gráfico donde podemos tener una mejor apreciación de la distribución."
      ]
    },
    {
      "cell_type": "code",
      "execution_count": null,
      "metadata": {
        "colab": {
          "base_uri": "https://localhost:8080/"
        },
        "id": "XRX9Rumd6L6P",
        "outputId": "d2f871ff-a589-4ed8-e276-e083c9d33a9d"
      },
      "outputs": [
        {
          "output_type": "stream",
          "name": "stdout",
          "text": [
            "450000.0\n"
          ]
        }
      ],
      "source": [
        "#np.array(solicitudes_train_completo['AMT_INCOME_TOTAL']).percentile(0.8)\n",
        "print(np.percentile(solicitudes_train_completo['AMT_INCOME_TOTAL'],99))"
      ]
    },
    {
      "cell_type": "code",
      "execution_count": null,
      "metadata": {
        "id": "RH-k3uEC6NVm"
      },
      "outputs": [],
      "source": [
        "solicitudes_train_99 = solicitudes_train_completo[solicitudes_train_completo['AMT_INCOME_TOTAL'] <= 450000]"
      ]
    },
    {
      "cell_type": "code",
      "execution_count": null,
      "metadata": {
        "colab": {
          "base_uri": "https://localhost:8080/",
          "height": 493
        },
        "id": "PhQCuv8b6O5g",
        "outputId": "f58ae446-c344-4718-c613-c472e3421a30"
      },
      "outputs": [
        {
          "output_type": "display_data",
          "data": {
            "text/plain": [
              "<Figure size 1700x500 with 1 Axes>"
            ],
            "image/png": "[encoded data removed]"
          },
          "metadata": {}
        }
      ],
      "source": [
        "plt.figure(figsize=(17,5))\n",
        "plt.xlabel('Monto del ingreso')\n",
        "plt.title('Distribución monto de ingresos')\n",
        "sns.histplot(solicitudes_train_99['AMT_INCOME_TOTAL'],bins=200,kde=False)\n",
        "plt.axvline(x=solicitudes_train_completo['AMT_INCOME_TOTAL'].median(),\n",
        "            linestyle='--',\n",
        "            color='green',\n",
        "            label='Median: {} USD'.format(int(np.median(solicitudes_train_completo['AMT_INCOME_TOTAL']))))\n",
        "\n",
        "plt.axvline(x=solicitudes_train_completo['AMT_INCOME_TOTAL'].mean(),\n",
        "            linestyle=':',\n",
        "            color='red',\n",
        "            label='Mean: {} USD'.format(int(np.mean(solicitudes_train_completo['AMT_INCOME_TOTAL']))))\n",
        "\n",
        "plt.legend(loc=0)\n",
        "\n",
        "#x_ticks = [100000,  2000000, 4000000, 10000000, 20000000]\n",
        "#x_labels = ['100,000', '2,000,000', '4,000,000', '10,000,000', '20,000,000']\n",
        "\n",
        "#plt.xticks(x_ticks, x_labels)\n",
        "\n",
        "plt.show()"
      ]
    },
    {
      "cell_type": "code",
      "execution_count": null,
      "metadata": {
        "colab": {
          "base_uri": "https://localhost:8080/"
        },
        "id": "g-LWf84u6RUC",
        "outputId": "55f0abac-b6d3-48fe-8878-6ebcd71cc160"
      },
      "outputs": [
        {
          "output_type": "execute_result",
          "data": {
            "text/plain": [
              "count    1.506790e+05\n",
              "mean     5.993161e+05\n",
              "std      4.015602e+05\n",
              "min      4.500000e+04\n",
              "25%      2.700000e+05\n",
              "50%      5.174190e+05\n",
              "75%      8.086500e+05\n",
              "max      4.050000e+06\n",
              "Name: AMT_CREDIT, dtype: float64"
            ]
          },
          "metadata": {},
          "execution_count": 38
        }
      ],
      "source": [
        "solicitudes_train_completo['AMT_CREDIT'].describe()"
      ]
    },
    {
      "cell_type": "code",
      "execution_count": null,
      "metadata": {
        "colab": {
          "base_uri": "https://localhost:8080/",
          "height": 497
        },
        "id": "YzHs7iUq6TK8",
        "outputId": "60bb3282-fe15-4a97-deba-a5bd068f85cc"
      },
      "outputs": [
        {
          "output_type": "display_data",
          "data": {
            "text/plain": [
              "<Figure size 1700x500 with 1 Axes>"
            ],
            "image/png": "[encoded data removed]"
          },
          "metadata": {}
        }
      ],
      "source": [
        "plt.figure(figsize=(17,5))\n",
        "plt.xlabel('Monto del préstamo')\n",
        "plt.title('Distribución monto de los préstamos')\n",
        "sns.histplot(solicitudes_train_completo['AMT_CREDIT'],bins=200,kde=False)\n",
        "plt.axvline(x=solicitudes_train_completo['AMT_CREDIT'].median(),\n",
        "            linestyle='--',\n",
        "            color='green',\n",
        "            label='Median: {} USD'.format(int(np.median(solicitudes_train_completo['AMT_CREDIT']))))\n",
        "\n",
        "plt.axvline(x=solicitudes_train_completo['AMT_CREDIT'].mean(),\n",
        "            linestyle=':',\n",
        "            color='red',\n",
        "            label='Mean: {} USD'.format(int(np.mean(solicitudes_train_completo['AMT_CREDIT']))))\n",
        "\n",
        "plt.legend(loc=0)\n",
        "\n",
        "x_ticks = [100000, 500000, 1000000, 2000000, 4100000]\n",
        "x_labels = ['100,000', '500,000', '1,000,000', '2,000,000', '4,100,000']\n",
        "\n",
        "plt.xticks(x_ticks, x_labels)\n",
        "\n",
        "plt.show()"
      ]
    },
    {
      "cell_type": "code",
      "execution_count": null,
      "metadata": {
        "colab": {
          "base_uri": "https://localhost:8080/",
          "height": 385
        },
        "id": "sFsblq2y6U0M",
        "outputId": "7e4ea0d8-0d4a-4c61-f007-942dee19b7a4"
      },
      "outputs": [
        {
          "output_type": "display_data",
          "data": {
            "text/plain": [
              "<Figure size 2000x500 with 1 Axes>"
            ],
            "image/png": "[encoded data removed]"
          },
          "metadata": {}
        }
      ],
      "source": [
        "tipoEduc = solicitudes_train_completo.groupby(['NAME_EDUCATION_TYPE']).size().reset_index(name='counts')\n",
        "tipoEduc = tipoEduc.sort_values(by='counts', ascending=False)\n",
        "\n",
        "fig, ax = plt.subplots(figsize=(20,5),nrows=1)\n",
        "sns.barplot(data=tipoEduc, y='NAME_EDUCATION_TYPE', x='counts', palette=\"viridis\",ax=ax)\n",
        "ax.set_title('Número de clientes por nivel educacional alcanzado')\n",
        "plt.show()"
      ]
    },
    {
      "cell_type": "code",
      "execution_count": null,
      "metadata": {
        "colab": {
          "base_uri": "https://localhost:8080/"
        },
        "id": "DKMyto6F6Wyv",
        "outputId": "05faa211-d41d-41c2-b283-cc1c2feaa688"
      },
      "outputs": [
        {
          "output_type": "execute_result",
          "data": {
            "text/plain": [
              "NAME_EDUCATION_TYPE            TARGET\n",
              "Academic degree                0            70\n",
              "                               1             1\n",
              "Higher education               0         34676\n",
              "                               1          1972\n",
              "Incomplete higher              0          4594\n",
              "                               1           408\n",
              "Lower secondary                0          1683\n",
              "                               1           211\n",
              "Secondary / secondary special  0         97492\n",
              "                               1          9572\n",
              "Name: TARGET, dtype: int64"
            ]
          },
          "metadata": {},
          "execution_count": 41
        }
      ],
      "source": [
        "group = solicitudes_train_completo.groupby(['NAME_EDUCATION_TYPE'])['TARGET'].value_counts()\n",
        "group"
      ]
    },
    {
      "cell_type": "markdown",
      "metadata": {
        "id": "uSdbJx_z6YTg"
      },
      "source": [
        "Hay una fuerte relación entre que menor sea su nivel educacional, más probable es que no paguen su credito."
      ]
    },
    {
      "cell_type": "code",
      "execution_count": null,
      "metadata": {
        "colab": {
          "base_uri": "https://localhost:8080/",
          "height": 400
        },
        "id": "ym_MBZdY6a4-",
        "outputId": "8553ab26-a2f5-44ee-a93e-1ddd13f43404"
      },
      "outputs": [
        {
          "output_type": "display_data",
          "data": {
            "text/plain": [
              "<Figure size 2000x500 with 1 Axes>"
            ],
            "image/png": "[encoded data removed]"
          },
          "metadata": {}
        }
      ],
      "source": [
        "ocupacion = solicitudes_train_completo.groupby(['OCCUPATION_TYPE']).mean()['AMT_INCOME_TOTAL'].reset_index(name='mean')\n",
        "ocupacion = ocupacion.sort_values(by='mean',ascending=False)\n",
        "\n",
        "fig, ax = plt.subplots(figsize=(20,5),nrows=1)\n",
        "sns.barplot(data=ocupacion, y='OCCUPATION_TYPE', x='mean', palette=\"pastel\",ax=ax)\n",
        "ax.set_xlabel('Salario medio')\n",
        "ax.set_title('Ingreso medio por tipo de ocupación')\n",
        "plt.show()"
      ]
    },
    {
      "cell_type": "code",
      "execution_count": null,
      "metadata": {
        "colab": {
          "base_uri": "https://localhost:8080/"
        },
        "id": "yJ6q1Q4-6c_4",
        "outputId": "5bdc2f1f-53c1-4317-bc4a-bb769c197c6a"
      },
      "outputs": [
        {
          "output_type": "execute_result",
          "data": {
            "text/plain": [
              "OCCUPATION_TYPE        TARGET\n",
              "Accountants            0          4619\n",
              "                       1           214\n",
              "Cleaning staff         0          2095\n",
              "                       1           220\n",
              "Cooking staff          0          2636\n",
              "                       1           308\n",
              "Core staff             0         12473\n",
              "                       1           845\n",
              "Drivers                0          8169\n",
              "                       1          1071\n",
              "HR staff               0           267\n",
              "                       1            19\n",
              "High skill tech staff  0          5147\n",
              "                       1           341\n",
              "IT staff               0           250\n",
              "                       1            17\n",
              "Laborers               0         68455\n",
              "                       1          5924\n",
              "Low-skill Laborers     0           860\n",
              "                       1           179\n",
              "Managers               0          9859\n",
              "                       1           670\n",
              "Medicine staff         0          3937\n",
              "                       1           280\n",
              "Private service staff  0          1220\n",
              "                       1            81\n",
              "Realty agents          0           320\n",
              "                       1            29\n",
              "Sales staff            0         14122\n",
              "                       1          1512\n",
              "Secretaries            0           592\n",
              "                       1            40\n",
              "Security staff         0          2918\n",
              "                       1           342\n",
              "Waiters/barmen staff   0           576\n",
              "                       1            72\n",
              "Name: TARGET, dtype: int64"
            ]
          },
          "metadata": {},
          "execution_count": 43
        }
      ],
      "source": [
        "groupy = solicitudes_train_completo.groupby(['OCCUPATION_TYPE'])['TARGET'].value_counts()\n",
        "groupy"
      ]
    },
    {
      "cell_type": "code",
      "execution_count": null,
      "metadata": {
        "colab": {
          "base_uri": "https://localhost:8080/",
          "height": 497
        },
        "id": "O8HeLpz06gHT",
        "outputId": "550386ed-dda1-44d8-d24d-2e2bf39b4789"
      },
      "outputs": [
        {
          "output_type": "execute_result",
          "data": {
            "text/plain": [
              "Text(0.5, 1.0, 'Count of TARGET by OCCUPATION_TYPE')"
            ]
          },
          "metadata": {},
          "execution_count": 44
        },
        {
          "output_type": "display_data",
          "data": {
            "text/plain": [
              "<Figure size 640x480 with 1 Axes>"
            ],
            "image/png": "[encoded data removed]"
          },
          "metadata": {}
        }
      ],
      "source": [
        "# GRAFICO A CAMBIAR, SE VE HORRIBLE\n",
        "groupy_df = groupy.reset_index(name='COUNT')\n",
        "sns.barplot(data=groupy_df.reset_index(), x='OCCUPATION_TYPE', y='TARGET')\n",
        "\n",
        "plt.xlabel('OCCUPATION_TYPE')\n",
        "plt.ylabel('Count')\n",
        "plt.title('Count of TARGET by OCCUPATION_TYPE')"
      ]
    },
    {
      "cell_type": "markdown",
      "metadata": {
        "id": "kckaSdJA6iAd"
      },
      "source": [
        "La gente con trabajos de baja habilidad son quienes presentan el mayor porcentaje (21%) de clientes que no pagan."
      ]
    },
    {
      "cell_type": "code",
      "execution_count": null,
      "metadata": {
        "colab": {
          "base_uri": "https://localhost:8080/"
        },
        "id": "6QzuAxAR6jkX",
        "outputId": "b5fb62db-778a-4b0f-f109-7affd8461c85"
      },
      "outputs": [
        {
          "output_type": "execute_result",
          "data": {
            "text/plain": [
              "count    150679.000000\n",
              "mean     -16048.431892\n",
              "std        4362.574783\n",
              "min      -25201.000000\n",
              "25%      -19695.000000\n",
              "50%      -15770.000000\n",
              "75%      -12429.000000\n",
              "max       -7673.000000\n",
              "Name: DAYS_BIRTH, dtype: float64"
            ]
          },
          "metadata": {},
          "execution_count": 45
        }
      ],
      "source": [
        "solicitudes_train_completo['DAYS_BIRTH'].describe()"
      ]
    },
    {
      "cell_type": "markdown",
      "metadata": {
        "id": "88Hx2QNM-Dej"
      },
      "source": [
        "Mayor: 69 años\n",
        "\n",
        "Menor: 21 años"
      ]
    },
    {
      "cell_type": "markdown",
      "metadata": {
        "id": "aB6TMmguwPS2"
      },
      "source": [
        "# Codificacion"
      ]
    },
    {
      "cell_type": "markdown",
      "metadata": {
        "id": "gvJlt2pXwPS2"
      },
      "source": [
        "## Borrando NaNs"
      ]
    },
    {
      "cell_type": "code",
      "execution_count": null,
      "metadata": {
        "colab": {
          "base_uri": "https://localhost:8080/",
          "height": 443
        },
        "id": "9cuJV1fOXQCQ",
        "outputId": "43b92fe9-4e04-4183-8dfc-5832159a5315",
        "scrolled": true
      },
      "outputs": [
        {
          "output_type": "execute_result",
          "data": {
            "text/plain": [
              "        SK_ID_CURR  TARGET NAME_CONTRACT_TYPE CODE_GENDER FLAG_OWN_CAR  \\\n",
              "0           331475       0         Cash loans           F            Y   \n",
              "1           366488       0         Cash loans           F            N   \n",
              "2           444791       0         Cash loans           F            N   \n",
              "3           112960       0    Revolving loans           F            N   \n",
              "4           418735       0    Revolving loans           F            N   \n",
              "...            ...     ...                ...         ...          ...   \n",
              "150674      244356       0         Cash loans           M            N   \n",
              "150675      213955       0         Cash loans           F            N   \n",
              "150676      376877       0    Revolving loans           F            N   \n",
              "150677      246747       0         Cash loans           F            N   \n",
              "150678      224980       0    Revolving loans           F            N   \n",
              "\n",
              "       FLAG_OWN_REALTY  CNT_CHILDREN  AMT_INCOME_TOTAL  AMT_CREDIT  \\\n",
              "0                    Y             0          135000.0    835380.0   \n",
              "1                    Y             0          103500.0    659533.5   \n",
              "2                    Y             0          135000.0    219042.0   \n",
              "3                    Y             0           67500.0    675000.0   \n",
              "4                    Y             0          315000.0    900000.0   \n",
              "...                ...           ...               ...         ...   \n",
              "150674               Y             0          112500.0    112068.0   \n",
              "150675               Y             0          135000.0    781920.0   \n",
              "150676               Y             0          135000.0    202500.0   \n",
              "150677               N             1          135000.0    508495.5   \n",
              "150678               Y             1           67500.0    180000.0   \n",
              "\n",
              "       NAME_INCOME_TYPE  ... FLAG_DOCUMENT_12 FLAG_DOCUMENT_13  \\\n",
              "0             Pensioner  ...                0                0   \n",
              "1             Pensioner  ...                0                0   \n",
              "2               Working  ...                0                0   \n",
              "3               Working  ...                0                0   \n",
              "4             Pensioner  ...                0                0   \n",
              "...                 ...  ...              ...              ...   \n",
              "150674          Working  ...                0                0   \n",
              "150675    State servant  ...                0                0   \n",
              "150676        Pensioner  ...                0                0   \n",
              "150677          Working  ...                0                0   \n",
              "150678          Working  ...                0                0   \n",
              "\n",
              "       FLAG_DOCUMENT_14  FLAG_DOCUMENT_15  FLAG_DOCUMENT_16  FLAG_DOCUMENT_17  \\\n",
              "0                     0                 0                 0                 0   \n",
              "1                     0                 0                 0                 0   \n",
              "2                     0                 0                 0                 0   \n",
              "3                     0                 0                 0                 0   \n",
              "4                     0                 0                 0                 0   \n",
              "...                 ...               ...               ...               ...   \n",
              "150674                0                 0                 0                 0   \n",
              "150675                0                 0                 0                 0   \n",
              "150676                0                 0                 0                 0   \n",
              "150677                0                 0                 0                 0   \n",
              "150678                0                 0                 0                 0   \n",
              "\n",
              "        FLAG_DOCUMENT_18  FLAG_DOCUMENT_19  FLAG_DOCUMENT_20  FLAG_DOCUMENT_21  \n",
              "0                      0                 0                 0                 0  \n",
              "1                      0                 0                 0                 0  \n",
              "2                      0                 0                 0                 0  \n",
              "3                      0                 0                 0                 0  \n",
              "4                      0                 0                 0                 0  \n",
              "...                  ...               ...               ...               ...  \n",
              "150674                 0                 0                 0                 0  \n",
              "150675                 0                 0                 0                 0  \n",
              "150676                 0                 0                 0                 0  \n",
              "150677                 0                 0                 0                 0  \n",
              "150678                 0                 0                 0                 0  \n",
              "\n",
              "[150679 rows x 56 columns]"
            ],
            "text/html": [
              "\n",
              "  <div id=\"df-3637db2a-6738-451a-ae6a-30961f370dd3\" class=\"colab-df-container\">\n",
              "    <div>\n",
              "<style scoped>\n",
              "    .dataframe tbody tr th:only-of-type {\n",
              "        vertical-align: middle;\n",
              "    }\n",
              "\n",
              "    .dataframe tbody tr th {\n",
              "        vertical-align: top;\n",
              "    }\n",
              "\n",
              "    .dataframe thead th {\n",
              "        text-align: right;\n",
              "    }\n",
              "</style>\n",
              "<table border=\"1\" class=\"dataframe\">\n",
              "  <thead>\n",
              "    <tr style=\"text-align: right;\">\n",
              "      <th></th>\n",
              "      <th>SK_ID_CURR</th>\n",
              "      <th>TARGET</th>\n",
              "      <th>NAME_CONTRACT_TYPE</th>\n",
              "      <th>CODE_GENDER</th>\n",
              "      <th>FLAG_OWN_CAR</th>\n",
              "      <th>FLAG_OWN_REALTY</th>\n",
              "      <th>CNT_CHILDREN</th>\n",
              "      <th>AMT_INCOME_TOTAL</th>\n",
              "      <th>AMT_CREDIT</th>\n",
              "      <th>NAME_INCOME_TYPE</th>\n",
              "      <th>...</th>\n",
              "      <th>FLAG_DOCUMENT_12</th>\n",
              "      <th>FLAG_DOCUMENT_13</th>\n",
              "      <th>FLAG_DOCUMENT_14</th>\n",
              "      <th>FLAG_DOCUMENT_15</th>\n",
              "      <th>FLAG_DOCUMENT_16</th>\n",
              "      <th>FLAG_DOCUMENT_17</th>\n",
              "      <th>FLAG_DOCUMENT_18</th>\n",
              "      <th>FLAG_DOCUMENT_19</th>\n",
              "      <th>FLAG_DOCUMENT_20</th>\n",
              "      <th>FLAG_DOCUMENT_21</th>\n",
              "    </tr>\n",
              "  </thead>\n",
              "  <tbody>\n",
              "    <tr>\n",
              "      <th>0</th>\n",
              "      <td>331475</td>\n",
              "      <td>0</td>\n",
              "      <td>Cash loans</td>\n",
              "      <td>F</td>\n",
              "      <td>Y</td>\n",
              "      <td>Y</td>\n",
              "      <td>0</td>\n",
              "      <td>135000.0</td>\n",
              "      <td>835380.0</td>\n",
              "      <td>Pensioner</td>\n",
              "      <td>...</td>\n",
              "      <td>0</td>\n",
              "      <td>0</td>\n",
              "      <td>0</td>\n",
              "      <td>0</td>\n",
              "      <td>0</td>\n",
              "      <td>0</td>\n",
              "      <td>0</td>\n",
              "      <td>0</td>\n",
              "      <td>0</td>\n",
              "      <td>0</td>\n",
              "    </tr>\n",
              "    <tr>\n",
              "      <th>1</th>\n",
              "      <td>366488</td>\n",
              "      <td>0</td>\n",
              "      <td>Cash loans</td>\n",
              "      <td>F</td>\n",
              "      <td>N</td>\n",
              "      <td>Y</td>\n",
              "      <td>0</td>\n",
              "      <td>103500.0</td>\n",
              "      <td>659533.5</td>\n",
              "      <td>Pensioner</td>\n",
              "      <td>...</td>\n",
              "      <td>0</td>\n",
              "      <td>0</td>\n",
              "      <td>0</td>\n",
              "      <td>0</td>\n",
              "      <td>0</td>\n",
              "      <td>0</td>\n",
              "      <td>0</td>\n",
              "      <td>0</td>\n",
              "      <td>0</td>\n",
              "      <td>0</td>\n",
              "    </tr>\n",
              "    <tr>\n",
              "      <th>2</th>\n",
              "      <td>444791</td>\n",
              "      <td>0</td>\n",
              "      <td>Cash loans</td>\n",
              "      <td>F</td>\n",
              "      <td>N</td>\n",
              "      <td>Y</td>\n",
              "      <td>0</td>\n",
              "      <td>135000.0</td>\n",
              "      <td>219042.0</td>\n",
              "      <td>Working</td>\n",
              "      <td>...</td>\n",
              "      <td>0</td>\n",
              "      <td>0</td>\n",
              "      <td>0</td>\n",
              "      <td>0</td>\n",
              "      <td>0</td>\n",
              "      <td>0</td>\n",
              "      <td>0</td>\n",
              "      <td>0</td>\n",
              "      <td>0</td>\n",
              "      <td>0</td>\n",
              "    </tr>\n",
              "    <tr>\n",
              "      <th>3</th>\n",
              "      <td>112960</td>\n",
              "      <td>0</td>\n",
              "      <td>Revolving loans</td>\n",
              "      <td>F</td>\n",
              "      <td>N</td>\n",
              "      <td>Y</td>\n",
              "      <td>0</td>\n",
              "      <td>67500.0</td>\n",
              "      <td>675000.0</td>\n",
              "      <td>Working</td>\n",
              "      <td>...</td>\n",
              "      <td>0</td>\n",
              "      <td>0</td>\n",
              "      <td>0</td>\n",
              "      <td>0</td>\n",
              "      <td>0</td>\n",
              "      <td>0</td>\n",
              "      <td>0</td>\n",
              "      <td>0</td>\n",
              "      <td>0</td>\n",
              "      <td>0</td>\n",
              "    </tr>\n",
              "    <tr>\n",
              "      <th>4</th>\n",
              "      <td>418735</td>\n",
              "      <td>0</td>\n",
              "      <td>Revolving loans</td>\n",
              "      <td>F</td>\n",
              "      <td>N</td>\n",
              "      <td>Y</td>\n",
              "      <td>0</td>\n",
              "      <td>315000.0</td>\n",
              "      <td>900000.0</td>\n",
              "      <td>Pensioner</td>\n",
              "      <td>...</td>\n",
              "      <td>0</td>\n",
              "      <td>0</td>\n",
              "      <td>0</td>\n",
              "      <td>0</td>\n",
              "      <td>0</td>\n",
              "      <td>0</td>\n",
              "      <td>0</td>\n",
              "      <td>0</td>\n",
              "      <td>0</td>\n",
              "      <td>0</td>\n",
              "    </tr>\n",
              "    <tr>\n",
              "      <th>...</th>\n",
              "      <td>...</td>\n",
              "      <td>...</td>\n",
              "      <td>...</td>\n",
              "      <td>...</td>\n",
              "      <td>...</td>\n",
              "      <td>...</td>\n",
              "      <td>...</td>\n",
              "      <td>...</td>\n",
              "      <td>...</td>\n",
              "      <td>...</td>\n",
              "      <td>...</td>\n",
              "      <td>...</td>\n",
              "      <td>...</td>\n",
              "      <td>...</td>\n",
              "      <td>...</td>\n",
              "      <td>...</td>\n",
              "      <td>...</td>\n",
              "      <td>...</td>\n",
              "      <td>...</td>\n",
              "      <td>...</td>\n",
              "      <td>...</td>\n",
              "    </tr>\n",
              "    <tr>\n",
              "      <th>150674</th>\n",
              "      <td>244356</td>\n",
              "      <td>0</td>\n",
              "      <td>Cash loans</td>\n",
              "      <td>M</td>\n",
              "      <td>N</td>\n",
              "      <td>Y</td>\n",
              "      <td>0</td>\n",
              "      <td>112500.0</td>\n",
              "      <td>112068.0</td>\n",
              "      <td>Working</td>\n",
              "      <td>...</td>\n",
              "      <td>0</td>\n",
              "      <td>0</td>\n",
              "      <td>0</td>\n",
              "      <td>0</td>\n",
              "      <td>0</td>\n",
              "      <td>0</td>\n",
              "      <td>0</td>\n",
              "      <td>0</td>\n",
              "      <td>0</td>\n",
              "      <td>0</td>\n",
              "    </tr>\n",
              "    <tr>\n",
              "      <th>150675</th>\n",
              "      <td>213955</td>\n",
              "      <td>0</td>\n",
              "      <td>Cash loans</td>\n",
              "      <td>F</td>\n",
              "      <td>N</td>\n",
              "      <td>Y</td>\n",
              "      <td>0</td>\n",
              "      <td>135000.0</td>\n",
              "      <td>781920.0</td>\n",
              "      <td>State servant</td>\n",
              "      <td>...</td>\n",
              "      <td>0</td>\n",
              "      <td>0</td>\n",
              "      <td>0</td>\n",
              "      <td>0</td>\n",
              "      <td>0</td>\n",
              "      <td>0</td>\n",
              "      <td>0</td>\n",
              "      <td>0</td>\n",
              "      <td>0</td>\n",
              "      <td>0</td>\n",
              "    </tr>\n",
              "    <tr>\n",
              "      <th>150676</th>\n",
              "      <td>376877</td>\n",
              "      <td>0</td>\n",
              "      <td>Revolving loans</td>\n",
              "      <td>F</td>\n",
              "      <td>N</td>\n",
              "      <td>Y</td>\n",
              "      <td>0</td>\n",
              "      <td>135000.0</td>\n",
              "      <td>202500.0</td>\n",
              "      <td>Pensioner</td>\n",
              "      <td>...</td>\n",
              "      <td>0</td>\n",
              "      <td>0</td>\n",
              "      <td>0</td>\n",
              "      <td>0</td>\n",
              "      <td>0</td>\n",
              "      <td>0</td>\n",
              "      <td>0</td>\n",
              "      <td>0</td>\n",
              "      <td>0</td>\n",
              "      <td>0</td>\n",
              "    </tr>\n",
              "    <tr>\n",
              "      <th>150677</th>\n",
              "      <td>246747</td>\n",
              "      <td>0</td>\n",
              "      <td>Cash loans</td>\n",
              "      <td>F</td>\n",
              "      <td>N</td>\n",
              "      <td>N</td>\n",
              "      <td>1</td>\n",
              "      <td>135000.0</td>\n",
              "      <td>508495.5</td>\n",
              "      <td>Working</td>\n",
              "      <td>...</td>\n",
              "      <td>0</td>\n",
              "      <td>0</td>\n",
              "      <td>0</td>\n",
              "      <td>0</td>\n",
              "      <td>0</td>\n",
              "      <td>0</td>\n",
              "      <td>0</td>\n",
              "      <td>0</td>\n",
              "      <td>0</td>\n",
              "      <td>0</td>\n",
              "    </tr>\n",
              "    <tr>\n",
              "      <th>150678</th>\n",
              "      <td>224980</td>\n",
              "      <td>0</td>\n",
              "      <td>Revolving loans</td>\n",
              "      <td>F</td>\n",
              "      <td>N</td>\n",
              "      <td>Y</td>\n",
              "      <td>1</td>\n",
              "      <td>67500.0</td>\n",
              "      <td>180000.0</td>\n",
              "      <td>Working</td>\n",
              "      <td>...</td>\n",
              "      <td>0</td>\n",
              "      <td>0</td>\n",
              "      <td>0</td>\n",
              "      <td>0</td>\n",
              "      <td>0</td>\n",
              "      <td>0</td>\n",
              "      <td>0</td>\n",
              "      <td>0</td>\n",
              "      <td>0</td>\n",
              "      <td>0</td>\n",
              "    </tr>\n",
              "  </tbody>\n",
              "</table>\n",
              "<p>150679 rows × 56 columns</p>\n",
              "</div>\n",
              "    <div class=\"colab-df-buttons\">\n",
              "\n",
              "  <div class=\"colab-df-container\">\n",
              "    <button class=\"colab-df-convert\" onclick=\"convertToInteractive('df-3637db2a-6738-451a-ae6a-30961f370dd3')\"\n",
              "            title=\"Convert this dataframe to an interactive table.\"\n",
              "            style=\"display:none;\">\n",
              "\n",
              "  <svg xmlns=\"http://www.w3.org/2000/svg\" height=\"24px\" viewBox=\"0 -960 960 960\">\n",
              "    <path d=\"M120-120v-720h720v720H120Zm60-500h600v-160H180v160Zm220 220h160v-160H400v160Zm0 220h160v-160H400v160ZM180-400h160v-160H180v160Zm440 0h160v-160H620v160ZM180-180h160v-160H180v160Zm440 0h160v-160H620v160Z\"/>\n",
              "  </svg>\n",
              "    </button>\n",
              "\n",
              "  <style>\n",
              "    .colab-df-container {\n",
              "      display:flex;\n",
              "      gap: 12px;\n",
              "    }\n",
              "\n",
              "    .colab-df-convert {\n",
              "      background-color: #E8F0FE;\n",
              "      border: none;\n",
              "      border-radius: 50%;\n",
              "      cursor: pointer;\n",
              "      display: none;\n",
              "      fill: #1967D2;\n",
              "      height: 32px;\n",
              "      padding: 0 0 0 0;\n",
              "      width: 32px;\n",
              "    }\n",
              "\n",
              "    .colab-df-convert:hover {\n",
              "      background-color: #E2EBFA;\n",
              "      box-shadow: 0px 1px 2px rgba(60, 64, 67, 0.3), 0px 1px 3px 1px rgba(60, 64, 67, 0.15);\n",
              "      fill: #174EA6;\n",
              "    }\n",
              "\n",
              "    .colab-df-buttons div {\n",
              "      margin-bottom: 4px;\n",
              "    }\n",
              "\n",
              "    [theme=dark] .colab-df-convert {\n",
              "      background-color: #3B4455;\n",
              "      fill: #D2E3FC;\n",
              "    }\n",
              "\n",
              "    [theme=dark] .colab-df-convert:hover {\n",
              "      background-color: #434B5C;\n",
              "      box-shadow: 0px 1px 3px 1px rgba(0, 0, 0, 0.15);\n",
              "      filter: drop-shadow(0px 1px 2px rgba(0, 0, 0, 0.3));\n",
              "      fill: #FFFFFF;\n",
              "    }\n",
              "  </style>\n",
              "\n",
              "    <script>\n",
              "      const buttonEl =\n",
              "        document.querySelector('#df-3637db2a-6738-451a-ae6a-30961f370dd3 button.colab-df-convert');\n",
              "      buttonEl.style.display =\n",
              "        google.colab.kernel.accessAllowed ? 'block' : 'none';\n",
              "\n",
              "      async function convertToInteractive(key) {\n",
              "        const element = document.querySelector('#df-3637db2a-6738-451a-ae6a-30961f370dd3');\n",
              "        const dataTable =\n",
              "          await google.colab.kernel.invokeFunction('convertToInteractive',\n",
              "                                                    [key], {});\n",
              "        if (!dataTable) return;\n",
              "\n",
              "        const docLinkHtml = 'Like what you see? Visit the ' +\n",
              "          '<a target=\"_blank\" href=https://colab.research.google.com/notebooks/data_table.ipynb>data table notebook</a>'\n",
              "          + ' to learn more about interactive tables.';\n",
              "        element.innerHTML = '';\n",
              "        dataTable['output_type'] = 'display_data';\n",
              "        await google.colab.output.renderOutput(dataTable, element);\n",
              "        const docLink = document.createElement('div');\n",
              "        docLink.innerHTML = docLinkHtml;\n",
              "        element.appendChild(docLink);\n",
              "      }\n",
              "    </script>\n",
              "  </div>\n",
              "\n",
              "\n",
              "<div id=\"df-811e6f29-cae1-4b77-be80-ea2c4e1665e4\">\n",
              "  <button class=\"colab-df-quickchart\" onclick=\"quickchart('df-811e6f29-cae1-4b77-be80-ea2c4e1665e4')\"\n",
              "            title=\"Suggest charts.\"\n",
              "            style=\"display:none;\">\n",
              "\n",
              "<svg xmlns=\"http://www.w3.org/2000/svg\" height=\"24px\"viewBox=\"0 0 24 24\"\n",
              "     width=\"24px\">\n",
              "    <g>\n",
              "        <path d=\"M19 3H5c-1.1 0-2 .9-2 2v14c0 1.1.9 2 2 2h14c1.1 0 2-.9 2-2V5c0-1.1-.9-2-2-2zM9 17H7v-7h2v7zm4 0h-2V7h2v10zm4 0h-2v-4h2v4z\"/>\n",
              "    </g>\n",
              "</svg>\n",
              "  </button>\n",
              "\n",
              "<style>\n",
              "  .colab-df-quickchart {\n",
              "      --bg-color: #E8F0FE;\n",
              "      --fill-color: #1967D2;\n",
              "      --hover-bg-color: #E2EBFA;\n",
              "      --hover-fill-color: #174EA6;\n",
              "      --disabled-fill-color: #AAA;\n",
              "      --disabled-bg-color: #DDD;\n",
              "  }\n",
              "\n",
              "  [theme=dark] .colab-df-quickchart {\n",
              "      --bg-color: #3B4455;\n",
              "      --fill-color: #D2E3FC;\n",
              "      --hover-bg-color: #434B5C;\n",
              "      --hover-fill-color: #FFFFFF;\n",
              "      --disabled-bg-color: #3B4455;\n",
              "      --disabled-fill-color: #666;\n",
              "  }\n",
              "\n",
              "  .colab-df-quickchart {\n",
              "    background-color: var(--bg-color);\n",
              "    border: none;\n",
              "    border-radius: 50%;\n",
              "    cursor: pointer;\n",
              "    display: none;\n",
              "    fill: var(--fill-color);\n",
              "    height: 32px;\n",
              "    padding: 0;\n",
              "    width: 32px;\n",
              "  }\n",
              "\n",
              "  .colab-df-quickchart:hover {\n",
              "    background-color: var(--hover-bg-color);\n",
              "    box-shadow: 0 1px 2px rgba(60, 64, 67, 0.3), 0 1px 3px 1px rgba(60, 64, 67, 0.15);\n",
              "    fill: var(--button-hover-fill-color);\n",
              "  }\n",
              "\n",
              "  .colab-df-quickchart-complete:disabled,\n",
              "  .colab-df-quickchart-complete:disabled:hover {\n",
              "    background-color: var(--disabled-bg-color);\n",
              "    fill: var(--disabled-fill-color);\n",
              "    box-shadow: none;\n",
              "  }\n",
              "\n",
              "  .colab-df-spinner {\n",
              "    border: 2px solid var(--fill-color);\n",
              "    border-color: transparent;\n",
              "    border-bottom-color: var(--fill-color);\n",
              "    animation:\n",
              "      spin 1s steps(1) infinite;\n",
              "  }\n",
              "\n",
              "  @keyframes spin {\n",
              "    0% {\n",
              "      border-color: transparent;\n",
              "      border-bottom-color: var(--fill-color);\n",
              "      border-left-color: var(--fill-color);\n",
              "    }\n",
              "    20% {\n",
              "      border-color: transparent;\n",
              "      border-left-color: var(--fill-color);\n",
              "      border-top-color: var(--fill-color);\n",
              "    }\n",
              "    30% {\n",
              "      border-color: transparent;\n",
              "      border-left-color: var(--fill-color);\n",
              "      border-top-color: var(--fill-color);\n",
              "      border-right-color: var(--fill-color);\n",
              "    }\n",
              "    40% {\n",
              "      border-color: transparent;\n",
              "      border-right-color: var(--fill-color);\n",
              "      border-top-color: var(--fill-color);\n",
              "    }\n",
              "    60% {\n",
              "      border-color: transparent;\n",
              "      border-right-color: var(--fill-color);\n",
              "    }\n",
              "    80% {\n",
              "      border-color: transparent;\n",
              "      border-right-color: var(--fill-color);\n",
              "      border-bottom-color: var(--fill-color);\n",
              "    }\n",
              "    90% {\n",
              "      border-color: transparent;\n",
              "      border-bottom-color: var(--fill-color);\n",
              "    }\n",
              "  }\n",
              "</style>\n",
              "\n",
              "  <script>\n",
              "    async function quickchart(key) {\n",
              "      const quickchartButtonEl =\n",
              "        document.querySelector('#' + key + ' button');\n",
              "      quickchartButtonEl.disabled = true;  // To prevent multiple clicks.\n",
              "      quickchartButtonEl.classList.add('colab-df-spinner');\n",
              "      try {\n",
              "        const charts = await google.colab.kernel.invokeFunction(\n",
              "            'suggestCharts', [key], {});\n",
              "      } catch (error) {\n",
              "        console.error('Error during call to suggestCharts:', error);\n",
              "      }\n",
              "      quickchartButtonEl.classList.remove('colab-df-spinner');\n",
              "      quickchartButtonEl.classList.add('colab-df-quickchart-complete');\n",
              "    }\n",
              "    (() => {\n",
              "      let quickchartButtonEl =\n",
              "        document.querySelector('#df-811e6f29-cae1-4b77-be80-ea2c4e1665e4 button');\n",
              "      quickchartButtonEl.style.display =\n",
              "        google.colab.kernel.accessAllowed ? 'block' : 'none';\n",
              "    })();\n",
              "  </script>\n",
              "</div>\n",
              "    </div>\n",
              "  </div>\n"
            ]
          },
          "metadata": {},
          "execution_count": 46
        }
      ],
      "source": [
        "nans_cols = []\n",
        "for idx, row in pd.DataFrame(request_train_df.isna().sum()).iterrows():\n",
        "  if row[0] == 0:\n",
        "    nans_cols.append(idx)\n",
        "\n",
        "# Importante la utilización de copy para que python explicite un nuevo espacio de memoria para nuevo dataframe\n",
        "request_train_filtered_df = request_train_df[nans_cols].copy()\n",
        "request_train_filtered_df"
      ]
    },
    {
      "cell_type": "code",
      "execution_count": null,
      "metadata": {
        "colab": {
          "base_uri": "https://localhost:8080/"
        },
        "id": "gnH1T24kwPS3",
        "outputId": "8b1fcf7c-2a05-4523-b58b-a3d7d9d4fe3c",
        "scrolled": true
      },
      "outputs": [
        {
          "output_type": "execute_result",
          "data": {
            "text/plain": [
              "['NAME_CONTRACT_TYPE',\n",
              " 'CODE_GENDER',\n",
              " 'FLAG_OWN_CAR',\n",
              " 'FLAG_OWN_REALTY',\n",
              " 'NAME_INCOME_TYPE',\n",
              " 'NAME_EDUCATION_TYPE',\n",
              " 'NAME_FAMILY_STATUS',\n",
              " 'NAME_HOUSING_TYPE',\n",
              " 'ORGANIZATION_TYPE']"
            ]
          },
          "metadata": {},
          "execution_count": 47
        }
      ],
      "source": [
        "objectColumns = request_train_filtered_df.select_dtypes(include=['object']).columns.tolist()\n",
        "objectColumns.remove('WEEKDAY_APPR_PROCESS_START')\n",
        "objectColumns"
      ]
    },
    {
      "cell_type": "code",
      "execution_count": null,
      "metadata": {
        "id": "zJwM07tywPS3"
      },
      "outputs": [],
      "source": [
        "order_WEEKDAY_APPR_PROCESS_START = ['MONDAY','TUESDAY','WEDNESDAY','THURSDAY','FRIDAY','SATURDAY','SUNDAY']\n",
        "request_train_filtered_df['WEEKDAY_APPR_PROCESS_START'] = OrdinalEncoder(categories=[order_WEEKDAY_APPR_PROCESS_START]).fit_transform(request_train_filtered_df[['WEEKDAY_APPR_PROCESS_START']])"
      ]
    },
    {
      "cell_type": "code",
      "execution_count": null,
      "metadata": {
        "id": "TBB6-tcKwPS4"
      },
      "outputs": [],
      "source": [
        "ohe_X1 = OneHotEncoder(handle_unknown = 'ignore')\n",
        "encoded_data = ohe_X1.fit_transform(request_train_filtered_df[objectColumns])\n",
        "encoded_df = pd.DataFrame(encoded_data.toarray(), columns=ohe_X1.get_feature_names_out(objectColumns))\n",
        "\n",
        "request_train_filtered_df = pd.concat([request_train_filtered_df, encoded_df], axis=1)\n",
        "request_train_filtered_df.drop(columns=objectColumns, inplace=True)"
      ]
    },
    {
      "cell_type": "code",
      "execution_count": null,
      "metadata": {
        "id": "JhjY1InUwPS4"
      },
      "outputs": [],
      "source": [
        "X1_train, X1_val, y1_train, y1_val = train_test_split(request_train_filtered_df.drop(columns = ['TARGET','SK_ID_CURR']), request_train_filtered_df['TARGET'],stratify = request_train_filtered_df['TARGET'], test_size = 0.2, random_state = 125)"
      ]
    },
    {
      "cell_type": "markdown",
      "metadata": {
        "id": "WUp_YlVZwPS4"
      },
      "source": [
        "## Cambiando NaNs y balanceando clases"
      ]
    },
    {
      "cell_type": "code",
      "execution_count": null,
      "metadata": {
        "id": "FUH87SxlwPS4"
      },
      "outputs": [],
      "source": [
        "def fill_missing_median(df):\n",
        "    string_columns = df.select_dtypes(include=['object'])\n",
        "    df[string_columns.columns] = df[string_columns.columns].fillna(df[string_columns.columns].mode().iloc[0])\n",
        "    numeric_columns = df.select_dtypes(include=['number'])\n",
        "    df[numeric_columns.columns] = df[numeric_columns.columns].fillna(df[numeric_columns.columns].median())\n",
        "    return df\n",
        "\n",
        "def fill_missing_avg(df):\n",
        "    string_columns = df.select_dtypes(include=['object'])\n",
        "    df[string_columns.columns] = df[string_columns.columns].fillna(df[string_columns.columns].mode().iloc[0])\n",
        "    numeric_columns = df.select_dtypes(include=['number'])\n",
        "    df[numeric_columns.columns] = df[numeric_columns.columns].fillna(df[numeric_columns.columns].mean())\n",
        "    return df\n",
        "\n",
        "train_median = fill_missing_median(request_train_df.copy())\n",
        "#train_avg = fill_missing_avg(request_train_df.copy())"
      ]
    },
    {
      "cell_type": "code",
      "execution_count": null,
      "metadata": {
        "colab": {
          "base_uri": "https://localhost:8080/"
        },
        "id": "UuQqTCekwPS4",
        "outputId": "acb0f4b0-3281-46f6-ee7d-5bbed4e90c75"
      },
      "outputs": [
        {
          "output_type": "execute_result",
          "data": {
            "text/plain": [
              "['NAME_CONTRACT_TYPE',\n",
              " 'CODE_GENDER',\n",
              " 'FLAG_OWN_CAR',\n",
              " 'FLAG_OWN_REALTY',\n",
              " 'NAME_TYPE_SUITE',\n",
              " 'NAME_INCOME_TYPE',\n",
              " 'NAME_EDUCATION_TYPE',\n",
              " 'NAME_FAMILY_STATUS',\n",
              " 'NAME_HOUSING_TYPE',\n",
              " 'OCCUPATION_TYPE',\n",
              " 'ORGANIZATION_TYPE',\n",
              " 'FONDKAPREMONT_MODE',\n",
              " 'HOUSETYPE_MODE',\n",
              " 'WALLSMATERIAL_MODE',\n",
              " 'EMERGENCYSTATE_MODE']"
            ]
          },
          "metadata": {},
          "execution_count": 52
        }
      ],
      "source": [
        "objectColumns = train_median.select_dtypes(include=['object']).columns.tolist()\n",
        "objectColumns.remove('WEEKDAY_APPR_PROCESS_START')\n",
        "objectColumns"
      ]
    },
    {
      "cell_type": "code",
      "execution_count": null,
      "metadata": {
        "id": "RQHQ3JLxwPS4"
      },
      "outputs": [],
      "source": [
        "order_WEEKDAY_APPR_PROCESS_START = ['MONDAY','TUESDAY','WEDNESDAY','THURSDAY','FRIDAY','SATURDAY','SUNDAY']\n",
        "train_median['WEEKDAY_APPR_PROCESS_START'] = OrdinalEncoder(categories=[order_WEEKDAY_APPR_PROCESS_START]).fit_transform(train_median[['WEEKDAY_APPR_PROCESS_START']])"
      ]
    },
    {
      "cell_type": "code",
      "execution_count": null,
      "metadata": {
        "id": "q1LATO40DUQX"
      },
      "outputs": [],
      "source": [
        "ohe_X2 = OneHotEncoder(handle_unknown = 'ignore')\n",
        "encoded_data = ohe_X2.fit_transform(train_median[objectColumns])\n",
        "encoded_df = pd.DataFrame(encoded_data.toarray(), columns=ohe_X2.get_feature_names_out(objectColumns))\n",
        "\n",
        "train_median = pd.concat([train_median, encoded_df], axis=1)\n",
        "train_median.drop(columns=objectColumns, inplace=True)"
      ]
    },
    {
      "cell_type": "code",
      "execution_count": null,
      "metadata": {
        "id": "wQ7XOD5uwPS4"
      },
      "outputs": [],
      "source": [
        "X2_temp, X2_val, y2_temp, y2_val = train_test_split(train_median.drop(columns = ['TARGET','SK_ID_CURR']), train_median['TARGET'], test_size = 0.2, random_state = 125)"
      ]
    },
    {
      "cell_type": "code",
      "execution_count": null,
      "metadata": {
        "id": "sgJD9VLEwPS4"
      },
      "outputs": [],
      "source": [
        "X2_temp.insert(0,'TARGET', y2_temp)"
      ]
    },
    {
      "cell_type": "code",
      "execution_count": null,
      "metadata": {
        "id": "lYI_JTb6wPS5"
      },
      "outputs": [],
      "source": [
        "fraud_detected  = X2_temp[X2_temp['TARGET'] == 1]\n",
        "non_fraud  = X2_temp[X2_temp['TARGET'] == 0]"
      ]
    },
    {
      "cell_type": "code",
      "execution_count": null,
      "metadata": {
        "id": "eUjcFA8ZwPS5"
      },
      "outputs": [],
      "source": [
        "## Balanceo de la data\n",
        "fraud_detected_oversampled = resample(\n",
        "    fraud_detected,\n",
        "    replace=True,\n",
        "    n_samples=round(len(non_fraud)/2),\n",
        "    random_state=42\n",
        ")\n",
        "non_fraud_undersampled = resample(\n",
        "    non_fraud,\n",
        "    replace=False,\n",
        "    n_samples=len(fraud_detected_oversampled),\n",
        "    random_state=42\n",
        ")\n",
        "final_balanced_train_data = pd.concat([fraud_detected_oversampled, non_fraud_undersampled])\n",
        "X2_train = final_balanced_train_data.drop(columns = ['TARGET'])\n",
        "y2_train = final_balanced_train_data['TARGET']"
      ]
    },
    {
      "cell_type": "markdown",
      "metadata": {
        "id": "b3T5rC-IwPS5"
      },
      "source": [
        "# Modelos"
      ]
    },
    {
      "cell_type": "code",
      "execution_count": null,
      "metadata": {
        "id": "c-oPzyLUDUQZ"
      },
      "outputs": [],
      "source": [
        "## Codigo de MayumyCH\n",
        "## https://github.com/MayumyCH/credit_card_project_pyhton/blob/main/proyecto_notebook.ipynb\n",
        "\n",
        "LABELS = [\"Permanencia\", 'Fuga']\n",
        "\n",
        "def mostrar_resultados(y_test, rf_predictions):\n",
        "    Matriz_Confusion = confusion_matrix(y_test, rf_predictions)\n",
        "    plt.figure(figsize=(8, 8))\n",
        "    sns.heatmap(Matriz_Confusion, xticklabels=LABELS, yticklabels=LABELS, annot=True, fmt=\"d\", cmap='BrBG',linewidths = 0.5);\n",
        "    plt.title(\"Matriz de confusión\")\n",
        "    plt.ylabel('Actual')\n",
        "    plt.xlabel('Predicha')\n",
        "    plt.show()\n",
        "    print (classification_report(y_test, rf_predictions))\n",
        "\n",
        "plt.style.use('fivethirtyeight')\n",
        "plt.rcParams['font.size'] = 18\n",
        "\n",
        "def evaluate_model(predictions, probs, train_predictions, train_probs, y_test, y_train_res):\n",
        "    \"\"\"Compara modelos de Machine Learning a traves de la Curva ROC\"\"\"\n",
        "\n",
        "    baseline = {}\n",
        "\n",
        "    baseline['recall'] = recall_score(y_test,\n",
        "                                     [1 for _ in range(len(y_test))])\n",
        "    baseline['precision'] = precision_score(y_test,\n",
        "                                      [1 for _ in range(len(y_test))])\n",
        "    baseline['roc'] = 0.5\n",
        "\n",
        "    results = {}\n",
        "\n",
        "    results['recall'] = recall_score(y_test, predictions)\n",
        "    results['precision'] = precision_score(y_test, predictions)\n",
        "    results['roc'] = roc_auc_score(y_test, probs)\n",
        "\n",
        "    train_results = {}\n",
        "    train_results['recall'] = recall_score(y_train_res, train_predictions)\n",
        "    train_results['precision'] = precision_score(y_train_res, train_predictions)\n",
        "    train_results['roc'] = roc_auc_score(y_train_res, train_probs)\n",
        "\n",
        "    for metric in ['recall', 'precision', 'roc']:\n",
        "        print(f'{metric.capitalize()} Baseline: {round(baseline[metric], 2)} Test: {round(results[metric], 2)} Train: {round(train_results[metric], 2)}')\n",
        "\n",
        "    # Calcula la tasa de falso positivos y verdaderos positivos\n",
        "    base_fpr, base_tpr, _ = roc_curve(y_test, [1 for _ in range(len(y_test))])\n",
        "    model_fpr, model_tpr, _ = roc_curve(y_test, probs)\n",
        "\n",
        "    plt.figure(figsize = (8, 6))\n",
        "    plt.rcParams['font.size'] = 16\n",
        "\n",
        "    # Plotea las curvas\n",
        "    plt.plot(base_fpr, base_tpr, 'b', label = 'baseline')\n",
        "    plt.plot(model_fpr, model_tpr, 'r', label = 'modelo')\n",
        "    plt.legend();\n",
        "    plt.xlabel('Tasa - Falsos Positivos');\n",
        "    plt.ylabel('Tasa - Verdaderos Positivos'); plt.title('Curva ROC');\n",
        "    plt.show();"
      ]
    },
    {
      "cell_type": "code",
      "execution_count": null,
      "metadata": {
        "id": "gYmByCw5wPS5"
      },
      "outputs": [],
      "source": [
        "mejor_valor = 0"
      ]
    },
    {
      "cell_type": "markdown",
      "metadata": {
        "id": "0pE7DjvJwPS5"
      },
      "source": [
        "## 1ra Forma\n",
        "* Se utiliza LogisticRegression\n",
        "* Se utilizan los datos eliminando todos los NaNs"
      ]
    },
    {
      "cell_type": "code",
      "execution_count": null,
      "metadata": {
        "id": "hAWCARQtwPS5"
      },
      "outputs": [],
      "source": [
        "class_weights = {0: 1, 1: 5}\n",
        "\n",
        "base = Pipeline([\n",
        "    ('scale', StandardScaler()),\n",
        "    ('clf', LogisticRegression(class_weight=class_weights, random_state=42))\n",
        "])\n",
        "\n",
        "param_grid = {\n",
        "    'clf__C': np.logspace(-5,5,10),\n",
        "    'clf__solver': ['newton-cholesky', 'sag', 'saga'],##Basado en la documentacion de LogisticRegression\n",
        "    'clf__max_iter': [100, 200, 300],\n",
        "}\n",
        "\n",
        "grid_search = GridSearchCV(base, param_grid=param_grid, cv=5, scoring='roc_auc')\n",
        "grid_search.fit(X1_train, y1_train)"
      ]
    },
    {
      "cell_type": "code",
      "execution_count": null,
      "metadata": {
        "id": "pz0OJPz5wPS5"
      },
      "outputs": [],
      "source": [
        "best_params = grid_search.best_params_\n",
        "best_auc = grid_search.best_score_\n",
        "\n",
        "print(\"Best Parameters:\", best_params)\n",
        "print(\"Best AUC Score:\", best_auc)"
      ]
    },
    {
      "cell_type": "code",
      "execution_count": null,
      "metadata": {
        "id": "ZeMysv3cwPS5"
      },
      "outputs": [],
      "source": [
        "best_model1 = grid_search.best_estimator_\n",
        "\n",
        "pred = best_model1.predict(X1_val)\n",
        "pred_probs = best_model1.predict_proba(X1_val)[:,1]\n",
        "\n",
        "pred_train = best_model1.predict(X1_train)\n",
        "pred_probs_train = best_model1.predict_proba(X1_train)[:,1]\n",
        "\n",
        "test_auc = roc_auc_score(y1_val, pred)\n",
        "\n",
        "print(\"AUC on Test Set:\", test_auc)\n",
        "if test_auc > mejor_valor:\n",
        "    mejor_valor = test_auc\n",
        "    mejor_modelo = best_model1"
      ]
    },
    {
      "cell_type": "code",
      "execution_count": null,
      "metadata": {
        "id": "3r2lH2AVDUQb"
      },
      "outputs": [],
      "source": [
        "evaluate_model(pred, pred_probs, pred_train, pred_probs_train, y1_val, y1_train)\n",
        "plt.savefig('roc_auc_curve.png')"
      ]
    },
    {
      "cell_type": "code",
      "execution_count": null,
      "metadata": {
        "id": "I5sicOo5DUQb"
      },
      "outputs": [],
      "source": [
        "mostrar_resultados(y1_val, pred)"
      ]
    },
    {
      "cell_type": "markdown",
      "metadata": {
        "id": "GSx5h3nFwPS6"
      },
      "source": [
        "## 2da Forma\n",
        "* Se utiliza LogisticRegression\n",
        "* Se utilizan los datos cambiando todos los NaNs"
      ]
    },
    {
      "cell_type": "code",
      "execution_count": null,
      "metadata": {
        "id": "3hceM_uYwPS6"
      },
      "outputs": [],
      "source": [
        "class_weights = {0: 1, 1: 1}\n",
        "\n",
        "base = Pipeline([\n",
        "    ('scale', StandardScaler()),\n",
        "    ('clf', LogisticRegression(class_weight=class_weights, random_state=42))\n",
        "])\n",
        "\n",
        "param_grid = {\n",
        "    'clf__C': np.logspace(-5,5,10),\n",
        "    'clf__solver': ['newton-cholesky', 'sag', 'saga'],\n",
        "    'clf__max_iter': [100, 200, 300],\n",
        "}\n",
        "\n",
        "grid_search = GridSearchCV(base, param_grid=param_grid, cv=5, scoring='roc_auc')\n",
        "grid_search.fit(X2_train, y2_train)"
      ]
    },
    {
      "cell_type": "code",
      "execution_count": null,
      "metadata": {
        "id": "NrV1wc4AwPS6"
      },
      "outputs": [],
      "source": [
        "best_params = grid_search.best_params_\n",
        "best_auc = grid_search.best_score_\n",
        "\n",
        "print(\"Best Parameters:\", best_params)\n",
        "print(\"Best AUC Score:\", best_auc)"
      ]
    },
    {
      "cell_type": "code",
      "execution_count": null,
      "metadata": {
        "id": "XHMiU2zgwPS6"
      },
      "outputs": [],
      "source": [
        "best_model2 = grid_search.best_estimator_\n",
        "\n",
        "\n",
        "pred = best_model2.predict(X2_val)\n",
        "pred_probs = best_model2.predict_proba(X2_val)[:,1]\n",
        "\n",
        "pred_train = best_model2.predict(X2_train)\n",
        "pred_probs_train = best_model2.predict_proba(X2_train)[:,1]\n",
        "\n",
        "\n",
        "test_auc = roc_auc_score(y2_val, predicciones)\n",
        "\n",
        "print(\"AUC on Test Set:\", test_auc)\n",
        "if test_auc > mejor_valor:\n",
        "    mejor_valor = test_auc\n",
        "    mejor_modelo = best_model2"
      ]
    },
    {
      "cell_type": "code",
      "execution_count": null,
      "metadata": {
        "id": "c9UxPOzFDUQe"
      },
      "outputs": [],
      "source": [
        "evaluate_model(pred, pred_probs, pred_train, pred_probs_train, y2_val, y2_train)\n",
        "plt.savefig('roc_auc_curve.png')"
      ]
    },
    {
      "cell_type": "code",
      "execution_count": null,
      "metadata": {
        "id": "Enr44YM3DUQe"
      },
      "outputs": [],
      "source": [
        "mostrar_resultados(y2_val, pred)"
      ]
    },
    {
      "cell_type": "markdown",
      "metadata": {
        "id": "qY5V2HZEwPS6"
      },
      "source": [
        "## 3ra Forma\n",
        "* Se utiliza HistGradientBoostingClassifier\n",
        "* Se utilizan los datos borrando todos los NaNs"
      ]
    },
    {
      "cell_type": "code",
      "execution_count": null,
      "metadata": {
        "id": "-1fEsj80wPS7"
      },
      "outputs": [],
      "source": [
        "base = Pipeline([\n",
        "    ('scale', StandardScaler()),\n",
        "    ('clf', HistGradientBoostingClassifier(random_state=125))\n",
        "])\n",
        "\n",
        "param_grid = {\n",
        "    'clf__learning_rate': np.linspace(0.01,0.9,10),\n",
        "    'clf__max_iter': [20, 40, 80, 160],\n",
        "    'clf__max_depth': [3, 4, 5],\n",
        "    'clf__l2_regularization': [0.0, 0.2, 0.5, 0.9]\n",
        "}\n",
        "\n",
        "grid_search = GridSearchCV(base, param_grid=param_grid, cv=5, scoring='roc_auc')\n",
        "grid_search.fit(X1_train, y1_train)"
      ]
    },
    {
      "cell_type": "code",
      "execution_count": null,
      "metadata": {
        "id": "_LdL13qpwPS7"
      },
      "outputs": [],
      "source": [
        "best_params = grid_search.best_params_\n",
        "best_auc = grid_search.best_score_\n",
        "\n",
        "print(\"Best Parameters:\", best_params)\n",
        "print(\"Best AUC Score:\", best_auc)"
      ]
    },
    {
      "cell_type": "code",
      "execution_count": null,
      "metadata": {
        "id": "Hy4UB0nAwPS7"
      },
      "outputs": [],
      "source": [
        "best_model3 = grid_search.best_estimator_\n",
        "\n",
        "pred = best_model3.predict(X1_val)\n",
        "pred_probs = best_model3.predict_proba(X1_val)[:,1]\n",
        "\n",
        "pred_train = best_model3.predict(X1_train)\n",
        "pred_probs_train = best_model3.predict_proba(X1_train)[:,1]\n",
        "\n",
        "test_auc = roc_auc_score(y1_val, pred)\n",
        "\n",
        "print(\"AUC on Test Set:\", test_auc)\n",
        "if test_auc > mejor_valor:\n",
        "    mejor_valor = test_auc\n",
        "    mejor_modelo = best_model3"
      ]
    },
    {
      "cell_type": "code",
      "execution_count": null,
      "metadata": {
        "id": "we_IXuHKDUQi"
      },
      "outputs": [],
      "source": [
        "evaluate_model(pred, pred_probs, pred_train, pred_probs_train, y1_val, y1_train)\n",
        "plt.savefig('roc_auc_curve.png')"
      ]
    },
    {
      "cell_type": "code",
      "execution_count": null,
      "metadata": {
        "id": "iU2R4KEoDUQi"
      },
      "outputs": [],
      "source": [
        "mostrar_resultados(y1_val, pred)"
      ]
    },
    {
      "cell_type": "markdown",
      "metadata": {
        "id": "bnQRHllewPS7"
      },
      "source": [
        "## 4ta Forma\n",
        "* Se utiliza HistGradientBoostingClassifier\n",
        "* Se utilizan los datos cambiando todos los NaNs"
      ]
    },
    {
      "cell_type": "code",
      "execution_count": null,
      "metadata": {
        "id": "S7JUOj29wPS8"
      },
      "outputs": [],
      "source": [
        "base = Pipeline([\n",
        "    ('scale', StandardScaler()),\n",
        "    ('clf', HistGradientBoostingClassifier(random_state=125))\n",
        "])\n",
        "\n",
        "param_grid = {\n",
        "    'clf__learning_rate': np.linspace(0.01,0.9,10),\n",
        "    'clf__max_iter': [20, 40, 80, 160],\n",
        "    'clf__max_depth': [3, 4, 5],\n",
        "    'clf__l2_regularization': [0.0, 0.2, 0.5, 0.9]\n",
        "}\n",
        "\n",
        "grid_search = GridSearchCV(base, param_grid=param_grid, cv=5, scoring='roc_auc')\n",
        "grid_search.fit(X2_train, y2_train)"
      ]
    },
    {
      "cell_type": "code",
      "execution_count": null,
      "metadata": {
        "id": "j0jUax6-wPS8"
      },
      "outputs": [],
      "source": [
        "best_params = grid_search.best_params_\n",
        "best_auc = grid_search.best_score_\n",
        "\n",
        "print(\"Best Parameters:\", best_params)\n",
        "print(\"Best AUC Score:\", best_auc)"
      ]
    },
    {
      "cell_type": "code",
      "execution_count": null,
      "metadata": {
        "id": "poFFMgQPwPS8"
      },
      "outputs": [],
      "source": [
        "best_model4 = grid_search.best_estimator_\n",
        "\n",
        "pred = best_model4.predict(X2_val)\n",
        "pred_probs = best_model4.predict_proba(X2_val)[:,1]\n",
        "\n",
        "pred_train = best_model4.predict(X2_train)\n",
        "pred_probs_train = best_model4.predict_proba(X2_train)[:,1]\n",
        "\n",
        "test_auc = roc_auc_score(y2_val, pred)\n",
        "\n",
        "\n",
        "print(\"AUC on Test Set:\", test_auc)\n",
        "if test_auc > mejor_valor:\n",
        "    mejor_valor = test_auc\n",
        "    mejor_modelo = best_model4"
      ]
    },
    {
      "cell_type": "code",
      "execution_count": null,
      "metadata": {
        "id": "iCo2yNvzDUQj"
      },
      "outputs": [],
      "source": [
        "evaluate_model(pred, pred_probs, pred_train, pred_probs_train, y2_val, y2_train)\n",
        "plt.savefig('roc_auc_curve.png')"
      ]
    },
    {
      "cell_type": "code",
      "execution_count": null,
      "metadata": {
        "id": "RljYX4rPDUQk"
      },
      "outputs": [],
      "source": [
        "mostrar_resultados(y2_val, pred)"
      ]
    },
    {
      "cell_type": "markdown",
      "metadata": {
        "id": "0g1pnAU5wPS8"
      },
      "source": [
        "## 5ta Forma\n",
        "\n",
        "* Se le agrega a la 2da forma un PCA en la pipeline"
      ]
    },
    {
      "cell_type": "code",
      "execution_count": null,
      "metadata": {
        "id": "odSFrzpdwPS9"
      },
      "outputs": [],
      "source": [
        "from sklearn.decomposition import PCA\n",
        "\n",
        "pca = PCA()\n",
        "\n",
        "class_weights = {0: 1, 1: 1}\n",
        "\n",
        "base = Pipeline([\n",
        "    ('scale', StandardScaler()),\n",
        "    ('pca', pca),\n",
        "    ('clf', LogisticRegression(class_weight=class_weights, random_state=42))\n",
        "])\n",
        "\n",
        "param_grid = {\n",
        "    \"pca__n_components\": [40, 80, 100, 150],\n",
        "    'clf__C': np.logspace(-5,5,10),\n",
        "    'clf__solver': ['newton-cholesky', 'sag', 'saga'],\n",
        "    'clf__max_iter': [100, 200, 300],\n",
        "}\n",
        "\n",
        "grid_search = GridSearchCV(base, param_grid=param_grid, cv=5, scoring='roc_auc')\n",
        "grid_search.fit(X2_train, y2_train)"
      ]
    },
    {
      "cell_type": "code",
      "execution_count": null,
      "metadata": {
        "id": "1-lOhKPZwPS9"
      },
      "outputs": [],
      "source": [
        "best_params = grid_search.best_params_\n",
        "best_auc = grid_search.best_score_\n",
        "\n",
        "print(\"Best Parameters:\", best_params)\n",
        "print(\"Best AUC Score:\", best_auc)"
      ]
    },
    {
      "cell_type": "code",
      "execution_count": null,
      "metadata": {
        "id": "m1kEJW_rwPS9"
      },
      "outputs": [],
      "source": [
        "best_model5 = grid_search.best_estimator_\n",
        "\n",
        "pred = best_model5.predict(X2_val)\n",
        "pred_probs = best_model5.predict_proba(X2_val)[:,1]\n",
        "\n",
        "pred_train = best_model5.predict(X2_train)\n",
        "pred_probs_train = best_model5.predict_proba(X2_train)[:,1]\n",
        "\n",
        "test_auc = roc_auc_score(y2_val, pred)\n",
        "\n",
        "print(\"AUC on Test Set:\", test_auc)\n",
        "if test_auc > mejor_valor:\n",
        "    mejor_valor = test_auc\n",
        "    mejor_modelo = best_model5"
      ]
    },
    {
      "cell_type": "code",
      "execution_count": null,
      "metadata": {
        "id": "jrvKvh6FDUQm"
      },
      "outputs": [],
      "source": [
        "evaluate_model(pred, pred_probs, pred_train, pred_probs_train, y2_val, y2_train)\n",
        "plt.savefig('roc_auc_curve.png')"
      ]
    },
    {
      "cell_type": "code",
      "execution_count": null,
      "metadata": {
        "id": "rznVzmWwDUQn"
      },
      "outputs": [],
      "source": [
        "mostrar_resultados(y2_val, pred)"
      ]
    },
    {
      "cell_type": "markdown",
      "metadata": {
        "id": "ihrb5TcJwPS9"
      },
      "source": [
        "## Guardar Mejor Modelo"
      ]
    },
    {
      "cell_type": "code",
      "execution_count": null,
      "metadata": {
        "id": "aBFOSfvOwPS9"
      },
      "outputs": [],
      "source": [
        "dump(mejor_modelo, 'filename.joblib')"
      ]
    },
    {
      "cell_type": "markdown",
      "metadata": {
        "id": "Q-iqwQ3RwPS-"
      },
      "source": [
        "# Testeo"
      ]
    },
    {
      "cell_type": "code",
      "execution_count": null,
      "metadata": {
        "id": "rs_sqZ2RwPS-"
      },
      "outputs": [],
      "source": [
        "clasiffier_model = load('filename.joblib')\n",
        "#clasiffier_model = best_model4"
      ]
    },
    {
      "cell_type": "code",
      "execution_count": null,
      "metadata": {
        "id": "v9yRpKZQwPS-"
      },
      "outputs": [],
      "source": [
        "train_median_Respuesta = fill_missing_median(request_test_df.copy())\n",
        "\n",
        "objectColumns = train_median_Respuesta.select_dtypes(include=['object']).columns.tolist()\n",
        "objectColumns.remove('WEEKDAY_APPR_PROCESS_START')\n",
        "\n",
        "order_WEEKDAY_APPR_PROCESS_START = ['MONDAY','TUESDAY','WEDNESDAY','THURSDAY','FRIDAY','SATURDAY','SUNDAY']\n",
        "train_median_Respuesta['WEEKDAY_APPR_PROCESS_START'] = OrdinalEncoder(categories=[order_WEEKDAY_APPR_PROCESS_START]).fit_transform(train_median_Respuesta[['WEEKDAY_APPR_PROCESS_START']])\n",
        "\n",
        "encoded_data = ohe_X2.transform(train_median_Respuesta[objectColumns])\n",
        "encoded_df = pd.DataFrame(encoded_data.toarray(), columns=ohe_X2.get_feature_names_out(objectColumns))\n",
        "\n",
        "train_median_Respuesta = pd.concat([train_median_Respuesta, encoded_df], axis=1)\n",
        "train_median_Respuesta.drop(columns=objectColumns, inplace=True)\n",
        "\n"
      ]
    },
    {
      "cell_type": "code",
      "execution_count": null,
      "metadata": {
        "id": "liF_ow1XwPS-"
      },
      "outputs": [],
      "source": [
        "SK_IDs_column = train_median_Respuesta['SK_ID_CURR'].values\n",
        "predicciones = clasiffier_model.predict_proba(train_median_Respuesta.drop(columns = ['SK_ID_CURR']))\n",
        "predicciones"
      ]
    },
    {
      "cell_type": "code",
      "execution_count": null,
      "metadata": {
        "id": "yL6SWLxzwPS-"
      },
      "outputs": [],
      "source": [
        "df = pd.DataFrame(list(zip(SK_IDs_column, predicciones)), columns=['SK_ID_CURR', 'TARGET'])\n",
        "df"
      ]
    }
  ],
  "metadata": {
    "colab": {
      "provenance": []
    },
    "kernelspec": {
      "display_name": "Python 3 (ipykernel)",
      "language": "python",
      "name": "python3"
    },
    "language_info": {
      "codemirror_mode": {
        "name": "ipython",
        "version": 3
      },
      "file_extension": ".py",
      "mimetype": "text/x-python",
      "name": "python",
      "nbconvert_exporter": "python",
      "pygments_lexer": "ipython3",
      "version": "3.10.13"
    }
  },
  "nbformat": 4,
  "nbformat_minor": 0
}