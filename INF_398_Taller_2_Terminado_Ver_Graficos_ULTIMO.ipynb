{
  "cells": [
    {
      "cell_type": "markdown",
      "metadata": {
        "id": "xnN5e0A-U1l7"
      },
      "source": [
        "# Introducción al Aprendizaje Automático: Taller 2\n",
        "\n"
      ]
    },
    {
      "cell_type": "markdown",
      "metadata": {
        "id": "dIlM2s6kksaD"
      },
      "source": [
        "## Predicción de Riesgo Crediticio\n",
        "\n",
        "El objetivo de este taller es que se familiciaricen con competencias/desafíos en ciencia de datos y machine learning. Por lo tanto, la actividad es abierta y requiere diseñar, implementar, y evaluar una solución a un problema real usando técnicas estudiadas en el curso.\n",
        "\n",
        "\n",
        "<table align='left'>\n",
        "<tr>\n",
        "<td><img src='https://content.pymnts.com/wp-content/uploads/2019/02/Aire-AI-Credit-Scoring-1000x600.jpg' width='900'/> </td>\n",
        "</tr>\n",
        "</table>"
      ]
    },
    {
      "cell_type": "markdown",
      "metadata": {
        "id": "KgLFU9XwG3uM"
      },
      "source": [
        "## Introducción\n",
        "\n",
        "La tecnología financiera (*fintech*) es un conjunto de productos y servicios que aprovechan avances tecnOlógicos recientes para resolver problemas o mejorar procesos actuales en la industria financiera. Este sector representa una de las áreas laborales de mayor crecimiento reciente.\n",
        "\n",
        "El aprendizaje automático en fintech implica la aplicación de algoritmos y modelos avanzados para analizar datos financieros, hacer predicciones, automatizar procesos y optimizar la toma de decisiones en la industria financiera. Permite a las instituciones financieras mejorar la evaluación de riesgos, la detección de fraudes, el servicio al cliente, las estrategias de inversión y más, aprovechando el poder de los datos y la automatización."
      ]
    },
    {
      "cell_type": "markdown",
      "metadata": {
        "id": "cLu56_lskMX7"
      },
      "source": [
        "## Problema & Datos\n",
        "\n",
        "> **Problema:** En este desafío exploraremos el problema de predecir si una solicitud de crédito a un banco será pagada o no, una versión binaria de lo que se denomina análisis de riesgo, que es su vez una de las aplicaciones más comunes del aprendizaje automático en la industria financiera.\n",
        "\n",
        "> **Materiales:** Usted dispondrá de varias tablas extraídas de una base de datos relacional que describe el comportamiento previo de los clientes en una entidad financiera real. La solución del desafío requiere emplear técnicas de fusión de datos para crear un dataset que pueda ser utilizado por modelos clásicos de aprendizaje automático. Como en muchos problemas reales, la construcción de una solución requerirá también de una limpieza de datos, de un método para tratar datos faltantes, de un buen análisis exploratorio de datos, y de una creativa ingeniería de atributos."
      ]
    },
    {
      "cell_type": "markdown",
      "metadata": {
        "id": "BbAEhyz5It0V"
      },
      "source": [
        "## Métrica\n",
        "\n",
        "La métrica de la competencia será [AUC](https://es.wikipedia.org/wiki/Curva_ROC) ó área bajo la curva ROC.\n",
        "\n",
        "$$\\operatorname{TPR}(T): T \\to y(x)$$\n",
        "$$\\operatorname{FPR}(T): T \\to x$$\n",
        "\n",
        "\\begin{aligned}\n",
        "A & = \\int_{x=0}^{1}{\\mbox{TPR}(\\mbox{FPR}^{-1}(x)) dx}\\\\\n",
        "& = \\int_{\\infty}^{-\\infty} \\mbox{TPR}(T) \\mbox{FPR}'(T) \\, dT\\\\\n",
        "& = \\int_{-\\infty}^\\infty \\int_{-\\infty}^\\infty I(T' \\ge T)f_1(T') f_0(T) \\, dT' \\, dT = P(X_1 \\ge X_0)\n",
        "\\end{aligned}\n",
        "\n"
      ]
    },
    {
      "cell_type": "markdown",
      "metadata": {
        "id": "4AJyAp_IZxm9"
      },
      "source": [
        "## Base Imports"
      ]
    },
    {
      "cell_type": "code",
      "execution_count": null,
      "metadata": {
        "id": "-Hwo0VvGUZdm"
      },
      "outputs": [],
      "source": [
        "# Plotting libraries\n",
        "import seaborn as sns; sns.set()\n",
        "import matplotlib.pyplot as plt\n",
        "# Scikit learn\n",
        "import sklearn.preprocessing as skp\n",
        "from sklearn.pipeline import Pipeline\n",
        "from sklearn.model_selection import train_test_split, cross_validate, GridSearchCV\n",
        "from sklearn.multiclass import OneVsOneClassifier, OneVsRestClassifier\n",
        "from sklearn.linear_model import LogisticRegression\n",
        "from sklearn.preprocessing import OrdinalEncoder, OneHotEncoder, StandardScaler\n",
        "from sklearn.ensemble import HistGradientBoostingClassifier\n",
        "from sklearn.utils import resample\n",
        "# Scikit Metrics\n",
        "from sklearn.metrics import log_loss, classification_report, accuracy_score, f1_score,roc_auc_score, recall_score, precision_score, roc_curve\n",
        "from sklearn.metrics import confusion_matrix\n",
        "# Data manipulation libraries\n",
        "import pandas as pd\n",
        "import numpy as np\n",
        "# General use\n",
        "from tqdm.notebook import tqdm\n",
        "from joblib import dump, load\n",
        "import warnings\n",
        "warnings.filterwarnings(\"ignore\")\n",
        "\n",
        "# Si quiere trabajar en local cambiar a False\n",
        "COLAB_FLAG = False"
      ]
    },
    {
      "cell_type": "markdown",
      "metadata": {
        "id": "JX18MccEJnzm"
      },
      "source": [
        "## Carga de Datos\n",
        "\n",
        "Como es usual, debe cargar los archivos distribuidos con esta tarea en la máquina virtual o en la máquina local donde trabajará, sustituyendo las rutas mostradas como ejemplo por las rutas donde tiene alojados los archivos."
      ]
    },
    {
      "cell_type": "code",
      "execution_count": null,
      "metadata": {
        "id": "TuwBEP1eaQyP"
      },
      "outputs": [],
      "source": [
        "data_path = ''\n",
        "\n",
        "if COLAB_FLAG:\n",
        "  print(\"Mounting your Google Drive ...\")\n",
        "\n",
        "  from google.colab import drive\n",
        "  drive.flush_and_unmount()\n",
        "  drive.mount('/content/drive', force_remount=True)\n",
        "\n",
        "  data_path = \"/content/drive/My Drive/Machine Learning/Desafio 1/\" # Esta es la ruta. Recuerde modificarla acorde a sus necesidades"
      ]
    },
    {
      "cell_type": "markdown",
      "metadata": {
        "id": "-z_x5v432OOd"
      },
      "source": [
        "## Funciones útiles\n",
        "\n",
        "Estas funciones son adheridas al notebook con tal de ayudar en la inspiración de visualizaciones útiles, facilitando así el encontrar patrones para unificar las tablas."
      ]
    },
    {
      "cell_type": "code",
      "execution_count": null,
      "metadata": {
        "id": "Ccq4gSGL2Rxf"
      },
      "outputs": [],
      "source": [
        "def numeric_columns(df):\n",
        "  numeric_columns = []\n",
        "  for column in df.columns.tolist():\n",
        "    if df.dtypes[column] != 'object':\n",
        "      numeric_columns.append(column)\n",
        "  return numeric_columns\n",
        "\n",
        "def plot_numeric_data(df, nrows=3, ncols=4, exclude_columns=['SK_ID_BUREAU', 'SK_ID_CURR']):\n",
        "  fig, ax = plt.subplots(figsize=(16, 18), nrows=nrows, ncols=ncols)\n",
        "  cont = 0\n",
        "  for idx, column in enumerate(tqdm(numeric_columns(df))):\n",
        "    if df.dtypes[column] != 'object' and column not in exclude_columns:\n",
        "      df[column].plot(kind='kde',\n",
        "                      xlabel=column,\n",
        "                      ax=ax[(idx + cont)//4, (idx + cont)%4])\n",
        "      ax[(idx + cont)//4, (idx + cont)%4].set_xlabel(column, fontsize=8)\n",
        "    else:\n",
        "      cont -= 1\n",
        "\n",
        "  plt.subplots_adjust(bottom=.25, left=.25)\n",
        "  plt.tight_layout()\n",
        "  plt.show()\n",
        "\n",
        "# Descripción de las columnas\n",
        "def dataframe_columns_description(df):\n",
        "  print('-' * 160)\n",
        "  for index, row in description_df[description_df['Row'].isin(df)].drop('Table', axis=1).iterrows():\n",
        "    print(f\"|{row['Row']}: {row['Description']} ({row['Special']})\" if type(row['Special']) != float else f\"|{row['Row']}: {row['Description']}\")\n",
        "    print('-' * 160)"
      ]
    },
    {
      "cell_type": "markdown",
      "metadata": {
        "id": "_ujuhqNNbhak"
      },
      "source": [
        "## Problema & Datos"
      ]
    },
    {
      "cell_type": "code",
      "execution_count": null,
      "metadata": {
        "id": "rD2fj0spbjHc",
        "scrolled": true,
        "outputId": "d69af03f-5dc9-4439-da52-34647946477a",
        "colab": {
          "base_uri": "https://localhost:8080/",
          "height": 390
        }
      },
      "outputs": [
        {
          "output_type": "error",
          "ename": "FileNotFoundError",
          "evalue": "ignored",
          "traceback": [
            "\u001b[0;31m---------------------------------------------------------------------------\u001b[0m",
            "\u001b[0;31mFileNotFoundError\u001b[0m                         Traceback (most recent call last)",
            "\u001b[0;32m<ipython-input-4-7baf3bd86a14>\u001b[0m in \u001b[0;36m<cell line: 1>\u001b[0;34m()\u001b[0m\n\u001b[0;32m----> 1\u001b[0;31m \u001b[0mdescription_df\u001b[0m \u001b[0;34m=\u001b[0m \u001b[0mpd\u001b[0m\u001b[0;34m.\u001b[0m\u001b[0mread_csv\u001b[0m\u001b[0;34m(\u001b[0m\u001b[0mdata_path\u001b[0m \u001b[0;34m+\u001b[0m \u001b[0;34m'columns_description.csv'\u001b[0m\u001b[0;34m)\u001b[0m\u001b[0;34m.\u001b[0m\u001b[0mdrop\u001b[0m\u001b[0;34m(\u001b[0m\u001b[0;34m[\u001b[0m\u001b[0;34m'Unnamed: 0'\u001b[0m\u001b[0;34m]\u001b[0m\u001b[0;34m,\u001b[0m \u001b[0maxis\u001b[0m\u001b[0;34m=\u001b[0m\u001b[0;36m1\u001b[0m\u001b[0;34m)\u001b[0m\u001b[0;34m\u001b[0m\u001b[0;34m\u001b[0m\u001b[0m\n\u001b[0m\u001b[1;32m      2\u001b[0m \u001b[0mloan_history_df\u001b[0m \u001b[0;34m=\u001b[0m \u001b[0mpd\u001b[0m\u001b[0;34m.\u001b[0m\u001b[0mread_csv\u001b[0m\u001b[0;34m(\u001b[0m\u001b[0mdata_path\u001b[0m \u001b[0;34m+\u001b[0m \u001b[0;34m'historial_prestamos.csv'\u001b[0m\u001b[0;34m)\u001b[0m\u001b[0;31m#.drop(['Unnamed: 0'], axis=1)\u001b[0m\u001b[0;34m\u001b[0m\u001b[0;34m\u001b[0m\u001b[0m\n\u001b[1;32m      3\u001b[0m \u001b[0mloan_history_movements_df\u001b[0m \u001b[0;34m=\u001b[0m \u001b[0mpd\u001b[0m\u001b[0;34m.\u001b[0m\u001b[0mread_csv\u001b[0m\u001b[0;34m(\u001b[0m\u001b[0mdata_path\u001b[0m \u001b[0;34m+\u001b[0m \u001b[0;34m'historial_prestamos_movimientos.csv'\u001b[0m\u001b[0;34m)\u001b[0m\u001b[0;31m#.drop(['Unnamed: 0'], axis=1)\u001b[0m\u001b[0;34m\u001b[0m\u001b[0;34m\u001b[0m\u001b[0m\n\u001b[1;32m      4\u001b[0m \u001b[0mrequest_test_df\u001b[0m \u001b[0;34m=\u001b[0m \u001b[0mpd\u001b[0m\u001b[0;34m.\u001b[0m\u001b[0mread_csv\u001b[0m\u001b[0;34m(\u001b[0m\u001b[0mdata_path\u001b[0m \u001b[0;34m+\u001b[0m \u001b[0;34m'solicitudes_test.csv'\u001b[0m\u001b[0;34m)\u001b[0m\u001b[0;34m\u001b[0m\u001b[0;34m\u001b[0m\u001b[0m\n\u001b[1;32m      5\u001b[0m \u001b[0mrequest_train_df\u001b[0m \u001b[0;34m=\u001b[0m \u001b[0mpd\u001b[0m\u001b[0;34m.\u001b[0m\u001b[0mread_csv\u001b[0m\u001b[0;34m(\u001b[0m\u001b[0mdata_path\u001b[0m \u001b[0;34m+\u001b[0m \u001b[0;34m'solicitudes_train.csv'\u001b[0m\u001b[0;34m)\u001b[0m\u001b[0;34m\u001b[0m\u001b[0;34m\u001b[0m\u001b[0m\n",
            "\u001b[0;32m/usr/local/lib/python3.10/dist-packages/pandas/util/_decorators.py\u001b[0m in \u001b[0;36mwrapper\u001b[0;34m(*args, **kwargs)\u001b[0m\n\u001b[1;32m    209\u001b[0m                 \u001b[0;32melse\u001b[0m\u001b[0;34m:\u001b[0m\u001b[0;34m\u001b[0m\u001b[0;34m\u001b[0m\u001b[0m\n\u001b[1;32m    210\u001b[0m                     \u001b[0mkwargs\u001b[0m\u001b[0;34m[\u001b[0m\u001b[0mnew_arg_name\u001b[0m\u001b[0;34m]\u001b[0m \u001b[0;34m=\u001b[0m \u001b[0mnew_arg_value\u001b[0m\u001b[0;34m\u001b[0m\u001b[0;34m\u001b[0m\u001b[0m\n\u001b[0;32m--> 211\u001b[0;31m             \u001b[0;32mreturn\u001b[0m \u001b[0mfunc\u001b[0m\u001b[0;34m(\u001b[0m\u001b[0;34m*\u001b[0m\u001b[0margs\u001b[0m\u001b[0;34m,\u001b[0m \u001b[0;34m**\u001b[0m\u001b[0mkwargs\u001b[0m\u001b[0;34m)\u001b[0m\u001b[0;34m\u001b[0m\u001b[0;34m\u001b[0m\u001b[0m\n\u001b[0m\u001b[1;32m    212\u001b[0m \u001b[0;34m\u001b[0m\u001b[0m\n\u001b[1;32m    213\u001b[0m         \u001b[0;32mreturn\u001b[0m \u001b[0mcast\u001b[0m\u001b[0;34m(\u001b[0m\u001b[0mF\u001b[0m\u001b[0;34m,\u001b[0m \u001b[0mwrapper\u001b[0m\u001b[0;34m)\u001b[0m\u001b[0;34m\u001b[0m\u001b[0;34m\u001b[0m\u001b[0m\n",
            "\u001b[0;32m/usr/local/lib/python3.10/dist-packages/pandas/util/_decorators.py\u001b[0m in \u001b[0;36mwrapper\u001b[0;34m(*args, **kwargs)\u001b[0m\n\u001b[1;32m    329\u001b[0m                     \u001b[0mstacklevel\u001b[0m\u001b[0;34m=\u001b[0m\u001b[0mfind_stack_level\u001b[0m\u001b[0;34m(\u001b[0m\u001b[0;34m)\u001b[0m\u001b[0;34m,\u001b[0m\u001b[0;34m\u001b[0m\u001b[0;34m\u001b[0m\u001b[0m\n\u001b[1;32m    330\u001b[0m                 )\n\u001b[0;32m--> 331\u001b[0;31m             \u001b[0;32mreturn\u001b[0m \u001b[0mfunc\u001b[0m\u001b[0;34m(\u001b[0m\u001b[0;34m*\u001b[0m\u001b[0margs\u001b[0m\u001b[0;34m,\u001b[0m \u001b[0;34m**\u001b[0m\u001b[0mkwargs\u001b[0m\u001b[0;34m)\u001b[0m\u001b[0;34m\u001b[0m\u001b[0;34m\u001b[0m\u001b[0m\n\u001b[0m\u001b[1;32m    332\u001b[0m \u001b[0;34m\u001b[0m\u001b[0m\n\u001b[1;32m    333\u001b[0m         \u001b[0;31m# error: \"Callable[[VarArg(Any), KwArg(Any)], Any]\" has no\u001b[0m\u001b[0;34m\u001b[0m\u001b[0;34m\u001b[0m\u001b[0m\n",
            "\u001b[0;32m/usr/local/lib/python3.10/dist-packages/pandas/io/parsers/readers.py\u001b[0m in \u001b[0;36mread_csv\u001b[0;34m(filepath_or_buffer, sep, delimiter, header, names, index_col, usecols, squeeze, prefix, mangle_dupe_cols, dtype, engine, converters, true_values, false_values, skipinitialspace, skiprows, skipfooter, nrows, na_values, keep_default_na, na_filter, verbose, skip_blank_lines, parse_dates, infer_datetime_format, keep_date_col, date_parser, dayfirst, cache_dates, iterator, chunksize, compression, thousands, decimal, lineterminator, quotechar, quoting, doublequote, escapechar, comment, encoding, encoding_errors, dialect, error_bad_lines, warn_bad_lines, on_bad_lines, delim_whitespace, low_memory, memory_map, float_precision, storage_options)\u001b[0m\n\u001b[1;32m    948\u001b[0m     \u001b[0mkwds\u001b[0m\u001b[0;34m.\u001b[0m\u001b[0mupdate\u001b[0m\u001b[0;34m(\u001b[0m\u001b[0mkwds_defaults\u001b[0m\u001b[0;34m)\u001b[0m\u001b[0;34m\u001b[0m\u001b[0;34m\u001b[0m\u001b[0m\n\u001b[1;32m    949\u001b[0m \u001b[0;34m\u001b[0m\u001b[0m\n\u001b[0;32m--> 950\u001b[0;31m     \u001b[0;32mreturn\u001b[0m \u001b[0m_read\u001b[0m\u001b[0;34m(\u001b[0m\u001b[0mfilepath_or_buffer\u001b[0m\u001b[0;34m,\u001b[0m \u001b[0mkwds\u001b[0m\u001b[0;34m)\u001b[0m\u001b[0;34m\u001b[0m\u001b[0;34m\u001b[0m\u001b[0m\n\u001b[0m\u001b[1;32m    951\u001b[0m \u001b[0;34m\u001b[0m\u001b[0m\n\u001b[1;32m    952\u001b[0m \u001b[0;34m\u001b[0m\u001b[0m\n",
            "\u001b[0;32m/usr/local/lib/python3.10/dist-packages/pandas/io/parsers/readers.py\u001b[0m in \u001b[0;36m_read\u001b[0;34m(filepath_or_buffer, kwds)\u001b[0m\n\u001b[1;32m    603\u001b[0m \u001b[0;34m\u001b[0m\u001b[0m\n\u001b[1;32m    604\u001b[0m     \u001b[0;31m# Create the parser.\u001b[0m\u001b[0;34m\u001b[0m\u001b[0;34m\u001b[0m\u001b[0m\n\u001b[0;32m--> 605\u001b[0;31m     \u001b[0mparser\u001b[0m \u001b[0;34m=\u001b[0m \u001b[0mTextFileReader\u001b[0m\u001b[0;34m(\u001b[0m\u001b[0mfilepath_or_buffer\u001b[0m\u001b[0;34m,\u001b[0m \u001b[0;34m**\u001b[0m\u001b[0mkwds\u001b[0m\u001b[0;34m)\u001b[0m\u001b[0;34m\u001b[0m\u001b[0;34m\u001b[0m\u001b[0m\n\u001b[0m\u001b[1;32m    606\u001b[0m \u001b[0;34m\u001b[0m\u001b[0m\n\u001b[1;32m    607\u001b[0m     \u001b[0;32mif\u001b[0m \u001b[0mchunksize\u001b[0m \u001b[0;32mor\u001b[0m \u001b[0miterator\u001b[0m\u001b[0;34m:\u001b[0m\u001b[0;34m\u001b[0m\u001b[0;34m\u001b[0m\u001b[0m\n",
            "\u001b[0;32m/usr/local/lib/python3.10/dist-packages/pandas/io/parsers/readers.py\u001b[0m in \u001b[0;36m__init__\u001b[0;34m(self, f, engine, **kwds)\u001b[0m\n\u001b[1;32m   1440\u001b[0m \u001b[0;34m\u001b[0m\u001b[0m\n\u001b[1;32m   1441\u001b[0m         \u001b[0mself\u001b[0m\u001b[0;34m.\u001b[0m\u001b[0mhandles\u001b[0m\u001b[0;34m:\u001b[0m \u001b[0mIOHandles\u001b[0m \u001b[0;34m|\u001b[0m \u001b[0;32mNone\u001b[0m \u001b[0;34m=\u001b[0m \u001b[0;32mNone\u001b[0m\u001b[0;34m\u001b[0m\u001b[0;34m\u001b[0m\u001b[0m\n\u001b[0;32m-> 1442\u001b[0;31m         \u001b[0mself\u001b[0m\u001b[0;34m.\u001b[0m\u001b[0m_engine\u001b[0m \u001b[0;34m=\u001b[0m \u001b[0mself\u001b[0m\u001b[0;34m.\u001b[0m\u001b[0m_make_engine\u001b[0m\u001b[0;34m(\u001b[0m\u001b[0mf\u001b[0m\u001b[0;34m,\u001b[0m \u001b[0mself\u001b[0m\u001b[0;34m.\u001b[0m\u001b[0mengine\u001b[0m\u001b[0;34m)\u001b[0m\u001b[0;34m\u001b[0m\u001b[0;34m\u001b[0m\u001b[0m\n\u001b[0m\u001b[1;32m   1443\u001b[0m \u001b[0;34m\u001b[0m\u001b[0m\n\u001b[1;32m   1444\u001b[0m     \u001b[0;32mdef\u001b[0m \u001b[0mclose\u001b[0m\u001b[0;34m(\u001b[0m\u001b[0mself\u001b[0m\u001b[0;34m)\u001b[0m \u001b[0;34m->\u001b[0m \u001b[0;32mNone\u001b[0m\u001b[0;34m:\u001b[0m\u001b[0;34m\u001b[0m\u001b[0;34m\u001b[0m\u001b[0m\n",
            "\u001b[0;32m/usr/local/lib/python3.10/dist-packages/pandas/io/parsers/readers.py\u001b[0m in \u001b[0;36m_make_engine\u001b[0;34m(self, f, engine)\u001b[0m\n\u001b[1;32m   1733\u001b[0m                 \u001b[0;32mif\u001b[0m \u001b[0;34m\"b\"\u001b[0m \u001b[0;32mnot\u001b[0m \u001b[0;32min\u001b[0m \u001b[0mmode\u001b[0m\u001b[0;34m:\u001b[0m\u001b[0;34m\u001b[0m\u001b[0;34m\u001b[0m\u001b[0m\n\u001b[1;32m   1734\u001b[0m                     \u001b[0mmode\u001b[0m \u001b[0;34m+=\u001b[0m \u001b[0;34m\"b\"\u001b[0m\u001b[0;34m\u001b[0m\u001b[0;34m\u001b[0m\u001b[0m\n\u001b[0;32m-> 1735\u001b[0;31m             self.handles = get_handle(\n\u001b[0m\u001b[1;32m   1736\u001b[0m                 \u001b[0mf\u001b[0m\u001b[0;34m,\u001b[0m\u001b[0;34m\u001b[0m\u001b[0;34m\u001b[0m\u001b[0m\n\u001b[1;32m   1737\u001b[0m                 \u001b[0mmode\u001b[0m\u001b[0;34m,\u001b[0m\u001b[0;34m\u001b[0m\u001b[0;34m\u001b[0m\u001b[0m\n",
            "\u001b[0;32m/usr/local/lib/python3.10/dist-packages/pandas/io/common.py\u001b[0m in \u001b[0;36mget_handle\u001b[0;34m(path_or_buf, mode, encoding, compression, memory_map, is_text, errors, storage_options)\u001b[0m\n\u001b[1;32m    854\u001b[0m         \u001b[0;32mif\u001b[0m \u001b[0mioargs\u001b[0m\u001b[0;34m.\u001b[0m\u001b[0mencoding\u001b[0m \u001b[0;32mand\u001b[0m \u001b[0;34m\"b\"\u001b[0m \u001b[0;32mnot\u001b[0m \u001b[0;32min\u001b[0m \u001b[0mioargs\u001b[0m\u001b[0;34m.\u001b[0m\u001b[0mmode\u001b[0m\u001b[0;34m:\u001b[0m\u001b[0;34m\u001b[0m\u001b[0;34m\u001b[0m\u001b[0m\n\u001b[1;32m    855\u001b[0m             \u001b[0;31m# Encoding\u001b[0m\u001b[0;34m\u001b[0m\u001b[0;34m\u001b[0m\u001b[0m\n\u001b[0;32m--> 856\u001b[0;31m             handle = open(\n\u001b[0m\u001b[1;32m    857\u001b[0m                 \u001b[0mhandle\u001b[0m\u001b[0;34m,\u001b[0m\u001b[0;34m\u001b[0m\u001b[0;34m\u001b[0m\u001b[0m\n\u001b[1;32m    858\u001b[0m                 \u001b[0mioargs\u001b[0m\u001b[0;34m.\u001b[0m\u001b[0mmode\u001b[0m\u001b[0;34m,\u001b[0m\u001b[0;34m\u001b[0m\u001b[0;34m\u001b[0m\u001b[0m\n",
            "\u001b[0;31mFileNotFoundError\u001b[0m: [Errno 2] No such file or directory: 'columns_description.csv'"
          ]
        }
      ],
      "source": [
        "description_df = pd.read_csv(data_path + 'columns_description.csv').drop(['Unnamed: 0'], axis=1)\n",
        "loan_history_df = pd.read_csv(data_path + 'historial_prestamos.csv')#.drop(['Unnamed: 0'], axis=1)\n",
        "loan_history_movements_df = pd.read_csv(data_path + 'historial_prestamos_movimientos.csv')#.drop(['Unnamed: 0'], axis=1)\n",
        "request_test_df = pd.read_csv(data_path + 'solicitudes_test.csv')\n",
        "request_train_df = pd.read_csv(data_path + 'solicitudes_train.csv')\n",
        "credit_card_movements_df = pd.read_csv(data_path + 'tarjeta_credito_movimientos.csv')#.drop(['Unnamed: 0'], axis=1)"
      ]
    },
    {
      "cell_type": "markdown",
      "metadata": {
        "id": "9Au3Vyzc5Rbl"
      },
      "source": [
        "## Análisis exploratorio de Datos"
      ]
    },
    {
      "cell_type": "code",
      "execution_count": null,
      "metadata": {
        "id": "LcBUkTiz5VyN"
      },
      "outputs": [],
      "source": [
        "# Revision datos de entrenamiento\n",
        "solicitudes_train = request_train_df.copy()\n",
        "solicitudes_train.index = solicitudes_train['SK_ID_CURR']\n",
        "solicitudes_train = solicitudes_train.drop(columns=['SK_ID_CURR'])\n",
        "solicitudes_train"
      ]
    },
    {
      "cell_type": "code",
      "execution_count": null,
      "metadata": {
        "id": "Ixw4RnVS5XCi"
      },
      "outputs": [],
      "source": [
        "# Descripcion datos entrenamiento\n",
        "solicitudes_train.describe()"
      ]
    },
    {
      "cell_type": "code",
      "execution_count": null,
      "metadata": {
        "id": "EEX-g2DP5Z3x"
      },
      "outputs": [],
      "source": [
        "# Distribucion de variable TARGET\n",
        "fig, ax = plt.subplots(figsize=(7,4),nrows=1)\n",
        "sns.countplot(x = 'TARGET', data=solicitudes_train, palette=\"pastel\", ax = ax)\n",
        "ax.set_title('Distribución de variable TARGET')\n",
        "plt.show()\n",
        "\n",
        "solicitudes_train['TARGET'].value_counts()"
      ]
    },
    {
      "cell_type": "markdown",
      "metadata": {
        "id": "QiN4idVn5ceO"
      },
      "source": [
        "Podemos darnos cuenta de que nos encontramos ante un dataset altamente desbalanceado, ya que la proporción de 0s y 1s es 11,4:1 aproximadamente. Debido a esto, para lograr un buen rendimiento de los modelos a implementar deberemos utilizar técnicas de undersampling y/o oversampling sobre la data para lograr un balance. Para este caso se aplicarán ambas tecnicas, llevando ambos valores a un rango medio entre ellos para evitar que la variación de uno solo sea brusca.\n",
        "\n",
        "Otra forma que también puede usarse (y se utilizó) para el balanceo es el agregar pesos. El regresor logistico permite hacer esto."
      ]
    },
    {
      "cell_type": "code",
      "execution_count": null,
      "metadata": {
        "id": "S1yndcgc5bY2"
      },
      "outputs": [],
      "source": [
        "# Cantidad de filas y columnas de datos de entrenamiento y prueba\n",
        "\n",
        "print(\"Cantidad de filas y columnas de los datos de entrenamiento\")\n",
        "print(solicitudes_train.shape[0])\n",
        "print(solicitudes_train.shape[1])"
      ]
    },
    {
      "cell_type": "code",
      "execution_count": null,
      "metadata": {
        "id": "3sExz5iH5joQ"
      },
      "outputs": [],
      "source": [
        "# Cantidad de datos faltantes por columna en los datos de entrenamiento\n",
        "print(\"Cantidad de NaN por columna en datos de entrenamiento: \\n\")\n",
        "print(solicitudes_train.isnull().sum(axis = 0).sort_values(ascending=False).head(20))"
      ]
    },
    {
      "cell_type": "markdown",
      "metadata": {
        "id": "jf9PuDSy5l98"
      },
      "source": [
        "Notar que las 20 columnas revisadas (16,5% del total de columnas) tienen NaN y todas tienen sobre el 59% de sus filas sin datos."
      ]
    },
    {
      "cell_type": "markdown",
      "metadata": {
        "id": "C1jhqODC5pV4"
      },
      "source": [
        "Antes de proceder con la visualización de datos, primero reemplazaremos los datos nulos en el dataset de entrenamiento y en el de prueba.\n",
        "\n",
        "Para datos categóricos y/o strings, se completarán los datos nulos con la moda, mientras que para datos de tipo numérticos, estos serán reemplazados con la mediana."
      ]
    },
    {
      "cell_type": "code",
      "execution_count": null,
      "metadata": {
        "id": "c5KODwYo5rFq"
      },
      "outputs": [],
      "source": [
        "def completar_nulos(df):\n",
        "\n",
        "    data_copy = df.copy()\n",
        "    # Revisión de si las columnas son numéricas o no\n",
        "    int_columns = data_copy.select_dtypes(include=['int64']).columns.tolist()\n",
        "    float_columns = data_copy.select_dtypes(include=['float64']).columns.tolist()\n",
        "    numericas = float_columns + int_columns\n",
        "\n",
        "    string_columns = data_copy.select_dtypes(exclude=[np.number]).columns.tolist()\n",
        "\n",
        "    for column in numericas:\n",
        "        data_copy[column] = data_copy[column].fillna((data_copy[column].median()))\n",
        "\n",
        "    for column in string_columns:\n",
        "        data_copy[column].fillna(data_copy[column].mode()[0], inplace=True)\n",
        "\n",
        "    return data_copy\n",
        "\n",
        "solicitudes_train_completo = completar_nulos(solicitudes_train)"
      ]
    },
    {
      "cell_type": "code",
      "execution_count": null,
      "metadata": {
        "id": "cAPE-V7R5uYm"
      },
      "outputs": [],
      "source": [
        "print(solicitudes_train_completo.isnull().sum(axis = 0).sum())"
      ]
    },
    {
      "cell_type": "markdown",
      "metadata": {
        "id": "Y2d-O4Ai5xU5"
      },
      "source": [
        "Ahora procederemos a visualizar la data de varias columnas."
      ]
    },
    {
      "cell_type": "code",
      "execution_count": null,
      "metadata": {
        "id": "esvB1LZY5zxO"
      },
      "outputs": [],
      "source": [
        "# Distribución de datos por genero\n",
        "\n",
        "fig, ax = plt.subplots(figsize=(7,4),nrows=1)\n",
        "sns.countplot(x = 'CODE_GENDER', data=solicitudes_train_completo, palette=\"pastel\", ax = ax)\n",
        "ax.set_title('Distribución por genero')\n",
        "plt.show()\n",
        "\n",
        "solicitudes_train['CODE_GENDER'].value_counts()"
      ]
    },
    {
      "cell_type": "code",
      "execution_count": null,
      "metadata": {
        "id": "dbfe8eDG6ENt"
      },
      "outputs": [],
      "source": [
        "# Distribución deuda pagada por genero\n",
        "groupGen = solicitudes_train_completo.groupby(['CODE_GENDER'])['TARGET'].value_counts()\n",
        "groupGen"
      ]
    },
    {
      "cell_type": "markdown",
      "metadata": {
        "id": "lvKqXcK6803A"
      },
      "source": [
        "Femenino: 7% no paga (6921 personas)\n",
        "\n",
        "Masculino: 10% no paga (5243 personas)"
      ]
    },
    {
      "cell_type": "code",
      "execution_count": null,
      "metadata": {
        "id": "fAhdnrv96Ff9"
      },
      "outputs": [],
      "source": [
        "# Descripción de datos de ingresos\n",
        "\n",
        "solicitudes_train_completo['AMT_INCOME_TOTAL'].describe()"
      ]
    },
    {
      "cell_type": "code",
      "execution_count": null,
      "metadata": {
        "id": "_9QdziW16HNS"
      },
      "outputs": [],
      "source": [
        "plt.figure(figsize=(17,5))\n",
        "plt.xlabel('Monto del ingreso')\n",
        "plt.title('Distribución monto de ingresos')\n",
        "sns.histplot(solicitudes_train_completo['AMT_INCOME_TOTAL'],bins=200,kde=False)\n",
        "plt.axvline(x=solicitudes_train_completo['AMT_INCOME_TOTAL'].median(),\n",
        "            linestyle='--',\n",
        "            color='green',\n",
        "            label='Median: {} USD'.format(int(np.median(solicitudes_train_completo['AMT_INCOME_TOTAL']))))\n",
        "\n",
        "plt.axvline(x=solicitudes_train_completo['AMT_INCOME_TOTAL'].mean(),\n",
        "            linestyle=':',\n",
        "            color='red',\n",
        "            label='Mean: {} USD'.format(int(np.mean(solicitudes_train_completo['AMT_INCOME_TOTAL']))))\n",
        "\n",
        "plt.legend(loc=0)\n",
        "\n",
        "x_ticks = [100000,  2000000, 4000000, 10000000, 20000000]\n",
        "x_labels = ['100,000', '2,000,000', '4,000,000', '10,000,000', '20,000,000']\n",
        "\n",
        "plt.xticks(x_ticks, x_labels)\n",
        "\n",
        "plt.show()"
      ]
    },
    {
      "cell_type": "markdown",
      "metadata": {
        "id": "yiVgsZ3X6KA2"
      },
      "source": [
        "La gráfica anterior no deja ver claramente la distribución, ya que los datos que pasan de 450.000 son muy pocos y hacen que el gráfico se vea desbalanceado.\n",
        "\n",
        "Debido a esto , tomamos el 99% de los datos que se encuentran entre 0 y 450.000 e hicimos nuevamente el gráfico donde podemos tener una mejor apreciación de la distribución."
      ]
    },
    {
      "cell_type": "code",
      "execution_count": null,
      "metadata": {
        "id": "XRX9Rumd6L6P"
      },
      "outputs": [],
      "source": [
        "#np.array(solicitudes_train_completo['AMT_INCOME_TOTAL']).percentile(0.8)\n",
        "print(np.percentile(solicitudes_train_completo['AMT_INCOME_TOTAL'],99))"
      ]
    },
    {
      "cell_type": "code",
      "execution_count": null,
      "metadata": {
        "id": "RH-k3uEC6NVm"
      },
      "outputs": [],
      "source": [
        "solicitudes_train_99 = solicitudes_train_completo[solicitudes_train_completo['AMT_INCOME_TOTAL'] <= 450000]"
      ]
    },
    {
      "cell_type": "code",
      "execution_count": null,
      "metadata": {
        "id": "PhQCuv8b6O5g"
      },
      "outputs": [],
      "source": [
        "plt.figure(figsize=(17,5))\n",
        "plt.xlabel('Monto del ingreso')\n",
        "plt.title('Distribución monto de ingresos')\n",
        "sns.histplot(solicitudes_train_99['AMT_INCOME_TOTAL'],bins=200,kde=False)\n",
        "plt.axvline(x=solicitudes_train_completo['AMT_INCOME_TOTAL'].median(),\n",
        "            linestyle='--',\n",
        "            color='green',\n",
        "            label='Median: {} USD'.format(int(np.median(solicitudes_train_completo['AMT_INCOME_TOTAL']))))\n",
        "\n",
        "plt.axvline(x=solicitudes_train_completo['AMT_INCOME_TOTAL'].mean(),\n",
        "            linestyle=':',\n",
        "            color='red',\n",
        "            label='Mean: {} USD'.format(int(np.mean(solicitudes_train_completo['AMT_INCOME_TOTAL']))))\n",
        "\n",
        "plt.legend(loc=0)\n",
        "\n",
        "#x_ticks = [100000,  2000000, 4000000, 10000000, 20000000]\n",
        "#x_labels = ['100,000', '2,000,000', '4,000,000', '10,000,000', '20,000,000']\n",
        "\n",
        "#plt.xticks(x_ticks, x_labels)\n",
        "\n",
        "plt.show()"
      ]
    },
    {
      "cell_type": "code",
      "execution_count": null,
      "metadata": {
        "id": "g-LWf84u6RUC"
      },
      "outputs": [],
      "source": [
        "solicitudes_train_completo['AMT_CREDIT'].describe()"
      ]
    },
    {
      "cell_type": "code",
      "execution_count": null,
      "metadata": {
        "id": "YzHs7iUq6TK8"
      },
      "outputs": [],
      "source": [
        "plt.figure(figsize=(17,5))\n",
        "plt.xlabel('Monto del préstamo')\n",
        "plt.title('Distribución monto de los préstamos')\n",
        "sns.histplot(solicitudes_train_completo['AMT_CREDIT'],bins=200,kde=False)\n",
        "plt.axvline(x=solicitudes_train_completo['AMT_CREDIT'].median(),\n",
        "            linestyle='--',\n",
        "            color='green',\n",
        "            label='Median: {} USD'.format(int(np.median(solicitudes_train_completo['AMT_CREDIT']))))\n",
        "\n",
        "plt.axvline(x=solicitudes_train_completo['AMT_CREDIT'].mean(),\n",
        "            linestyle=':',\n",
        "            color='red',\n",
        "            label='Mean: {} USD'.format(int(np.mean(solicitudes_train_completo['AMT_CREDIT']))))\n",
        "\n",
        "plt.legend(loc=0)\n",
        "\n",
        "x_ticks = [100000, 500000, 1000000, 2000000, 4100000]\n",
        "x_labels = ['100,000', '500,000', '1,000,000', '2,000,000', '4,100,000']\n",
        "\n",
        "plt.xticks(x_ticks, x_labels)\n",
        "\n",
        "plt.show()"
      ]
    },
    {
      "cell_type": "code",
      "execution_count": null,
      "metadata": {
        "id": "sFsblq2y6U0M"
      },
      "outputs": [],
      "source": [
        "tipoEduc = solicitudes_train_completo.groupby(['NAME_EDUCATION_TYPE']).size().reset_index(name='counts')\n",
        "tipoEduc = tipoEduc.sort_values(by='counts', ascending=False)\n",
        "\n",
        "fig, ax = plt.subplots(figsize=(20,5),nrows=1)\n",
        "sns.barplot(data=tipoEduc, y='NAME_EDUCATION_TYPE', x='counts', palette=\"viridis\",ax=ax)\n",
        "ax.set_title('Número de clientes por nivel educacional alcanzado')\n",
        "plt.show()"
      ]
    },
    {
      "cell_type": "code",
      "execution_count": null,
      "metadata": {
        "id": "5AIjTOMF6Ymx"
      },
      "outputs": [],
      "source": [
        "group = solicitudes_train_completo.groupby(['NAME_EDUCATION_TYPE'])['TARGET'].value_counts()\n",
        "classes = ['Academic degree','Academic degree','Higher education','Higher education','Incomplete higher','Incomplete higher','Lower secondary','Lower secondary','Secondary / secondary special','Secondary / secondary special']\n",
        "\n",
        "data = {\n",
        "    'NAME_EDUCATION_TYPE': classes,\n",
        "    'TARGET': [0, 1, 0, 1, 0, 1, 0, 1, 0, 1],\n",
        "    'Count': group\n",
        "}\n",
        "\n",
        "df = pd.DataFrame(data)\n",
        "\n",
        "# Get unique education types\n",
        "unique_education_types = df['NAME_EDUCATION_TYPE'].unique()\n",
        "\n",
        "# Define the number of rows and columns for subplots\n",
        "num_rows = 3\n",
        "num_cols = 2\n",
        "\n",
        "# Create a figure with subplots\n",
        "fig, axes = plt.subplots(num_rows, num_cols, figsize=(12, 10))\n",
        "fig.tight_layout(pad=10)\n",
        "\n",
        "\n",
        "plt.subplots_adjust(hspace=2)\n",
        "\n",
        "\n",
        "# Iterate through education types and create subplots\n",
        "for i, education_type in enumerate(unique_education_types):\n",
        "    row = i // num_cols\n",
        "    col = i % num_cols\n",
        "    subset = df[df['NAME_EDUCATION_TYPE'] == education_type]\n",
        "\n",
        "    # Create the bar chart for the current education type\n",
        "    ax = axes[row, col]\n",
        "    bars = ax.bar(subset['TARGET'], subset['Count'], tick_label=subset['TARGET'])\n",
        "\n",
        "    # Add numbers above the bars\n",
        "    for bar in bars:\n",
        "        height = bar.get_height()\n",
        "        ax.annotate(f'{height}',\n",
        "                    xy=(bar.get_x() + bar.get_width() / 2, height/2),\n",
        "                    xytext=(0,7),  # 3 points vertical offset\n",
        "                    textcoords=\"offset points\",\n",
        "                    ha='center', va='bottom',\n",
        "                    color='black')\n",
        "\n",
        "    # Set labels and title\n",
        "    ax.set_xlabel('Target')\n",
        "    ax.set_ylabel('Count')\n",
        "    ax.set_title(education_type.upper())\n",
        "\n",
        "fig.delaxes(axes[2, 1])\n",
        "# Adjust layout\n",
        "plt.tight_layout()\n",
        "plt.show()"
      ]
    },
    {
      "cell_type": "code",
      "execution_count": null,
      "metadata": {
        "id": "DKMyto6F6Wyv"
      },
      "outputs": [],
      "source": [
        "group = solicitudes_train_completo.groupby(['NAME_EDUCATION_TYPE'])['TARGET'].value_counts()\n",
        "group"
      ]
    },
    {
      "cell_type": "markdown",
      "metadata": {
        "id": "uSdbJx_z6YTg"
      },
      "source": [
        "Hay una fuerte relación entre que menor sea su nivel educacional, más probable es que no paguen su credito."
      ]
    },
    {
      "cell_type": "code",
      "execution_count": null,
      "metadata": {
        "id": "ym_MBZdY6a4-"
      },
      "outputs": [],
      "source": [
        "ocupacion = solicitudes_train_completo.groupby(['OCCUPATION_TYPE']).mean()['AMT_INCOME_TOTAL'].reset_index(name='mean')\n",
        "ocupacion = ocupacion.sort_values(by='mean',ascending=False)\n",
        "\n",
        "fig, ax = plt.subplots(figsize=(20,5),nrows=1)\n",
        "sns.barplot(data=ocupacion, y='OCCUPATION_TYPE', x='mean', palette=\"pastel\",ax=ax)\n",
        "ax.set_xlabel('Salario medio')\n",
        "ax.set_title('Ingreso medio por tipo de ocupación')\n",
        "plt.show()"
      ]
    },
    {
      "cell_type": "code",
      "execution_count": null,
      "metadata": {
        "id": "O8HeLpz06gHT"
      },
      "outputs": [],
      "source": [
        "groupy = solicitudes_train_completo.groupby(['OCCUPATION_TYPE'])['TARGET'].value_counts()\n",
        "classes = ['Accountants','Accountants','Cleaning staff','Cleaning staff','Cooking staff','Cooking staff','Core staff','Core staff', 'Drivers', 'Drivers', 'HR staff', 'HR staff','High skill tech staff','High skill tech staff','IT staff','IT staff','Laborers','Laborers','Low-skill Laborers','Low-skill Laborers','Managers','Managers','Medicine staff','Medicine staff','Private service staff','Private service staff','Realty agents','Realty agents','Sales staff','Sales staff','Secretaries','Secretaries','Security staff','Security staff','Waiters/barmen staff','Waiters/barmen staff']\n",
        "\n",
        "data = {\n",
        "    'OCCUPATION_TYPE': classes,\n",
        "    'TARGET': [0, 1, 0, 1, 0, 1, 0, 1, 0, 1, 0, 1, 0, 1, 0, 1, 0, 1,0, 1, 0, 1, 0, 1, 0, 1, 0, 1, 0, 1, 0, 1, 0, 1, 0, 1],\n",
        "    'Count': groupy\n",
        "}\n",
        "\n",
        "df = pd.DataFrame(data)\n",
        "\n",
        "# Get unique education types\n",
        "unique_education_types = df['OCCUPATION_TYPE'].unique()\n",
        "\n",
        "# Define the number of rows and columns for subplots\n",
        "num_rows = 6\n",
        "num_cols = 3\n",
        "# Create a figure with subplots\n",
        "fig, axes = plt.subplots(num_rows, num_cols, figsize=(12, 10))\n",
        "fig.tight_layout(pad=10)\n",
        "\n",
        "\n",
        "plt.subplots_adjust(hspace=2)\n",
        "\n",
        "\n",
        "# Iterate through education types and create subplots\n",
        "for i, education_type in enumerate(unique_education_types):\n",
        "    row = i // num_cols\n",
        "    col = i % num_cols\n",
        "    subset = df[df['OCCUPATION_TYPE'] == education_type]\n",
        "\n",
        "    # Create the bar chart for the current education type\n",
        "    ax = axes[row, col]\n",
        "    bars = ax.bar(subset['TARGET'], subset['Count'], tick_label=subset['TARGET'])\n",
        "\n",
        "    # Add numbers above the bars\n",
        "    for bar in bars:\n",
        "        height = bar.get_height()\n",
        "        ax.annotate(f'{height}',\n",
        "                    xy=(bar.get_x() + bar.get_width() / 2, height/2),\n",
        "                    xytext=(0,7),  # 3 points vertical offset\n",
        "                    textcoords=\"offset points\",\n",
        "                    ha='center', va='bottom',\n",
        "                    color='black')\n",
        "\n",
        "    # Set labels and title\n",
        "    ax.set_xlabel('Target')\n",
        "    ax.set_ylabel('Count')\n",
        "    ax.set_title(education_type.upper())\n",
        "\n",
        "#fig.delaxes(axes[2, 1])\n",
        "# Adjust layout\n",
        "plt.tight_layout()\n",
        "plt.show()"
      ]
    },
    {
      "cell_type": "code",
      "execution_count": null,
      "metadata": {
        "id": "yJ6q1Q4-6c_4"
      },
      "outputs": [],
      "source": [
        "groupy = solicitudes_train_completo.groupby(['OCCUPATION_TYPE'])['TARGET'].value_counts()\n",
        "groupy"
      ]
    },
    {
      "cell_type": "markdown",
      "metadata": {
        "id": "kckaSdJA6iAd"
      },
      "source": [
        "La gente con trabajos de baja habilidad son quienes presentan el mayor porcentaje (21%) de clientes que no pagan."
      ]
    },
    {
      "cell_type": "code",
      "execution_count": null,
      "metadata": {
        "id": "6QzuAxAR6jkX"
      },
      "outputs": [],
      "source": [
        "solicitudes_train_completo['DAYS_BIRTH'].describe()"
      ]
    },
    {
      "cell_type": "markdown",
      "metadata": {
        "id": "88Hx2QNM-Dej"
      },
      "source": [
        "Mayor: 69 años\n",
        "\n",
        "Menor: 21 años"
      ]
    },
    {
      "cell_type": "markdown",
      "metadata": {
        "id": "aB6TMmguwPS2"
      },
      "source": [
        "# Codificacion"
      ]
    },
    {
      "cell_type": "markdown",
      "metadata": {
        "id": "gvJlt2pXwPS2"
      },
      "source": [
        "## Borrando NaNs"
      ]
    },
    {
      "cell_type": "code",
      "execution_count": null,
      "metadata": {
        "colab": {
          "base_uri": "https://localhost:8080/"
        },
        "id": "9cuJV1fOXQCQ",
        "outputId": "196e4904-7c39-4c7e-bf8a-14dab84cf8d2",
        "scrolled": true
      },
      "outputs": [
        {
          "data": {
            "text/html": [
              "<div>\n",
              "<style scoped>\n",
              "    .dataframe tbody tr th:only-of-type {\n",
              "        vertical-align: middle;\n",
              "    }\n",
              "\n",
              "    .dataframe tbody tr th {\n",
              "        vertical-align: top;\n",
              "    }\n",
              "\n",
              "    .dataframe thead th {\n",
              "        text-align: right;\n",
              "    }\n",
              "</style>\n",
              "<table border=\"1\" class=\"dataframe\">\n",
              "  <thead>\n",
              "    <tr style=\"text-align: right;\">\n",
              "      <th></th>\n",
              "      <th>SK_ID_CURR</th>\n",
              "      <th>TARGET</th>\n",
              "      <th>NAME_CONTRACT_TYPE</th>\n",
              "      <th>CODE_GENDER</th>\n",
              "      <th>FLAG_OWN_CAR</th>\n",
              "      <th>FLAG_OWN_REALTY</th>\n",
              "      <th>CNT_CHILDREN</th>\n",
              "      <th>AMT_INCOME_TOTAL</th>\n",
              "      <th>AMT_CREDIT</th>\n",
              "      <th>NAME_INCOME_TYPE</th>\n",
              "      <th>...</th>\n",
              "      <th>FLAG_DOCUMENT_12</th>\n",
              "      <th>FLAG_DOCUMENT_13</th>\n",
              "      <th>FLAG_DOCUMENT_14</th>\n",
              "      <th>FLAG_DOCUMENT_15</th>\n",
              "      <th>FLAG_DOCUMENT_16</th>\n",
              "      <th>FLAG_DOCUMENT_17</th>\n",
              "      <th>FLAG_DOCUMENT_18</th>\n",
              "      <th>FLAG_DOCUMENT_19</th>\n",
              "      <th>FLAG_DOCUMENT_20</th>\n",
              "      <th>FLAG_DOCUMENT_21</th>\n",
              "    </tr>\n",
              "  </thead>\n",
              "  <tbody>\n",
              "    <tr>\n",
              "      <th>0</th>\n",
              "      <td>331475</td>\n",
              "      <td>0</td>\n",
              "      <td>Cash loans</td>\n",
              "      <td>F</td>\n",
              "      <td>Y</td>\n",
              "      <td>Y</td>\n",
              "      <td>0</td>\n",
              "      <td>135000.0</td>\n",
              "      <td>835380.0</td>\n",
              "      <td>Pensioner</td>\n",
              "      <td>...</td>\n",
              "      <td>0</td>\n",
              "      <td>0</td>\n",
              "      <td>0</td>\n",
              "      <td>0</td>\n",
              "      <td>0</td>\n",
              "      <td>0</td>\n",
              "      <td>0</td>\n",
              "      <td>0</td>\n",
              "      <td>0</td>\n",
              "      <td>0</td>\n",
              "    </tr>\n",
              "    <tr>\n",
              "      <th>1</th>\n",
              "      <td>366488</td>\n",
              "      <td>0</td>\n",
              "      <td>Cash loans</td>\n",
              "      <td>F</td>\n",
              "      <td>N</td>\n",
              "      <td>Y</td>\n",
              "      <td>0</td>\n",
              "      <td>103500.0</td>\n",
              "      <td>659533.5</td>\n",
              "      <td>Pensioner</td>\n",
              "      <td>...</td>\n",
              "      <td>0</td>\n",
              "      <td>0</td>\n",
              "      <td>0</td>\n",
              "      <td>0</td>\n",
              "      <td>0</td>\n",
              "      <td>0</td>\n",
              "      <td>0</td>\n",
              "      <td>0</td>\n",
              "      <td>0</td>\n",
              "      <td>0</td>\n",
              "    </tr>\n",
              "    <tr>\n",
              "      <th>2</th>\n",
              "      <td>444791</td>\n",
              "      <td>0</td>\n",
              "      <td>Cash loans</td>\n",
              "      <td>F</td>\n",
              "      <td>N</td>\n",
              "      <td>Y</td>\n",
              "      <td>0</td>\n",
              "      <td>135000.0</td>\n",
              "      <td>219042.0</td>\n",
              "      <td>Working</td>\n",
              "      <td>...</td>\n",
              "      <td>0</td>\n",
              "      <td>0</td>\n",
              "      <td>0</td>\n",
              "      <td>0</td>\n",
              "      <td>0</td>\n",
              "      <td>0</td>\n",
              "      <td>0</td>\n",
              "      <td>0</td>\n",
              "      <td>0</td>\n",
              "      <td>0</td>\n",
              "    </tr>\n",
              "    <tr>\n",
              "      <th>3</th>\n",
              "      <td>112960</td>\n",
              "      <td>0</td>\n",
              "      <td>Revolving loans</td>\n",
              "      <td>F</td>\n",
              "      <td>N</td>\n",
              "      <td>Y</td>\n",
              "      <td>0</td>\n",
              "      <td>67500.0</td>\n",
              "      <td>675000.0</td>\n",
              "      <td>Working</td>\n",
              "      <td>...</td>\n",
              "      <td>0</td>\n",
              "      <td>0</td>\n",
              "      <td>0</td>\n",
              "      <td>0</td>\n",
              "      <td>0</td>\n",
              "      <td>0</td>\n",
              "      <td>0</td>\n",
              "      <td>0</td>\n",
              "      <td>0</td>\n",
              "      <td>0</td>\n",
              "    </tr>\n",
              "    <tr>\n",
              "      <th>4</th>\n",
              "      <td>418735</td>\n",
              "      <td>0</td>\n",
              "      <td>Revolving loans</td>\n",
              "      <td>F</td>\n",
              "      <td>N</td>\n",
              "      <td>Y</td>\n",
              "      <td>0</td>\n",
              "      <td>315000.0</td>\n",
              "      <td>900000.0</td>\n",
              "      <td>Pensioner</td>\n",
              "      <td>...</td>\n",
              "      <td>0</td>\n",
              "      <td>0</td>\n",
              "      <td>0</td>\n",
              "      <td>0</td>\n",
              "      <td>0</td>\n",
              "      <td>0</td>\n",
              "      <td>0</td>\n",
              "      <td>0</td>\n",
              "      <td>0</td>\n",
              "      <td>0</td>\n",
              "    </tr>\n",
              "    <tr>\n",
              "      <th>...</th>\n",
              "      <td>...</td>\n",
              "      <td>...</td>\n",
              "      <td>...</td>\n",
              "      <td>...</td>\n",
              "      <td>...</td>\n",
              "      <td>...</td>\n",
              "      <td>...</td>\n",
              "      <td>...</td>\n",
              "      <td>...</td>\n",
              "      <td>...</td>\n",
              "      <td>...</td>\n",
              "      <td>...</td>\n",
              "      <td>...</td>\n",
              "      <td>...</td>\n",
              "      <td>...</td>\n",
              "      <td>...</td>\n",
              "      <td>...</td>\n",
              "      <td>...</td>\n",
              "      <td>...</td>\n",
              "      <td>...</td>\n",
              "      <td>...</td>\n",
              "    </tr>\n",
              "    <tr>\n",
              "      <th>150674</th>\n",
              "      <td>244356</td>\n",
              "      <td>0</td>\n",
              "      <td>Cash loans</td>\n",
              "      <td>M</td>\n",
              "      <td>N</td>\n",
              "      <td>Y</td>\n",
              "      <td>0</td>\n",
              "      <td>112500.0</td>\n",
              "      <td>112068.0</td>\n",
              "      <td>Working</td>\n",
              "      <td>...</td>\n",
              "      <td>0</td>\n",
              "      <td>0</td>\n",
              "      <td>0</td>\n",
              "      <td>0</td>\n",
              "      <td>0</td>\n",
              "      <td>0</td>\n",
              "      <td>0</td>\n",
              "      <td>0</td>\n",
              "      <td>0</td>\n",
              "      <td>0</td>\n",
              "    </tr>\n",
              "    <tr>\n",
              "      <th>150675</th>\n",
              "      <td>213955</td>\n",
              "      <td>0</td>\n",
              "      <td>Cash loans</td>\n",
              "      <td>F</td>\n",
              "      <td>N</td>\n",
              "      <td>Y</td>\n",
              "      <td>0</td>\n",
              "      <td>135000.0</td>\n",
              "      <td>781920.0</td>\n",
              "      <td>State servant</td>\n",
              "      <td>...</td>\n",
              "      <td>0</td>\n",
              "      <td>0</td>\n",
              "      <td>0</td>\n",
              "      <td>0</td>\n",
              "      <td>0</td>\n",
              "      <td>0</td>\n",
              "      <td>0</td>\n",
              "      <td>0</td>\n",
              "      <td>0</td>\n",
              "      <td>0</td>\n",
              "    </tr>\n",
              "    <tr>\n",
              "      <th>150676</th>\n",
              "      <td>376877</td>\n",
              "      <td>0</td>\n",
              "      <td>Revolving loans</td>\n",
              "      <td>F</td>\n",
              "      <td>N</td>\n",
              "      <td>Y</td>\n",
              "      <td>0</td>\n",
              "      <td>135000.0</td>\n",
              "      <td>202500.0</td>\n",
              "      <td>Pensioner</td>\n",
              "      <td>...</td>\n",
              "      <td>0</td>\n",
              "      <td>0</td>\n",
              "      <td>0</td>\n",
              "      <td>0</td>\n",
              "      <td>0</td>\n",
              "      <td>0</td>\n",
              "      <td>0</td>\n",
              "      <td>0</td>\n",
              "      <td>0</td>\n",
              "      <td>0</td>\n",
              "    </tr>\n",
              "    <tr>\n",
              "      <th>150677</th>\n",
              "      <td>246747</td>\n",
              "      <td>0</td>\n",
              "      <td>Cash loans</td>\n",
              "      <td>F</td>\n",
              "      <td>N</td>\n",
              "      <td>N</td>\n",
              "      <td>1</td>\n",
              "      <td>135000.0</td>\n",
              "      <td>508495.5</td>\n",
              "      <td>Working</td>\n",
              "      <td>...</td>\n",
              "      <td>0</td>\n",
              "      <td>0</td>\n",
              "      <td>0</td>\n",
              "      <td>0</td>\n",
              "      <td>0</td>\n",
              "      <td>0</td>\n",
              "      <td>0</td>\n",
              "      <td>0</td>\n",
              "      <td>0</td>\n",
              "      <td>0</td>\n",
              "    </tr>\n",
              "    <tr>\n",
              "      <th>150678</th>\n",
              "      <td>224980</td>\n",
              "      <td>0</td>\n",
              "      <td>Revolving loans</td>\n",
              "      <td>F</td>\n",
              "      <td>N</td>\n",
              "      <td>Y</td>\n",
              "      <td>1</td>\n",
              "      <td>67500.0</td>\n",
              "      <td>180000.0</td>\n",
              "      <td>Working</td>\n",
              "      <td>...</td>\n",
              "      <td>0</td>\n",
              "      <td>0</td>\n",
              "      <td>0</td>\n",
              "      <td>0</td>\n",
              "      <td>0</td>\n",
              "      <td>0</td>\n",
              "      <td>0</td>\n",
              "      <td>0</td>\n",
              "      <td>0</td>\n",
              "      <td>0</td>\n",
              "    </tr>\n",
              "  </tbody>\n",
              "</table>\n",
              "<p>150679 rows × 56 columns</p>\n",
              "</div>"
            ],
            "text/plain": [
              "        SK_ID_CURR  TARGET NAME_CONTRACT_TYPE CODE_GENDER FLAG_OWN_CAR  \\\n",
              "0           331475       0         Cash loans           F            Y   \n",
              "1           366488       0         Cash loans           F            N   \n",
              "2           444791       0         Cash loans           F            N   \n",
              "3           112960       0    Revolving loans           F            N   \n",
              "4           418735       0    Revolving loans           F            N   \n",
              "...            ...     ...                ...         ...          ...   \n",
              "150674      244356       0         Cash loans           M            N   \n",
              "150675      213955       0         Cash loans           F            N   \n",
              "150676      376877       0    Revolving loans           F            N   \n",
              "150677      246747       0         Cash loans           F            N   \n",
              "150678      224980       0    Revolving loans           F            N   \n",
              "\n",
              "       FLAG_OWN_REALTY  CNT_CHILDREN  AMT_INCOME_TOTAL  AMT_CREDIT  \\\n",
              "0                    Y             0          135000.0    835380.0   \n",
              "1                    Y             0          103500.0    659533.5   \n",
              "2                    Y             0          135000.0    219042.0   \n",
              "3                    Y             0           67500.0    675000.0   \n",
              "4                    Y             0          315000.0    900000.0   \n",
              "...                ...           ...               ...         ...   \n",
              "150674               Y             0          112500.0    112068.0   \n",
              "150675               Y             0          135000.0    781920.0   \n",
              "150676               Y             0          135000.0    202500.0   \n",
              "150677               N             1          135000.0    508495.5   \n",
              "150678               Y             1           67500.0    180000.0   \n",
              "\n",
              "       NAME_INCOME_TYPE  ... FLAG_DOCUMENT_12 FLAG_DOCUMENT_13  \\\n",
              "0             Pensioner  ...                0                0   \n",
              "1             Pensioner  ...                0                0   \n",
              "2               Working  ...                0                0   \n",
              "3               Working  ...                0                0   \n",
              "4             Pensioner  ...                0                0   \n",
              "...                 ...  ...              ...              ...   \n",
              "150674          Working  ...                0                0   \n",
              "150675    State servant  ...                0                0   \n",
              "150676        Pensioner  ...                0                0   \n",
              "150677          Working  ...                0                0   \n",
              "150678          Working  ...                0                0   \n",
              "\n",
              "       FLAG_DOCUMENT_14  FLAG_DOCUMENT_15  FLAG_DOCUMENT_16  FLAG_DOCUMENT_17  \\\n",
              "0                     0                 0                 0                 0   \n",
              "1                     0                 0                 0                 0   \n",
              "2                     0                 0                 0                 0   \n",
              "3                     0                 0                 0                 0   \n",
              "4                     0                 0                 0                 0   \n",
              "...                 ...               ...               ...               ...   \n",
              "150674                0                 0                 0                 0   \n",
              "150675                0                 0                 0                 0   \n",
              "150676                0                 0                 0                 0   \n",
              "150677                0                 0                 0                 0   \n",
              "150678                0                 0                 0                 0   \n",
              "\n",
              "        FLAG_DOCUMENT_18  FLAG_DOCUMENT_19  FLAG_DOCUMENT_20  FLAG_DOCUMENT_21  \n",
              "0                      0                 0                 0                 0  \n",
              "1                      0                 0                 0                 0  \n",
              "2                      0                 0                 0                 0  \n",
              "3                      0                 0                 0                 0  \n",
              "4                      0                 0                 0                 0  \n",
              "...                  ...               ...               ...               ...  \n",
              "150674                 0                 0                 0                 0  \n",
              "150675                 0                 0                 0                 0  \n",
              "150676                 0                 0                 0                 0  \n",
              "150677                 0                 0                 0                 0  \n",
              "150678                 0                 0                 0                 0  \n",
              "\n",
              "[150679 rows x 56 columns]"
            ]
          },
          "execution_count": 29,
          "metadata": {},
          "output_type": "execute_result"
        }
      ],
      "source": [
        "nans_cols = []\n",
        "for idx, row in pd.DataFrame(request_train_df.isna().sum()).iterrows():\n",
        "  if row[0] == 0:\n",
        "    nans_cols.append(idx)\n",
        "\n",
        "# Importante la utilización de copy para que python explicite un nuevo espacio de memoria para nuevo dataframe\n",
        "request_train_filtered_df = request_train_df[nans_cols].copy()\n",
        "request_train_filtered_df"
      ]
    },
    {
      "cell_type": "code",
      "execution_count": null,
      "metadata": {
        "colab": {
          "base_uri": "https://localhost:8080/"
        },
        "id": "gnH1T24kwPS3",
        "outputId": "452f44d7-d99e-4a60-c79e-b41855c5671f",
        "scrolled": true
      },
      "outputs": [
        {
          "data": {
            "text/plain": [
              "['NAME_CONTRACT_TYPE',\n",
              " 'CODE_GENDER',\n",
              " 'FLAG_OWN_CAR',\n",
              " 'FLAG_OWN_REALTY',\n",
              " 'NAME_INCOME_TYPE',\n",
              " 'NAME_EDUCATION_TYPE',\n",
              " 'NAME_FAMILY_STATUS',\n",
              " 'NAME_HOUSING_TYPE',\n",
              " 'ORGANIZATION_TYPE']"
            ]
          },
          "execution_count": 30,
          "metadata": {},
          "output_type": "execute_result"
        }
      ],
      "source": [
        "objectColumns = request_train_filtered_df.select_dtypes(include=['object']).columns.tolist()\n",
        "objectColumns.remove('WEEKDAY_APPR_PROCESS_START')\n",
        "objectColumns"
      ]
    },
    {
      "cell_type": "code",
      "execution_count": null,
      "metadata": {
        "id": "zJwM07tywPS3"
      },
      "outputs": [],
      "source": [
        "order_WEEKDAY_APPR_PROCESS_START = ['MONDAY','TUESDAY','WEDNESDAY','THURSDAY','FRIDAY','SATURDAY','SUNDAY']\n",
        "request_train_filtered_df['WEEKDAY_APPR_PROCESS_START'] = OrdinalEncoder(categories=[order_WEEKDAY_APPR_PROCESS_START]).fit_transform(request_train_filtered_df[['WEEKDAY_APPR_PROCESS_START']])"
      ]
    },
    {
      "cell_type": "code",
      "execution_count": null,
      "metadata": {
        "id": "TBB6-tcKwPS4"
      },
      "outputs": [],
      "source": [
        "ohe_X1 = OneHotEncoder(handle_unknown = 'ignore')\n",
        "encoded_data = ohe_X1.fit_transform(request_train_filtered_df[objectColumns])\n",
        "encoded_df = pd.DataFrame(encoded_data.toarray(), columns=ohe_X1.get_feature_names_out(objectColumns))\n",
        "\n",
        "request_train_filtered_df = pd.concat([request_train_filtered_df, encoded_df], axis=1)\n",
        "request_train_filtered_df.drop(columns=objectColumns, inplace=True)"
      ]
    },
    {
      "cell_type": "code",
      "execution_count": null,
      "metadata": {
        "id": "JhjY1InUwPS4"
      },
      "outputs": [],
      "source": [
        "X1_train, X1_val, y1_train, y1_val = train_test_split(request_train_filtered_df.drop(columns = ['TARGET','SK_ID_CURR']), request_train_filtered_df['TARGET'],stratify = request_train_filtered_df['TARGET'], test_size = 0.2, random_state = 125)"
      ]
    },
    {
      "cell_type": "markdown",
      "metadata": {
        "id": "WUp_YlVZwPS4"
      },
      "source": [
        "## Cambiando NaNs y balanceando clases"
      ]
    },
    {
      "cell_type": "code",
      "execution_count": null,
      "metadata": {
        "id": "FUH87SxlwPS4"
      },
      "outputs": [],
      "source": [
        "def fill_missing_median(df):\n",
        "    string_columns = df.select_dtypes(include=['object'])\n",
        "    df[string_columns.columns] = df[string_columns.columns].fillna(df[string_columns.columns].mode().iloc[0])\n",
        "    numeric_columns = df.select_dtypes(include=['number'])\n",
        "    df[numeric_columns.columns] = df[numeric_columns.columns].fillna(df[numeric_columns.columns].median())\n",
        "    return df\n",
        "\n",
        "def fill_missing_avg(df):\n",
        "    string_columns = df.select_dtypes(include=['object'])\n",
        "    df[string_columns.columns] = df[string_columns.columns].fillna(df[string_columns.columns].mode().iloc[0])\n",
        "    numeric_columns = df.select_dtypes(include=['number'])\n",
        "    df[numeric_columns.columns] = df[numeric_columns.columns].fillna(df[numeric_columns.columns].mean())\n",
        "    return df\n",
        "\n",
        "train_median = fill_missing_median(request_train_df.copy())\n",
        "#train_avg = fill_missing_avg(request_train_df.copy())"
      ]
    },
    {
      "cell_type": "code",
      "execution_count": null,
      "metadata": {
        "colab": {
          "base_uri": "https://localhost:8080/"
        },
        "id": "UuQqTCekwPS4",
        "outputId": "6ba3c5ee-12e4-4965-b298-19fcacdd758b"
      },
      "outputs": [
        {
          "data": {
            "text/plain": [
              "['NAME_CONTRACT_TYPE',\n",
              " 'CODE_GENDER',\n",
              " 'FLAG_OWN_CAR',\n",
              " 'FLAG_OWN_REALTY',\n",
              " 'NAME_TYPE_SUITE',\n",
              " 'NAME_INCOME_TYPE',\n",
              " 'NAME_EDUCATION_TYPE',\n",
              " 'NAME_FAMILY_STATUS',\n",
              " 'NAME_HOUSING_TYPE',\n",
              " 'OCCUPATION_TYPE',\n",
              " 'ORGANIZATION_TYPE',\n",
              " 'FONDKAPREMONT_MODE',\n",
              " 'HOUSETYPE_MODE',\n",
              " 'WALLSMATERIAL_MODE',\n",
              " 'EMERGENCYSTATE_MODE']"
            ]
          },
          "execution_count": 35,
          "metadata": {},
          "output_type": "execute_result"
        }
      ],
      "source": [
        "objectColumns = train_median.select_dtypes(include=['object']).columns.tolist()\n",
        "objectColumns.remove('WEEKDAY_APPR_PROCESS_START')\n",
        "objectColumns"
      ]
    },
    {
      "cell_type": "code",
      "execution_count": null,
      "metadata": {
        "id": "RQHQ3JLxwPS4"
      },
      "outputs": [],
      "source": [
        "order_WEEKDAY_APPR_PROCESS_START = ['MONDAY','TUESDAY','WEDNESDAY','THURSDAY','FRIDAY','SATURDAY','SUNDAY']\n",
        "train_median['WEEKDAY_APPR_PROCESS_START'] = OrdinalEncoder(categories=[order_WEEKDAY_APPR_PROCESS_START]).fit_transform(train_median[['WEEKDAY_APPR_PROCESS_START']])"
      ]
    },
    {
      "cell_type": "code",
      "execution_count": null,
      "metadata": {
        "id": "jkEOe7k26Ym3"
      },
      "outputs": [],
      "source": [
        "ohe_X2 = OneHotEncoder(handle_unknown = 'ignore')\n",
        "encoded_data = ohe_X2.fit_transform(train_median[objectColumns])\n",
        "encoded_df = pd.DataFrame(encoded_data.toarray(), columns=ohe_X2.get_feature_names_out(objectColumns))\n",
        "\n",
        "train_median = pd.concat([train_median, encoded_df], axis=1)\n",
        "train_median.drop(columns=objectColumns, inplace=True)"
      ]
    },
    {
      "cell_type": "code",
      "execution_count": null,
      "metadata": {
        "id": "wQ7XOD5uwPS4"
      },
      "outputs": [],
      "source": [
        "X2_temp, X2_val, y2_temp, y2_val = train_test_split(train_median.drop(columns = ['TARGET','SK_ID_CURR']), train_median['TARGET'], test_size = 0.2, random_state = 125)"
      ]
    },
    {
      "cell_type": "code",
      "execution_count": null,
      "metadata": {
        "id": "sgJD9VLEwPS4"
      },
      "outputs": [],
      "source": [
        "X2_temp.insert(0,'TARGET', y2_temp)"
      ]
    },
    {
      "cell_type": "code",
      "execution_count": null,
      "metadata": {
        "id": "lYI_JTb6wPS5"
      },
      "outputs": [],
      "source": [
        "fraud_detected  = X2_temp[X2_temp['TARGET'] == 1]\n",
        "non_fraud  = X2_temp[X2_temp['TARGET'] == 0]"
      ]
    },
    {
      "cell_type": "code",
      "execution_count": null,
      "metadata": {
        "id": "eUjcFA8ZwPS5"
      },
      "outputs": [],
      "source": [
        "## Balanceo de la data\n",
        "fraud_detected_oversampled = resample(\n",
        "    fraud_detected,\n",
        "    replace=True,\n",
        "    n_samples=round(len(non_fraud)/2),\n",
        "    random_state=42\n",
        ")\n",
        "non_fraud_undersampled = resample(\n",
        "    non_fraud,\n",
        "    replace=False,\n",
        "    n_samples=len(fraud_detected_oversampled),\n",
        "    random_state=42\n",
        ")\n",
        "final_balanced_train_data = pd.concat([fraud_detected_oversampled, non_fraud_undersampled])\n",
        "X2_train = final_balanced_train_data.drop(columns = ['TARGET'])\n",
        "y2_train = final_balanced_train_data['TARGET']"
      ]
    },
    {
      "cell_type": "markdown",
      "metadata": {
        "id": "b3T5rC-IwPS5"
      },
      "source": [
        "# Modelos"
      ]
    },
    {
      "cell_type": "code",
      "execution_count": null,
      "metadata": {
        "id": "Zgq2Ko5X6Ym3"
      },
      "outputs": [],
      "source": [
        "## Codigo de MayumyCH\n",
        "## https://github.com/MayumyCH/credit_card_project_pyhton/blob/main/proyecto_notebook.ipynb\n",
        "\n",
        "LABELS = [\"Permanencia\", 'Fuga']\n",
        "\n",
        "def mostrar_resultados(y_test, rf_predictions):\n",
        "    Matriz_Confusion = confusion_matrix(y_test, rf_predictions)\n",
        "    plt.figure(figsize=(8, 8))\n",
        "    sns.heatmap(Matriz_Confusion, xticklabels=LABELS, yticklabels=LABELS, annot=True, fmt=\"d\", cmap='BrBG',linewidths = 0.5);\n",
        "    plt.title(\"Matriz de confusión\")\n",
        "    plt.ylabel('Actual')\n",
        "    plt.xlabel('Predicha')\n",
        "    plt.show()\n",
        "    print (classification_report(y_test, rf_predictions))\n",
        "\n",
        "plt.style.use('fivethirtyeight')\n",
        "plt.rcParams['font.size'] = 18\n",
        "\n",
        "def evaluate_model(predictions, probs, train_predictions, train_probs, y_test, y_train_res):\n",
        "    \"\"\"Compara modelos de Machine Learning a traves de la Curva ROC\"\"\"\n",
        "\n",
        "    baseline = {}\n",
        "\n",
        "    baseline['recall'] = recall_score(y_test,\n",
        "                                     [1 for _ in range(len(y_test))])\n",
        "    baseline['precision'] = precision_score(y_test,\n",
        "                                      [1 for _ in range(len(y_test))])\n",
        "    baseline['roc'] = 0.5\n",
        "\n",
        "    results = {}\n",
        "\n",
        "    results['recall'] = recall_score(y_test, predictions)\n",
        "    results['precision'] = precision_score(y_test, predictions)\n",
        "    results['roc'] = roc_auc_score(y_test, probs)\n",
        "\n",
        "    train_results = {}\n",
        "    train_results['recall'] = recall_score(y_train_res, train_predictions)\n",
        "    train_results['precision'] = precision_score(y_train_res, train_predictions)\n",
        "    train_results['roc'] = roc_auc_score(y_train_res, train_probs)\n",
        "\n",
        "    for metric in ['recall', 'precision', 'roc']:\n",
        "        print(f'{metric.capitalize()} Baseline: {round(baseline[metric], 2)} Test: {round(results[metric], 2)} Train: {round(train_results[metric], 2)}')\n",
        "\n",
        "    # Calcula la tasa de falso positivos y verdaderos positivos\n",
        "    base_fpr, base_tpr, _ = roc_curve(y_test, [1 for _ in range(len(y_test))])\n",
        "    model_fpr, model_tpr, _ = roc_curve(y_test, probs)\n",
        "\n",
        "    plt.figure(figsize = (8, 6))\n",
        "    plt.rcParams['font.size'] = 16\n",
        "\n",
        "    # Plotea las curvas\n",
        "    plt.plot(base_fpr, base_tpr, 'b', label = 'baseline')\n",
        "    plt.plot(model_fpr, model_tpr, 'r', label = 'modelo')\n",
        "    plt.legend();\n",
        "    plt.xlabel('Tasa - Falsos Positivos');\n",
        "    plt.ylabel('Tasa - Verdaderos Positivos'); plt.title('Curva ROC');\n",
        "    plt.show();"
      ]
    },
    {
      "cell_type": "code",
      "execution_count": null,
      "metadata": {
        "id": "gYmByCw5wPS5"
      },
      "outputs": [],
      "source": [
        "mejor_valor = 0"
      ]
    },
    {
      "cell_type": "markdown",
      "metadata": {
        "id": "0pE7DjvJwPS5"
      },
      "source": [
        "## 1ra Forma\n",
        "* Se utiliza LogisticRegression\n",
        "* Se utilizan los datos eliminando todos los NaNs"
      ]
    },
    {
      "cell_type": "code",
      "execution_count": null,
      "metadata": {
        "colab": {
          "base_uri": "https://localhost:8080/",
          "height": 368
        },
        "id": "hAWCARQtwPS5",
        "outputId": "a2e6da30-5f28-49b9-8f47-381344ac0491"
      },
      "outputs": [
        {
          "data": {
            "text/html": [
              "<style>#sk-container-id-1 {color: black;background-color: white;}#sk-container-id-1 pre{padding: 0;}#sk-container-id-1 div.sk-toggleable {background-color: white;}#sk-container-id-1 label.sk-toggleable__label {cursor: pointer;display: block;width: 100%;margin-bottom: 0;padding: 0.3em;box-sizing: border-box;text-align: center;}#sk-container-id-1 label.sk-toggleable__label-arrow:before {content: \"▸\";float: left;margin-right: 0.25em;color: #696969;}#sk-container-id-1 label.sk-toggleable__label-arrow:hover:before {color: black;}#sk-container-id-1 div.sk-estimator:hover label.sk-toggleable__label-arrow:before {color: black;}#sk-container-id-1 div.sk-toggleable__content {max-height: 0;max-width: 0;overflow: hidden;text-align: left;background-color: #f0f8ff;}#sk-container-id-1 div.sk-toggleable__content pre {margin: 0.2em;color: black;border-radius: 0.25em;background-color: #f0f8ff;}#sk-container-id-1 input.sk-toggleable__control:checked~div.sk-toggleable__content {max-height: 200px;max-width: 100%;overflow: auto;}#sk-container-id-1 input.sk-toggleable__control:checked~label.sk-toggleable__label-arrow:before {content: \"▾\";}#sk-container-id-1 div.sk-estimator input.sk-toggleable__control:checked~label.sk-toggleable__label {background-color: #d4ebff;}#sk-container-id-1 div.sk-label input.sk-toggleable__control:checked~label.sk-toggleable__label {background-color: #d4ebff;}#sk-container-id-1 input.sk-hidden--visually {border: 0;clip: rect(1px 1px 1px 1px);clip: rect(1px, 1px, 1px, 1px);height: 1px;margin: -1px;overflow: hidden;padding: 0;position: absolute;width: 1px;}#sk-container-id-1 div.sk-estimator {font-family: monospace;background-color: #f0f8ff;border: 1px dotted black;border-radius: 0.25em;box-sizing: border-box;margin-bottom: 0.5em;}#sk-container-id-1 div.sk-estimator:hover {background-color: #d4ebff;}#sk-container-id-1 div.sk-parallel-item::after {content: \"\";width: 100%;border-bottom: 1px solid gray;flex-grow: 1;}#sk-container-id-1 div.sk-label:hover label.sk-toggleable__label {background-color: #d4ebff;}#sk-container-id-1 div.sk-serial::before {content: \"\";position: absolute;border-left: 1px solid gray;box-sizing: border-box;top: 0;bottom: 0;left: 50%;z-index: 0;}#sk-container-id-1 div.sk-serial {display: flex;flex-direction: column;align-items: center;background-color: white;padding-right: 0.2em;padding-left: 0.2em;position: relative;}#sk-container-id-1 div.sk-item {position: relative;z-index: 1;}#sk-container-id-1 div.sk-parallel {display: flex;align-items: stretch;justify-content: center;background-color: white;position: relative;}#sk-container-id-1 div.sk-item::before, #sk-container-id-1 div.sk-parallel-item::before {content: \"\";position: absolute;border-left: 1px solid gray;box-sizing: border-box;top: 0;bottom: 0;left: 50%;z-index: -1;}#sk-container-id-1 div.sk-parallel-item {display: flex;flex-direction: column;z-index: 1;position: relative;background-color: white;}#sk-container-id-1 div.sk-parallel-item:first-child::after {align-self: flex-end;width: 50%;}#sk-container-id-1 div.sk-parallel-item:last-child::after {align-self: flex-start;width: 50%;}#sk-container-id-1 div.sk-parallel-item:only-child::after {width: 0;}#sk-container-id-1 div.sk-dashed-wrapped {border: 1px dashed gray;margin: 0 0.4em 0.5em 0.4em;box-sizing: border-box;padding-bottom: 0.4em;background-color: white;}#sk-container-id-1 div.sk-label label {font-family: monospace;font-weight: bold;display: inline-block;line-height: 1.2em;}#sk-container-id-1 div.sk-label-container {text-align: center;}#sk-container-id-1 div.sk-container {/* jupyter's `normalize.less` sets `[hidden] { display: none; }` but bootstrap.min.css set `[hidden] { display: none !important; }` so we also need the `!important` here to be able to override the default hidden behavior on the sphinx rendered scikit-learn.org. See: https://github.com/scikit-learn/scikit-learn/issues/21755 */display: inline-block !important;position: relative;}#sk-container-id-1 div.sk-text-repr-fallback {display: none;}</style><div id=\"sk-container-id-1\" class=\"sk-top-container\"><div class=\"sk-text-repr-fallback\"><pre>GridSearchCV(cv=5,\n",
              "             estimator=Pipeline(steps=[(&#x27;scale&#x27;, StandardScaler()),\n",
              "                                       (&#x27;clf&#x27;,\n",
              "                                        LogisticRegression(class_weight={0: 1,\n",
              "                                                                         1: 5},\n",
              "                                                           random_state=42))]),\n",
              "             param_grid={&#x27;clf__C&#x27;: array([1.00000000e-05, 1.29154967e-04, 1.66810054e-03, 2.15443469e-02,\n",
              "       2.78255940e-01, 3.59381366e+00, 4.64158883e+01, 5.99484250e+02,\n",
              "       7.74263683e+03, 1.00000000e+05]),\n",
              "                         &#x27;clf__max_iter&#x27;: [100, 200, 300],\n",
              "                         &#x27;clf__solver&#x27;: [&#x27;newton-cholesky&#x27;, &#x27;sag&#x27;, &#x27;saga&#x27;]},\n",
              "             scoring=&#x27;roc_auc&#x27;)</pre><b>In a Jupyter environment, please rerun this cell to show the HTML representation or trust the notebook. <br />On GitHub, the HTML representation is unable to render, please try loading this page with nbviewer.org.</b></div><div class=\"sk-container\" hidden><div class=\"sk-item sk-dashed-wrapped\"><div class=\"sk-label-container\"><div class=\"sk-label sk-toggleable\"><input class=\"sk-toggleable__control sk-hidden--visually\" id=\"sk-estimator-id-1\" type=\"checkbox\" ><label for=\"sk-estimator-id-1\" class=\"sk-toggleable__label sk-toggleable__label-arrow\">GridSearchCV</label><div class=\"sk-toggleable__content\"><pre>GridSearchCV(cv=5,\n",
              "             estimator=Pipeline(steps=[(&#x27;scale&#x27;, StandardScaler()),\n",
              "                                       (&#x27;clf&#x27;,\n",
              "                                        LogisticRegression(class_weight={0: 1,\n",
              "                                                                         1: 5},\n",
              "                                                           random_state=42))]),\n",
              "             param_grid={&#x27;clf__C&#x27;: array([1.00000000e-05, 1.29154967e-04, 1.66810054e-03, 2.15443469e-02,\n",
              "       2.78255940e-01, 3.59381366e+00, 4.64158883e+01, 5.99484250e+02,\n",
              "       7.74263683e+03, 1.00000000e+05]),\n",
              "                         &#x27;clf__max_iter&#x27;: [100, 200, 300],\n",
              "                         &#x27;clf__solver&#x27;: [&#x27;newton-cholesky&#x27;, &#x27;sag&#x27;, &#x27;saga&#x27;]},\n",
              "             scoring=&#x27;roc_auc&#x27;)</pre></div></div></div><div class=\"sk-parallel\"><div class=\"sk-parallel-item\"><div class=\"sk-item\"><div class=\"sk-label-container\"><div class=\"sk-label sk-toggleable\"><input class=\"sk-toggleable__control sk-hidden--visually\" id=\"sk-estimator-id-2\" type=\"checkbox\" ><label for=\"sk-estimator-id-2\" class=\"sk-toggleable__label sk-toggleable__label-arrow\">estimator: Pipeline</label><div class=\"sk-toggleable__content\"><pre>Pipeline(steps=[(&#x27;scale&#x27;, StandardScaler()),\n",
              "                (&#x27;clf&#x27;,\n",
              "                 LogisticRegression(class_weight={0: 1, 1: 5},\n",
              "                                    random_state=42))])</pre></div></div></div><div class=\"sk-serial\"><div class=\"sk-item\"><div class=\"sk-serial\"><div class=\"sk-item\"><div class=\"sk-estimator sk-toggleable\"><input class=\"sk-toggleable__control sk-hidden--visually\" id=\"sk-estimator-id-3\" type=\"checkbox\" ><label for=\"sk-estimator-id-3\" class=\"sk-toggleable__label sk-toggleable__label-arrow\">StandardScaler</label><div class=\"sk-toggleable__content\"><pre>StandardScaler()</pre></div></div></div><div class=\"sk-item\"><div class=\"sk-estimator sk-toggleable\"><input class=\"sk-toggleable__control sk-hidden--visually\" id=\"sk-estimator-id-4\" type=\"checkbox\" ><label for=\"sk-estimator-id-4\" class=\"sk-toggleable__label sk-toggleable__label-arrow\">LogisticRegression</label><div class=\"sk-toggleable__content\"><pre>LogisticRegression(class_weight={0: 1, 1: 5}, random_state=42)</pre></div></div></div></div></div></div></div></div></div></div></div></div>"
            ],
            "text/plain": [
              "GridSearchCV(cv=5,\n",
              "             estimator=Pipeline(steps=[('scale', StandardScaler()),\n",
              "                                       ('clf',\n",
              "                                        LogisticRegression(class_weight={0: 1,\n",
              "                                                                         1: 5},\n",
              "                                                           random_state=42))]),\n",
              "             param_grid={'clf__C': array([1.00000000e-05, 1.29154967e-04, 1.66810054e-03, 2.15443469e-02,\n",
              "       2.78255940e-01, 3.59381366e+00, 4.64158883e+01, 5.99484250e+02,\n",
              "       7.74263683e+03, 1.00000000e+05]),\n",
              "                         'clf__max_iter': [100, 200, 300],\n",
              "                         'clf__solver': ['newton-cholesky', 'sag', 'saga']},\n",
              "             scoring='roc_auc')"
            ]
          },
          "execution_count": 42,
          "metadata": {},
          "output_type": "execute_result"
        }
      ],
      "source": [
        "class_weights = {0: 1, 1: 5}\n",
        "\n",
        "base = Pipeline([\n",
        "    ('scale', StandardScaler()),\n",
        "    ('clf', LogisticRegression(class_weight=class_weights, random_state=42))\n",
        "])\n",
        "\n",
        "param_grid = {\n",
        "    'clf__C': np.logspace(-5,5,10),\n",
        "    'clf__solver': ['newton-cholesky', 'sag', 'saga'],##Basado en la documentacion de LogisticRegression\n",
        "    'clf__max_iter': [100, 200, 300],\n",
        "}\n",
        "\n",
        "grid_search = GridSearchCV(base, param_grid=param_grid, cv=5, scoring='roc_auc')\n",
        "grid_search.fit(X1_train, y1_train)"
      ]
    },
    {
      "cell_type": "code",
      "execution_count": null,
      "metadata": {
        "id": "pz0OJPz5wPS5",
        "outputId": "8992e872-0bf0-4380-aada-7526f11477f6"
      },
      "outputs": [
        {
          "name": "stdout",
          "output_type": "stream",
          "text": [
            "Best Parameters: {'clf__C': 46.41588833612782, 'clf__max_iter': 100, 'clf__solver': 'newton-cholesky'}\n",
            "Best AUC Score: 0.671854805483821\n"
          ]
        }
      ],
      "source": [
        "best_params = grid_search.best_params_\n",
        "best_auc = grid_search.best_score_\n",
        "\n",
        "print(\"Best Parameters:\", best_params)\n",
        "print(\"Best AUC Score:\", best_auc)"
      ]
    },
    {
      "cell_type": "code",
      "execution_count": null,
      "metadata": {
        "id": "ZeMysv3cwPS5",
        "outputId": "067290f5-f444-4439-c5a0-6e7e5eccdd7e"
      },
      "outputs": [
        {
          "name": "stdout",
          "output_type": "stream",
          "text": [
            "AUC on Test Set: 0.5554870307662307\n"
          ]
        }
      ],
      "source": [
        "best_model1 = grid_search.best_estimator_\n",
        "\n",
        "pred = best_model1.predict(X1_val)\n",
        "pred_probs = best_model1.predict_proba(X1_val)[:,1]\n",
        "\n",
        "pred_train = best_model1.predict(X1_train)\n",
        "pred_probs_train = best_model1.predict_proba(X1_train)[:,1]\n",
        "\n",
        "test_auc = roc_auc_score(y1_val, pred)\n",
        "\n",
        "print(\"AUC on Test Set:\", test_auc)\n",
        "if test_auc > mejor_valor:\n",
        "    mejor_valor = test_auc\n",
        "    mejor_modelo = best_model1"
      ]
    },
    {
      "cell_type": "code",
      "execution_count": null,
      "metadata": {
        "id": "vmHbztZj6Ym4",
        "outputId": "c434d437-d6f3-49bb-c45b-7e860b4595e8"
      },
      "outputs": [
        {
          "name": "stdout",
          "output_type": "stream",
          "text": [
            "Recall Baseline: 1.0 Test: 0.17 Train: 0.16\n",
            "Precision Baseline: 0.08 Test: 0.21 Train: 0.2\n",
            "Roc Baseline: 0.5 Test: 0.67 Train: 0.68\n"
          ]
        },
        {
          "data": {
            "image/png": "[encoded data removed]",
            "text/plain": [
              "<Figure size 800x600 with 1 Axes>"
            ]
          },
          "metadata": {},
          "output_type": "display_data"
        },
        {
          "data": {
            "text/plain": [
              "<Figure size 640x480 with 0 Axes>"
            ]
          },
          "metadata": {},
          "output_type": "display_data"
        }
      ],
      "source": [
        "evaluate_model(pred, pred_probs, pred_train, pred_probs_train, y1_val, y1_train)\n",
        "plt.savefig('roc_auc_curve.png')"
      ]
    },
    {
      "cell_type": "code",
      "execution_count": null,
      "metadata": {
        "id": "oroyPNAT6Ym4",
        "outputId": "06f02012-78fb-48f7-bd3c-71497e2532bf"
      },
      "outputs": [
        {
          "data": {
            "image/png": "[encoded data removed]",
            "text/plain": [
              "<Figure size 800x800 with 2 Axes>"
            ]
          },
          "metadata": {},
          "output_type": "display_data"
        },
        {
          "name": "stdout",
          "output_type": "stream",
          "text": [
            "              precision    recall  f1-score   support\n",
            "\n",
            "           0       0.93      0.95      0.94     27703\n",
            "           1       0.21      0.17      0.19      2433\n",
            "\n",
            "    accuracy                           0.88     30136\n",
            "   macro avg       0.57      0.56      0.56     30136\n",
            "weighted avg       0.87      0.88      0.88     30136\n",
            "\n"
          ]
        }
      ],
      "source": [
        "mostrar_resultados(y1_val, pred)"
      ]
    },
    {
      "cell_type": "markdown",
      "metadata": {
        "id": "GSx5h3nFwPS6"
      },
      "source": [
        "## 2da Forma\n",
        "* Se utiliza LogisticRegression\n",
        "* Se utilizan los datos cambiando todos los NaNs"
      ]
    },
    {
      "cell_type": "code",
      "execution_count": null,
      "metadata": {
        "id": "3hceM_uYwPS6",
        "outputId": "00b50256-377a-461b-d28c-cc277d2704a1"
      },
      "outputs": [
        {
          "data": {
            "text/html": [
              "<style>#sk-container-id-2 {color: black;background-color: white;}#sk-container-id-2 pre{padding: 0;}#sk-container-id-2 div.sk-toggleable {background-color: white;}#sk-container-id-2 label.sk-toggleable__label {cursor: pointer;display: block;width: 100%;margin-bottom: 0;padding: 0.3em;box-sizing: border-box;text-align: center;}#sk-container-id-2 label.sk-toggleable__label-arrow:before {content: \"▸\";float: left;margin-right: 0.25em;color: #696969;}#sk-container-id-2 label.sk-toggleable__label-arrow:hover:before {color: black;}#sk-container-id-2 div.sk-estimator:hover label.sk-toggleable__label-arrow:before {color: black;}#sk-container-id-2 div.sk-toggleable__content {max-height: 0;max-width: 0;overflow: hidden;text-align: left;background-color: #f0f8ff;}#sk-container-id-2 div.sk-toggleable__content pre {margin: 0.2em;color: black;border-radius: 0.25em;background-color: #f0f8ff;}#sk-container-id-2 input.sk-toggleable__control:checked~div.sk-toggleable__content {max-height: 200px;max-width: 100%;overflow: auto;}#sk-container-id-2 input.sk-toggleable__control:checked~label.sk-toggleable__label-arrow:before {content: \"▾\";}#sk-container-id-2 div.sk-estimator input.sk-toggleable__control:checked~label.sk-toggleable__label {background-color: #d4ebff;}#sk-container-id-2 div.sk-label input.sk-toggleable__control:checked~label.sk-toggleable__label {background-color: #d4ebff;}#sk-container-id-2 input.sk-hidden--visually {border: 0;clip: rect(1px 1px 1px 1px);clip: rect(1px, 1px, 1px, 1px);height: 1px;margin: -1px;overflow: hidden;padding: 0;position: absolute;width: 1px;}#sk-container-id-2 div.sk-estimator {font-family: monospace;background-color: #f0f8ff;border: 1px dotted black;border-radius: 0.25em;box-sizing: border-box;margin-bottom: 0.5em;}#sk-container-id-2 div.sk-estimator:hover {background-color: #d4ebff;}#sk-container-id-2 div.sk-parallel-item::after {content: \"\";width: 100%;border-bottom: 1px solid gray;flex-grow: 1;}#sk-container-id-2 div.sk-label:hover label.sk-toggleable__label {background-color: #d4ebff;}#sk-container-id-2 div.sk-serial::before {content: \"\";position: absolute;border-left: 1px solid gray;box-sizing: border-box;top: 0;bottom: 0;left: 50%;z-index: 0;}#sk-container-id-2 div.sk-serial {display: flex;flex-direction: column;align-items: center;background-color: white;padding-right: 0.2em;padding-left: 0.2em;position: relative;}#sk-container-id-2 div.sk-item {position: relative;z-index: 1;}#sk-container-id-2 div.sk-parallel {display: flex;align-items: stretch;justify-content: center;background-color: white;position: relative;}#sk-container-id-2 div.sk-item::before, #sk-container-id-2 div.sk-parallel-item::before {content: \"\";position: absolute;border-left: 1px solid gray;box-sizing: border-box;top: 0;bottom: 0;left: 50%;z-index: -1;}#sk-container-id-2 div.sk-parallel-item {display: flex;flex-direction: column;z-index: 1;position: relative;background-color: white;}#sk-container-id-2 div.sk-parallel-item:first-child::after {align-self: flex-end;width: 50%;}#sk-container-id-2 div.sk-parallel-item:last-child::after {align-self: flex-start;width: 50%;}#sk-container-id-2 div.sk-parallel-item:only-child::after {width: 0;}#sk-container-id-2 div.sk-dashed-wrapped {border: 1px dashed gray;margin: 0 0.4em 0.5em 0.4em;box-sizing: border-box;padding-bottom: 0.4em;background-color: white;}#sk-container-id-2 div.sk-label label {font-family: monospace;font-weight: bold;display: inline-block;line-height: 1.2em;}#sk-container-id-2 div.sk-label-container {text-align: center;}#sk-container-id-2 div.sk-container {/* jupyter's `normalize.less` sets `[hidden] { display: none; }` but bootstrap.min.css set `[hidden] { display: none !important; }` so we also need the `!important` here to be able to override the default hidden behavior on the sphinx rendered scikit-learn.org. See: https://github.com/scikit-learn/scikit-learn/issues/21755 */display: inline-block !important;position: relative;}#sk-container-id-2 div.sk-text-repr-fallback {display: none;}</style><div id=\"sk-container-id-2\" class=\"sk-top-container\"><div class=\"sk-text-repr-fallback\"><pre>GridSearchCV(cv=5,\n",
              "             estimator=Pipeline(steps=[(&#x27;scale&#x27;, StandardScaler()),\n",
              "                                       (&#x27;clf&#x27;,\n",
              "                                        LogisticRegression(class_weight={0: 1,\n",
              "                                                                         1: 1},\n",
              "                                                           random_state=42))]),\n",
              "             param_grid={&#x27;clf__C&#x27;: array([1.00000000e-05, 1.29154967e-04, 1.66810054e-03, 2.15443469e-02,\n",
              "       2.78255940e-01, 3.59381366e+00, 4.64158883e+01, 5.99484250e+02,\n",
              "       7.74263683e+03, 1.00000000e+05]),\n",
              "                         &#x27;clf__max_iter&#x27;: [100, 200, 300],\n",
              "                         &#x27;clf__solver&#x27;: [&#x27;newton-cholesky&#x27;, &#x27;sag&#x27;, &#x27;saga&#x27;]},\n",
              "             scoring=&#x27;roc_auc&#x27;)</pre><b>In a Jupyter environment, please rerun this cell to show the HTML representation or trust the notebook. <br />On GitHub, the HTML representation is unable to render, please try loading this page with nbviewer.org.</b></div><div class=\"sk-container\" hidden><div class=\"sk-item sk-dashed-wrapped\"><div class=\"sk-label-container\"><div class=\"sk-label sk-toggleable\"><input class=\"sk-toggleable__control sk-hidden--visually\" id=\"sk-estimator-id-5\" type=\"checkbox\" ><label for=\"sk-estimator-id-5\" class=\"sk-toggleable__label sk-toggleable__label-arrow\">GridSearchCV</label><div class=\"sk-toggleable__content\"><pre>GridSearchCV(cv=5,\n",
              "             estimator=Pipeline(steps=[(&#x27;scale&#x27;, StandardScaler()),\n",
              "                                       (&#x27;clf&#x27;,\n",
              "                                        LogisticRegression(class_weight={0: 1,\n",
              "                                                                         1: 1},\n",
              "                                                           random_state=42))]),\n",
              "             param_grid={&#x27;clf__C&#x27;: array([1.00000000e-05, 1.29154967e-04, 1.66810054e-03, 2.15443469e-02,\n",
              "       2.78255940e-01, 3.59381366e+00, 4.64158883e+01, 5.99484250e+02,\n",
              "       7.74263683e+03, 1.00000000e+05]),\n",
              "                         &#x27;clf__max_iter&#x27;: [100, 200, 300],\n",
              "                         &#x27;clf__solver&#x27;: [&#x27;newton-cholesky&#x27;, &#x27;sag&#x27;, &#x27;saga&#x27;]},\n",
              "             scoring=&#x27;roc_auc&#x27;)</pre></div></div></div><div class=\"sk-parallel\"><div class=\"sk-parallel-item\"><div class=\"sk-item\"><div class=\"sk-label-container\"><div class=\"sk-label sk-toggleable\"><input class=\"sk-toggleable__control sk-hidden--visually\" id=\"sk-estimator-id-6\" type=\"checkbox\" ><label for=\"sk-estimator-id-6\" class=\"sk-toggleable__label sk-toggleable__label-arrow\">estimator: Pipeline</label><div class=\"sk-toggleable__content\"><pre>Pipeline(steps=[(&#x27;scale&#x27;, StandardScaler()),\n",
              "                (&#x27;clf&#x27;,\n",
              "                 LogisticRegression(class_weight={0: 1, 1: 1},\n",
              "                                    random_state=42))])</pre></div></div></div><div class=\"sk-serial\"><div class=\"sk-item\"><div class=\"sk-serial\"><div class=\"sk-item\"><div class=\"sk-estimator sk-toggleable\"><input class=\"sk-toggleable__control sk-hidden--visually\" id=\"sk-estimator-id-7\" type=\"checkbox\" ><label for=\"sk-estimator-id-7\" class=\"sk-toggleable__label sk-toggleable__label-arrow\">StandardScaler</label><div class=\"sk-toggleable__content\"><pre>StandardScaler()</pre></div></div></div><div class=\"sk-item\"><div class=\"sk-estimator sk-toggleable\"><input class=\"sk-toggleable__control sk-hidden--visually\" id=\"sk-estimator-id-8\" type=\"checkbox\" ><label for=\"sk-estimator-id-8\" class=\"sk-toggleable__label sk-toggleable__label-arrow\">LogisticRegression</label><div class=\"sk-toggleable__content\"><pre>LogisticRegression(class_weight={0: 1, 1: 1}, random_state=42)</pre></div></div></div></div></div></div></div></div></div></div></div></div>"
            ],
            "text/plain": [
              "GridSearchCV(cv=5,\n",
              "             estimator=Pipeline(steps=[('scale', StandardScaler()),\n",
              "                                       ('clf',\n",
              "                                        LogisticRegression(class_weight={0: 1,\n",
              "                                                                         1: 1},\n",
              "                                                           random_state=42))]),\n",
              "             param_grid={'clf__C': array([1.00000000e-05, 1.29154967e-04, 1.66810054e-03, 2.15443469e-02,\n",
              "       2.78255940e-01, 3.59381366e+00, 4.64158883e+01, 5.99484250e+02,\n",
              "       7.74263683e+03, 1.00000000e+05]),\n",
              "                         'clf__max_iter': [100, 200, 300],\n",
              "                         'clf__solver': ['newton-cholesky', 'sag', 'saga']},\n",
              "             scoring='roc_auc')"
            ]
          },
          "execution_count": 47,
          "metadata": {},
          "output_type": "execute_result"
        }
      ],
      "source": [
        "class_weights = {0: 1, 1: 1}\n",
        "\n",
        "base = Pipeline([\n",
        "    ('scale', StandardScaler()),\n",
        "    ('clf', LogisticRegression(class_weight=class_weights, random_state=42))\n",
        "])\n",
        "\n",
        "param_grid = {\n",
        "    'clf__C': np.logspace(-5,5,10),\n",
        "    'clf__solver': ['newton-cholesky', 'sag', 'saga'],\n",
        "    'clf__max_iter': [100, 200, 300],\n",
        "}\n",
        "\n",
        "grid_search = GridSearchCV(base, param_grid=param_grid, cv=5, scoring='roc_auc')\n",
        "grid_search.fit(X2_train, y2_train)"
      ]
    },
    {
      "cell_type": "code",
      "execution_count": null,
      "metadata": {
        "id": "NrV1wc4AwPS6",
        "outputId": "c23d409a-f68e-4f6c-de30-13d61d5bb7ce"
      },
      "outputs": [
        {
          "name": "stdout",
          "output_type": "stream",
          "text": [
            "Best Parameters: {'clf__C': 46.41588833612782, 'clf__max_iter': 100, 'clf__solver': 'newton-cholesky'}\n",
            "Best AUC Score: 0.7480265300603423\n"
          ]
        }
      ],
      "source": [
        "best_params = grid_search.best_params_\n",
        "best_auc = grid_search.best_score_\n",
        "\n",
        "print(\"Best Parameters:\", best_params)\n",
        "print(\"Best AUC Score:\", best_auc)"
      ]
    },
    {
      "cell_type": "code",
      "execution_count": null,
      "metadata": {
        "id": "XHMiU2zgwPS6",
        "outputId": "5bae9382-a8e6-451a-8170-20484d27ad40"
      },
      "outputs": [
        {
          "name": "stdout",
          "output_type": "stream",
          "text": [
            "AUC on Test Set: 0.6872485721075355\n"
          ]
        }
      ],
      "source": [
        "best_model2 = grid_search.best_estimator_\n",
        "\n",
        "\n",
        "pred = best_model2.predict(X2_val)\n",
        "pred_probs = best_model2.predict_proba(X2_val)[:,1]\n",
        "\n",
        "pred_train = best_model2.predict(X2_train)\n",
        "pred_probs_train = best_model2.predict_proba(X2_train)[:,1]\n",
        "\n",
        "\n",
        "test_auc = roc_auc_score(y2_val, pred)\n",
        "\n",
        "print(\"AUC on Test Set:\", test_auc)\n",
        "if test_auc > mejor_valor:\n",
        "    mejor_valor = test_auc\n",
        "    mejor_modelo = best_model2"
      ]
    },
    {
      "cell_type": "code",
      "execution_count": null,
      "metadata": {
        "id": "9sVBF0Ja6Ym5",
        "outputId": "fff9e064-97a3-4df2-80e4-1b203c14db2d"
      },
      "outputs": [
        {
          "name": "stdout",
          "output_type": "stream",
          "text": [
            "Recall Baseline: 1.0 Test: 0.69 Train: 0.68\n",
            "Precision Baseline: 0.08 Test: 0.16 Train: 0.69\n",
            "Roc Baseline: 0.5 Test: 0.75 Train: 0.75\n"
          ]
        },
        {
          "data": {
            "image/png": "[encoded data removed]",
            "text/plain": [
              "<Figure size 800x600 with 1 Axes>"
            ]
          },
          "metadata": {},
          "output_type": "display_data"
        },
        {
          "data": {
            "text/plain": [
              "<Figure size 640x480 with 0 Axes>"
            ]
          },
          "metadata": {},
          "output_type": "display_data"
        }
      ],
      "source": [
        "evaluate_model(pred, pred_probs, pred_train, pred_probs_train, y2_val, y2_train)\n",
        "plt.savefig('roc_auc_curve.png')"
      ]
    },
    {
      "cell_type": "code",
      "execution_count": null,
      "metadata": {
        "id": "FSbeFC-t6Ym5",
        "outputId": "65c0d95d-7f36-4a33-d8f3-82525cb4e356"
      },
      "outputs": [
        {
          "data": {
            "image/png": "[encoded data removed]",
            "text/plain": [
              "<Figure size 800x800 with 2 Axes>"
            ]
          },
          "metadata": {},
          "output_type": "display_data"
        },
        {
          "name": "stdout",
          "output_type": "stream",
          "text": [
            "              precision    recall  f1-score   support\n",
            "\n",
            "           0       0.96      0.68      0.80     27715\n",
            "           1       0.16      0.69      0.26      2421\n",
            "\n",
            "    accuracy                           0.68     30136\n",
            "   macro avg       0.56      0.69      0.53     30136\n",
            "weighted avg       0.90      0.68      0.76     30136\n",
            "\n"
          ]
        }
      ],
      "source": [
        "mostrar_resultados(y2_val, pred)"
      ]
    },
    {
      "cell_type": "markdown",
      "metadata": {
        "id": "qY5V2HZEwPS6"
      },
      "source": [
        "## 3ra Forma\n",
        "* Se utiliza HistGradientBoostingClassifier\n",
        "* Se utilizan los datos borrando todos los NaNs"
      ]
    },
    {
      "cell_type": "code",
      "execution_count": null,
      "metadata": {
        "id": "-1fEsj80wPS7",
        "outputId": "de3311ed-4d69-47d3-be0b-3cfb71b4cdf9"
      },
      "outputs": [
        {
          "data": {
            "text/html": [
              "<style>#sk-container-id-3 {color: black;background-color: white;}#sk-container-id-3 pre{padding: 0;}#sk-container-id-3 div.sk-toggleable {background-color: white;}#sk-container-id-3 label.sk-toggleable__label {cursor: pointer;display: block;width: 100%;margin-bottom: 0;padding: 0.3em;box-sizing: border-box;text-align: center;}#sk-container-id-3 label.sk-toggleable__label-arrow:before {content: \"▸\";float: left;margin-right: 0.25em;color: #696969;}#sk-container-id-3 label.sk-toggleable__label-arrow:hover:before {color: black;}#sk-container-id-3 div.sk-estimator:hover label.sk-toggleable__label-arrow:before {color: black;}#sk-container-id-3 div.sk-toggleable__content {max-height: 0;max-width: 0;overflow: hidden;text-align: left;background-color: #f0f8ff;}#sk-container-id-3 div.sk-toggleable__content pre {margin: 0.2em;color: black;border-radius: 0.25em;background-color: #f0f8ff;}#sk-container-id-3 input.sk-toggleable__control:checked~div.sk-toggleable__content {max-height: 200px;max-width: 100%;overflow: auto;}#sk-container-id-3 input.sk-toggleable__control:checked~label.sk-toggleable__label-arrow:before {content: \"▾\";}#sk-container-id-3 div.sk-estimator input.sk-toggleable__control:checked~label.sk-toggleable__label {background-color: #d4ebff;}#sk-container-id-3 div.sk-label input.sk-toggleable__control:checked~label.sk-toggleable__label {background-color: #d4ebff;}#sk-container-id-3 input.sk-hidden--visually {border: 0;clip: rect(1px 1px 1px 1px);clip: rect(1px, 1px, 1px, 1px);height: 1px;margin: -1px;overflow: hidden;padding: 0;position: absolute;width: 1px;}#sk-container-id-3 div.sk-estimator {font-family: monospace;background-color: #f0f8ff;border: 1px dotted black;border-radius: 0.25em;box-sizing: border-box;margin-bottom: 0.5em;}#sk-container-id-3 div.sk-estimator:hover {background-color: #d4ebff;}#sk-container-id-3 div.sk-parallel-item::after {content: \"\";width: 100%;border-bottom: 1px solid gray;flex-grow: 1;}#sk-container-id-3 div.sk-label:hover label.sk-toggleable__label {background-color: #d4ebff;}#sk-container-id-3 div.sk-serial::before {content: \"\";position: absolute;border-left: 1px solid gray;box-sizing: border-box;top: 0;bottom: 0;left: 50%;z-index: 0;}#sk-container-id-3 div.sk-serial {display: flex;flex-direction: column;align-items: center;background-color: white;padding-right: 0.2em;padding-left: 0.2em;position: relative;}#sk-container-id-3 div.sk-item {position: relative;z-index: 1;}#sk-container-id-3 div.sk-parallel {display: flex;align-items: stretch;justify-content: center;background-color: white;position: relative;}#sk-container-id-3 div.sk-item::before, #sk-container-id-3 div.sk-parallel-item::before {content: \"\";position: absolute;border-left: 1px solid gray;box-sizing: border-box;top: 0;bottom: 0;left: 50%;z-index: -1;}#sk-container-id-3 div.sk-parallel-item {display: flex;flex-direction: column;z-index: 1;position: relative;background-color: white;}#sk-container-id-3 div.sk-parallel-item:first-child::after {align-self: flex-end;width: 50%;}#sk-container-id-3 div.sk-parallel-item:last-child::after {align-self: flex-start;width: 50%;}#sk-container-id-3 div.sk-parallel-item:only-child::after {width: 0;}#sk-container-id-3 div.sk-dashed-wrapped {border: 1px dashed gray;margin: 0 0.4em 0.5em 0.4em;box-sizing: border-box;padding-bottom: 0.4em;background-color: white;}#sk-container-id-3 div.sk-label label {font-family: monospace;font-weight: bold;display: inline-block;line-height: 1.2em;}#sk-container-id-3 div.sk-label-container {text-align: center;}#sk-container-id-3 div.sk-container {/* jupyter's `normalize.less` sets `[hidden] { display: none; }` but bootstrap.min.css set `[hidden] { display: none !important; }` so we also need the `!important` here to be able to override the default hidden behavior on the sphinx rendered scikit-learn.org. See: https://github.com/scikit-learn/scikit-learn/issues/21755 */display: inline-block !important;position: relative;}#sk-container-id-3 div.sk-text-repr-fallback {display: none;}</style><div id=\"sk-container-id-3\" class=\"sk-top-container\"><div class=\"sk-text-repr-fallback\"><pre>GridSearchCV(cv=5,\n",
              "             estimator=Pipeline(steps=[(&#x27;scale&#x27;, StandardScaler()),\n",
              "                                       (&#x27;clf&#x27;,\n",
              "                                        HistGradientBoostingClassifier(random_state=125))]),\n",
              "             param_grid={&#x27;clf__l2_regularization&#x27;: [0.0, 0.2, 0.5, 0.9],\n",
              "                         &#x27;clf__learning_rate&#x27;: array([0.01      , 0.10888889, 0.20777778, 0.30666667, 0.40555556,\n",
              "       0.50444444, 0.60333333, 0.70222222, 0.80111111, 0.9       ]),\n",
              "                         &#x27;clf__max_depth&#x27;: [3, 4, 5],\n",
              "                         &#x27;clf__max_iter&#x27;: [20, 40, 80, 160]},\n",
              "             scoring=&#x27;roc_auc&#x27;)</pre><b>In a Jupyter environment, please rerun this cell to show the HTML representation or trust the notebook. <br />On GitHub, the HTML representation is unable to render, please try loading this page with nbviewer.org.</b></div><div class=\"sk-container\" hidden><div class=\"sk-item sk-dashed-wrapped\"><div class=\"sk-label-container\"><div class=\"sk-label sk-toggleable\"><input class=\"sk-toggleable__control sk-hidden--visually\" id=\"sk-estimator-id-9\" type=\"checkbox\" ><label for=\"sk-estimator-id-9\" class=\"sk-toggleable__label sk-toggleable__label-arrow\">GridSearchCV</label><div class=\"sk-toggleable__content\"><pre>GridSearchCV(cv=5,\n",
              "             estimator=Pipeline(steps=[(&#x27;scale&#x27;, StandardScaler()),\n",
              "                                       (&#x27;clf&#x27;,\n",
              "                                        HistGradientBoostingClassifier(random_state=125))]),\n",
              "             param_grid={&#x27;clf__l2_regularization&#x27;: [0.0, 0.2, 0.5, 0.9],\n",
              "                         &#x27;clf__learning_rate&#x27;: array([0.01      , 0.10888889, 0.20777778, 0.30666667, 0.40555556,\n",
              "       0.50444444, 0.60333333, 0.70222222, 0.80111111, 0.9       ]),\n",
              "                         &#x27;clf__max_depth&#x27;: [3, 4, 5],\n",
              "                         &#x27;clf__max_iter&#x27;: [20, 40, 80, 160]},\n",
              "             scoring=&#x27;roc_auc&#x27;)</pre></div></div></div><div class=\"sk-parallel\"><div class=\"sk-parallel-item\"><div class=\"sk-item\"><div class=\"sk-label-container\"><div class=\"sk-label sk-toggleable\"><input class=\"sk-toggleable__control sk-hidden--visually\" id=\"sk-estimator-id-10\" type=\"checkbox\" ><label for=\"sk-estimator-id-10\" class=\"sk-toggleable__label sk-toggleable__label-arrow\">estimator: Pipeline</label><div class=\"sk-toggleable__content\"><pre>Pipeline(steps=[(&#x27;scale&#x27;, StandardScaler()),\n",
              "                (&#x27;clf&#x27;, HistGradientBoostingClassifier(random_state=125))])</pre></div></div></div><div class=\"sk-serial\"><div class=\"sk-item\"><div class=\"sk-serial\"><div class=\"sk-item\"><div class=\"sk-estimator sk-toggleable\"><input class=\"sk-toggleable__control sk-hidden--visually\" id=\"sk-estimator-id-11\" type=\"checkbox\" ><label for=\"sk-estimator-id-11\" class=\"sk-toggleable__label sk-toggleable__label-arrow\">StandardScaler</label><div class=\"sk-toggleable__content\"><pre>StandardScaler()</pre></div></div></div><div class=\"sk-item\"><div class=\"sk-estimator sk-toggleable\"><input class=\"sk-toggleable__control sk-hidden--visually\" id=\"sk-estimator-id-12\" type=\"checkbox\" ><label for=\"sk-estimator-id-12\" class=\"sk-toggleable__label sk-toggleable__label-arrow\">HistGradientBoostingClassifier</label><div class=\"sk-toggleable__content\"><pre>HistGradientBoostingClassifier(random_state=125)</pre></div></div></div></div></div></div></div></div></div></div></div></div>"
            ],
            "text/plain": [
              "GridSearchCV(cv=5,\n",
              "             estimator=Pipeline(steps=[('scale', StandardScaler()),\n",
              "                                       ('clf',\n",
              "                                        HistGradientBoostingClassifier(random_state=125))]),\n",
              "             param_grid={'clf__l2_regularization': [0.0, 0.2, 0.5, 0.9],\n",
              "                         'clf__learning_rate': array([0.01      , 0.10888889, 0.20777778, 0.30666667, 0.40555556,\n",
              "       0.50444444, 0.60333333, 0.70222222, 0.80111111, 0.9       ]),\n",
              "                         'clf__max_depth': [3, 4, 5],\n",
              "                         'clf__max_iter': [20, 40, 80, 160]},\n",
              "             scoring='roc_auc')"
            ]
          },
          "execution_count": 53,
          "metadata": {},
          "output_type": "execute_result"
        }
      ],
      "source": [
        "base = Pipeline([\n",
        "    ('scale', StandardScaler()),\n",
        "    ('clf', HistGradientBoostingClassifier(random_state=125))\n",
        "])\n",
        "\n",
        "param_grid = {\n",
        "    'clf__learning_rate': np.linspace(0.01,0.9,10),\n",
        "    'clf__max_iter': [20, 40, 80, 160],\n",
        "    'clf__max_depth': [3, 4, 5],\n",
        "    'clf__l2_regularization': [0.0, 0.2, 0.5, 0.9]\n",
        "}\n",
        "\n",
        "grid_search = GridSearchCV(base, param_grid=param_grid, cv=5, scoring='roc_auc')\n",
        "grid_search.fit(X1_train, y1_train)"
      ]
    },
    {
      "cell_type": "code",
      "execution_count": null,
      "metadata": {
        "id": "_LdL13qpwPS7",
        "outputId": "694bb410-4f4f-4cff-c08f-c5cd1e1282cf"
      },
      "outputs": [
        {
          "name": "stdout",
          "output_type": "stream",
          "text": [
            "Best Parameters: {'clf__l2_regularization': 0.9, 'clf__learning_rate': 0.10888888888888888, 'clf__max_depth': 3, 'clf__max_iter': 160}\n",
            "Best AUC Score: 0.6778295907025136\n"
          ]
        }
      ],
      "source": [
        "best_params = grid_search.best_params_\n",
        "best_auc = grid_search.best_score_\n",
        "\n",
        "print(\"Best Parameters:\", best_params)\n",
        "print(\"Best AUC Score:\", best_auc)"
      ]
    },
    {
      "cell_type": "code",
      "execution_count": null,
      "metadata": {
        "id": "Hy4UB0nAwPS7",
        "outputId": "0fdb6536-d5b7-4f55-a39c-ca3edf54737c"
      },
      "outputs": [
        {
          "name": "stdout",
          "output_type": "stream",
          "text": [
            "AUC on Test Set: 0.5\n"
          ]
        }
      ],
      "source": [
        "best_model3 = grid_search.best_estimator_\n",
        "\n",
        "pred = best_model3.predict(X1_val)\n",
        "pred_probs = best_model3.predict_proba(X1_val)[:,1]\n",
        "\n",
        "pred_train = best_model3.predict(X1_train)\n",
        "pred_probs_train = best_model3.predict_proba(X1_train)[:,1]\n",
        "\n",
        "test_auc = roc_auc_score(y1_val, pred)\n",
        "\n",
        "print(\"AUC on Test Set:\", test_auc)\n",
        "if test_auc > mejor_valor:\n",
        "    mejor_valor = test_auc\n",
        "    mejor_modelo = best_model3"
      ]
    },
    {
      "cell_type": "code",
      "execution_count": null,
      "metadata": {
        "id": "jVC-tOqf6Ym6",
        "outputId": "1d4d9745-7c52-4979-9fb3-31efe7b3aad2"
      },
      "outputs": [
        {
          "name": "stdout",
          "output_type": "stream",
          "text": [
            "Recall Baseline: 1.0 Test: 0.0 Train: 0.0\n",
            "Precision Baseline: 0.08 Test: 0.0 Train: 0.0\n",
            "Roc Baseline: 0.5 Test: 0.68 Train: 0.7\n"
          ]
        },
        {
          "data": {
            "image/png": "[encoded data removed]",
            "text/plain": [
              "<Figure size 800x600 with 1 Axes>"
            ]
          },
          "metadata": {},
          "output_type": "display_data"
        },
        {
          "data": {
            "text/plain": [
              "<Figure size 640x480 with 0 Axes>"
            ]
          },
          "metadata": {},
          "output_type": "display_data"
        }
      ],
      "source": [
        "evaluate_model(pred, pred_probs, pred_train, pred_probs_train, y1_val, y1_train)\n",
        "plt.savefig('roc_auc_curve.png')"
      ]
    },
    {
      "cell_type": "code",
      "execution_count": null,
      "metadata": {
        "id": "l3wQSCGS6Ym7",
        "outputId": "ef626e2c-b82a-448c-9b1b-2fd673cb64dc"
      },
      "outputs": [
        {
          "data": {
            "image/png": "[encoded data removed]",
            "text/plain": [
              "<Figure size 800x800 with 2 Axes>"
            ]
          },
          "metadata": {},
          "output_type": "display_data"
        },
        {
          "name": "stdout",
          "output_type": "stream",
          "text": [
            "              precision    recall  f1-score   support\n",
            "\n",
            "           0       0.92      1.00      0.96     27703\n",
            "           1       0.00      0.00      0.00      2433\n",
            "\n",
            "    accuracy                           0.92     30136\n",
            "   macro avg       0.46      0.50      0.48     30136\n",
            "weighted avg       0.85      0.92      0.88     30136\n",
            "\n"
          ]
        }
      ],
      "source": [
        "mostrar_resultados(y1_val, pred)"
      ]
    },
    {
      "cell_type": "markdown",
      "metadata": {
        "id": "bnQRHllewPS7"
      },
      "source": [
        "## 4ta Forma\n",
        "* Se utiliza HistGradientBoostingClassifier\n",
        "* Se utilizan los datos cambiando todos los NaNs"
      ]
    },
    {
      "cell_type": "code",
      "execution_count": null,
      "metadata": {
        "id": "S7JUOj29wPS8",
        "outputId": "7d02e671-08cb-4abd-957f-8ebb476bd7cc"
      },
      "outputs": [
        {
          "data": {
            "text/html": [
              "<style>#sk-container-id-4 {color: black;background-color: white;}#sk-container-id-4 pre{padding: 0;}#sk-container-id-4 div.sk-toggleable {background-color: white;}#sk-container-id-4 label.sk-toggleable__label {cursor: pointer;display: block;width: 100%;margin-bottom: 0;padding: 0.3em;box-sizing: border-box;text-align: center;}#sk-container-id-4 label.sk-toggleable__label-arrow:before {content: \"▸\";float: left;margin-right: 0.25em;color: #696969;}#sk-container-id-4 label.sk-toggleable__label-arrow:hover:before {color: black;}#sk-container-id-4 div.sk-estimator:hover label.sk-toggleable__label-arrow:before {color: black;}#sk-container-id-4 div.sk-toggleable__content {max-height: 0;max-width: 0;overflow: hidden;text-align: left;background-color: #f0f8ff;}#sk-container-id-4 div.sk-toggleable__content pre {margin: 0.2em;color: black;border-radius: 0.25em;background-color: #f0f8ff;}#sk-container-id-4 input.sk-toggleable__control:checked~div.sk-toggleable__content {max-height: 200px;max-width: 100%;overflow: auto;}#sk-container-id-4 input.sk-toggleable__control:checked~label.sk-toggleable__label-arrow:before {content: \"▾\";}#sk-container-id-4 div.sk-estimator input.sk-toggleable__control:checked~label.sk-toggleable__label {background-color: #d4ebff;}#sk-container-id-4 div.sk-label input.sk-toggleable__control:checked~label.sk-toggleable__label {background-color: #d4ebff;}#sk-container-id-4 input.sk-hidden--visually {border: 0;clip: rect(1px 1px 1px 1px);clip: rect(1px, 1px, 1px, 1px);height: 1px;margin: -1px;overflow: hidden;padding: 0;position: absolute;width: 1px;}#sk-container-id-4 div.sk-estimator {font-family: monospace;background-color: #f0f8ff;border: 1px dotted black;border-radius: 0.25em;box-sizing: border-box;margin-bottom: 0.5em;}#sk-container-id-4 div.sk-estimator:hover {background-color: #d4ebff;}#sk-container-id-4 div.sk-parallel-item::after {content: \"\";width: 100%;border-bottom: 1px solid gray;flex-grow: 1;}#sk-container-id-4 div.sk-label:hover label.sk-toggleable__label {background-color: #d4ebff;}#sk-container-id-4 div.sk-serial::before {content: \"\";position: absolute;border-left: 1px solid gray;box-sizing: border-box;top: 0;bottom: 0;left: 50%;z-index: 0;}#sk-container-id-4 div.sk-serial {display: flex;flex-direction: column;align-items: center;background-color: white;padding-right: 0.2em;padding-left: 0.2em;position: relative;}#sk-container-id-4 div.sk-item {position: relative;z-index: 1;}#sk-container-id-4 div.sk-parallel {display: flex;align-items: stretch;justify-content: center;background-color: white;position: relative;}#sk-container-id-4 div.sk-item::before, #sk-container-id-4 div.sk-parallel-item::before {content: \"\";position: absolute;border-left: 1px solid gray;box-sizing: border-box;top: 0;bottom: 0;left: 50%;z-index: -1;}#sk-container-id-4 div.sk-parallel-item {display: flex;flex-direction: column;z-index: 1;position: relative;background-color: white;}#sk-container-id-4 div.sk-parallel-item:first-child::after {align-self: flex-end;width: 50%;}#sk-container-id-4 div.sk-parallel-item:last-child::after {align-self: flex-start;width: 50%;}#sk-container-id-4 div.sk-parallel-item:only-child::after {width: 0;}#sk-container-id-4 div.sk-dashed-wrapped {border: 1px dashed gray;margin: 0 0.4em 0.5em 0.4em;box-sizing: border-box;padding-bottom: 0.4em;background-color: white;}#sk-container-id-4 div.sk-label label {font-family: monospace;font-weight: bold;display: inline-block;line-height: 1.2em;}#sk-container-id-4 div.sk-label-container {text-align: center;}#sk-container-id-4 div.sk-container {/* jupyter's `normalize.less` sets `[hidden] { display: none; }` but bootstrap.min.css set `[hidden] { display: none !important; }` so we also need the `!important` here to be able to override the default hidden behavior on the sphinx rendered scikit-learn.org. See: https://github.com/scikit-learn/scikit-learn/issues/21755 */display: inline-block !important;position: relative;}#sk-container-id-4 div.sk-text-repr-fallback {display: none;}</style><div id=\"sk-container-id-4\" class=\"sk-top-container\"><div class=\"sk-text-repr-fallback\"><pre>GridSearchCV(cv=5,\n",
              "             estimator=Pipeline(steps=[(&#x27;scale&#x27;, StandardScaler()),\n",
              "                                       (&#x27;clf&#x27;,\n",
              "                                        HistGradientBoostingClassifier(random_state=125))]),\n",
              "             param_grid={&#x27;clf__l2_regularization&#x27;: [0.0, 0.2, 0.5, 0.9],\n",
              "                         &#x27;clf__learning_rate&#x27;: array([0.01      , 0.10888889, 0.20777778, 0.30666667, 0.40555556,\n",
              "       0.50444444, 0.60333333, 0.70222222, 0.80111111, 0.9       ]),\n",
              "                         &#x27;clf__max_depth&#x27;: [3, 4, 5],\n",
              "                         &#x27;clf__max_iter&#x27;: [20, 40, 80, 160]},\n",
              "             scoring=&#x27;roc_auc&#x27;)</pre><b>In a Jupyter environment, please rerun this cell to show the HTML representation or trust the notebook. <br />On GitHub, the HTML representation is unable to render, please try loading this page with nbviewer.org.</b></div><div class=\"sk-container\" hidden><div class=\"sk-item sk-dashed-wrapped\"><div class=\"sk-label-container\"><div class=\"sk-label sk-toggleable\"><input class=\"sk-toggleable__control sk-hidden--visually\" id=\"sk-estimator-id-13\" type=\"checkbox\" ><label for=\"sk-estimator-id-13\" class=\"sk-toggleable__label sk-toggleable__label-arrow\">GridSearchCV</label><div class=\"sk-toggleable__content\"><pre>GridSearchCV(cv=5,\n",
              "             estimator=Pipeline(steps=[(&#x27;scale&#x27;, StandardScaler()),\n",
              "                                       (&#x27;clf&#x27;,\n",
              "                                        HistGradientBoostingClassifier(random_state=125))]),\n",
              "             param_grid={&#x27;clf__l2_regularization&#x27;: [0.0, 0.2, 0.5, 0.9],\n",
              "                         &#x27;clf__learning_rate&#x27;: array([0.01      , 0.10888889, 0.20777778, 0.30666667, 0.40555556,\n",
              "       0.50444444, 0.60333333, 0.70222222, 0.80111111, 0.9       ]),\n",
              "                         &#x27;clf__max_depth&#x27;: [3, 4, 5],\n",
              "                         &#x27;clf__max_iter&#x27;: [20, 40, 80, 160]},\n",
              "             scoring=&#x27;roc_auc&#x27;)</pre></div></div></div><div class=\"sk-parallel\"><div class=\"sk-parallel-item\"><div class=\"sk-item\"><div class=\"sk-label-container\"><div class=\"sk-label sk-toggleable\"><input class=\"sk-toggleable__control sk-hidden--visually\" id=\"sk-estimator-id-14\" type=\"checkbox\" ><label for=\"sk-estimator-id-14\" class=\"sk-toggleable__label sk-toggleable__label-arrow\">estimator: Pipeline</label><div class=\"sk-toggleable__content\"><pre>Pipeline(steps=[(&#x27;scale&#x27;, StandardScaler()),\n",
              "                (&#x27;clf&#x27;, HistGradientBoostingClassifier(random_state=125))])</pre></div></div></div><div class=\"sk-serial\"><div class=\"sk-item\"><div class=\"sk-serial\"><div class=\"sk-item\"><div class=\"sk-estimator sk-toggleable\"><input class=\"sk-toggleable__control sk-hidden--visually\" id=\"sk-estimator-id-15\" type=\"checkbox\" ><label for=\"sk-estimator-id-15\" class=\"sk-toggleable__label sk-toggleable__label-arrow\">StandardScaler</label><div class=\"sk-toggleable__content\"><pre>StandardScaler()</pre></div></div></div><div class=\"sk-item\"><div class=\"sk-estimator sk-toggleable\"><input class=\"sk-toggleable__control sk-hidden--visually\" id=\"sk-estimator-id-16\" type=\"checkbox\" ><label for=\"sk-estimator-id-16\" class=\"sk-toggleable__label sk-toggleable__label-arrow\">HistGradientBoostingClassifier</label><div class=\"sk-toggleable__content\"><pre>HistGradientBoostingClassifier(random_state=125)</pre></div></div></div></div></div></div></div></div></div></div></div></div>"
            ],
            "text/plain": [
              "GridSearchCV(cv=5,\n",
              "             estimator=Pipeline(steps=[('scale', StandardScaler()),\n",
              "                                       ('clf',\n",
              "                                        HistGradientBoostingClassifier(random_state=125))]),\n",
              "             param_grid={'clf__l2_regularization': [0.0, 0.2, 0.5, 0.9],\n",
              "                         'clf__learning_rate': array([0.01      , 0.10888889, 0.20777778, 0.30666667, 0.40555556,\n",
              "       0.50444444, 0.60333333, 0.70222222, 0.80111111, 0.9       ]),\n",
              "                         'clf__max_depth': [3, 4, 5],\n",
              "                         'clf__max_iter': [20, 40, 80, 160]},\n",
              "             scoring='roc_auc')"
            ]
          },
          "execution_count": 58,
          "metadata": {},
          "output_type": "execute_result"
        }
      ],
      "source": [
        "base = Pipeline([\n",
        "    ('scale', StandardScaler()),\n",
        "    ('clf', HistGradientBoostingClassifier(random_state=125))\n",
        "])\n",
        "\n",
        "param_grid = {\n",
        "    'clf__learning_rate': np.linspace(0.01,0.9,10),\n",
        "    'clf__max_iter': [20, 40, 80, 160],\n",
        "    'clf__max_depth': [3, 4, 5],\n",
        "    'clf__l2_regularization': [0.0, 0.2, 0.5, 0.9]\n",
        "}\n",
        "\n",
        "grid_search = GridSearchCV(base, param_grid=param_grid, cv=5, scoring='roc_auc')\n",
        "grid_search.fit(X2_train, y2_train)"
      ]
    },
    {
      "cell_type": "code",
      "execution_count": null,
      "metadata": {
        "id": "j0jUax6-wPS8",
        "outputId": "0ef4b6d6-6c0e-4f9a-c777-406c8f77a0ca"
      },
      "outputs": [
        {
          "name": "stdout",
          "output_type": "stream",
          "text": [
            "Best Parameters: {'clf__l2_regularization': 0.5, 'clf__learning_rate': 0.9, 'clf__max_depth': 5, 'clf__max_iter': 160}\n",
            "Best AUC Score: 0.9066961008875392\n"
          ]
        }
      ],
      "source": [
        "best_params = grid_search.best_params_\n",
        "best_auc = grid_search.best_score_\n",
        "\n",
        "print(\"Best Parameters:\", best_params)\n",
        "print(\"Best AUC Score:\", best_auc)"
      ]
    },
    {
      "cell_type": "code",
      "execution_count": null,
      "metadata": {
        "id": "poFFMgQPwPS8",
        "outputId": "1c1ae86f-ef5f-4d50-b1c0-cbea475179e5"
      },
      "outputs": [
        {
          "name": "stdout",
          "output_type": "stream",
          "text": [
            "AUC on Test Set: 0.6281490070905973\n"
          ]
        }
      ],
      "source": [
        "best_model4 = grid_search.best_estimator_\n",
        "\n",
        "pred = best_model4.predict(X2_val)\n",
        "pred_probs = best_model4.predict_proba(X2_val)[:,1]\n",
        "\n",
        "pred_train = best_model4.predict(X2_train)\n",
        "pred_probs_train = best_model4.predict_proba(X2_train)[:,1]\n",
        "\n",
        "test_auc = roc_auc_score(y2_val, pred)\n",
        "\n",
        "\n",
        "print(\"AUC on Test Set:\", test_auc)\n",
        "if test_auc > mejor_valor:\n",
        "    mejor_valor = test_auc\n",
        "    mejor_modelo = best_model4"
      ]
    },
    {
      "cell_type": "code",
      "execution_count": null,
      "metadata": {
        "id": "L8uBy-cx6Ym7",
        "outputId": "e9740f95-9ac7-45fe-96d4-b650d8ac82b3"
      },
      "outputs": [
        {
          "name": "stdout",
          "output_type": "stream",
          "text": [
            "Recall Baseline: 1.0 Test: 0.47 Train: 0.93\n",
            "Precision Baseline: 0.08 Test: 0.16 Train: 0.87\n",
            "Roc Baseline: 0.5 Test: 0.69 Train: 0.96\n"
          ]
        },
        {
          "data": {
            "image/png": "[encoded data removed]",
            "text/plain": [
              "<Figure size 800x600 with 1 Axes>"
            ]
          },
          "metadata": {},
          "output_type": "display_data"
        },
        {
          "data": {
            "text/plain": [
              "<Figure size 640x480 with 0 Axes>"
            ]
          },
          "metadata": {},
          "output_type": "display_data"
        }
      ],
      "source": [
        "evaluate_model(pred, pred_probs, pred_train, pred_probs_train, y2_val, y2_train)\n",
        "plt.savefig('roc_auc_curve.png')"
      ]
    },
    {
      "cell_type": "code",
      "execution_count": null,
      "metadata": {
        "id": "rrD6QnJy6Ym7",
        "outputId": "2a4afd4a-3499-485e-f3f3-2307957a96d5"
      },
      "outputs": [
        {
          "data": {
            "image/png": "[encoded data removed]",
            "text/plain": [
              "<Figure size 800x800 with 2 Axes>"
            ]
          },
          "metadata": {},
          "output_type": "display_data"
        },
        {
          "name": "stdout",
          "output_type": "stream",
          "text": [
            "              precision    recall  f1-score   support\n",
            "\n",
            "           0       0.94      0.79      0.86     27715\n",
            "           1       0.16      0.47      0.24      2421\n",
            "\n",
            "    accuracy                           0.76     30136\n",
            "   macro avg       0.55      0.63      0.55     30136\n",
            "weighted avg       0.88      0.76      0.81     30136\n",
            "\n"
          ]
        }
      ],
      "source": [
        "mostrar_resultados(y2_val, pred)"
      ]
    },
    {
      "cell_type": "markdown",
      "metadata": {
        "id": "0g1pnAU5wPS8"
      },
      "source": [
        "## 5ta Forma\n",
        "\n",
        "* Se le agrega a la 2da forma un PCA en la pipeline"
      ]
    },
    {
      "cell_type": "code",
      "execution_count": null,
      "metadata": {
        "id": "odSFrzpdwPS9"
      },
      "outputs": [],
      "source": [
        "from sklearn.decomposition import PCA\n",
        "\n",
        "pca = PCA()\n",
        "\n",
        "class_weights = {0: 1, 1: 1}\n",
        "\n",
        "base = Pipeline([\n",
        "    ('scale', StandardScaler()),\n",
        "    ('pca', pca),\n",
        "    ('clf', LogisticRegression(class_weight=class_weights, random_state=42))\n",
        "])\n",
        "\n",
        "param_grid = {\n",
        "    \"pca__n_components\": [40, 80, 100],\n",
        "    'clf__C': np.logspace(-5,5,10),\n",
        "    'clf__solver': ['newton-cholesky', 'sag', 'saga'],\n",
        "    'clf__max_iter': [100, 200, 300],\n",
        "}\n",
        "\n",
        "grid_search = GridSearchCV(base, param_grid=param_grid, cv=5, scoring='roc_auc')\n",
        "grid_search.fit(X2_train, y2_train)"
      ]
    },
    {
      "cell_type": "code",
      "execution_count": null,
      "metadata": {
        "id": "1-lOhKPZwPS9"
      },
      "outputs": [],
      "source": [
        "best_params = grid_search.best_params_\n",
        "best_auc = grid_search.best_score_\n",
        "\n",
        "print(\"Best Parameters:\", best_params)\n",
        "print(\"Best AUC Score:\", best_auc)"
      ]
    },
    {
      "cell_type": "code",
      "execution_count": null,
      "metadata": {
        "id": "m1kEJW_rwPS9"
      },
      "outputs": [],
      "source": [
        "best_model5 = grid_search.best_estimator_\n",
        "\n",
        "pred = best_model5.predict(X2_val)\n",
        "pred_probs = best_model5.predict_proba(X2_val)[:,1]\n",
        "\n",
        "pred_train = best_model5.predict(X2_train)\n",
        "pred_probs_train = best_model5.predict_proba(X2_train)[:,1]\n",
        "\n",
        "test_auc = roc_auc_score(y2_val, pred)\n",
        "\n",
        "print(\"AUC on Test Set:\", test_auc)\n",
        "if test_auc > mejor_valor:\n",
        "    mejor_valor = test_auc\n",
        "    mejor_modelo = best_model5"
      ]
    },
    {
      "cell_type": "code",
      "execution_count": null,
      "metadata": {
        "id": "s4keRYpb6Ym8"
      },
      "outputs": [],
      "source": [
        "evaluate_model(pred, pred_probs, pred_train, pred_probs_train, y2_val, y2_train)\n",
        "plt.savefig('roc_auc_curve.png')"
      ]
    },
    {
      "cell_type": "code",
      "execution_count": null,
      "metadata": {
        "id": "0tXeELwd6Ym8"
      },
      "outputs": [],
      "source": [
        "mostrar_resultados(y2_val, pred)"
      ]
    },
    {
      "cell_type": "markdown",
      "metadata": {
        "id": "ihrb5TcJwPS9"
      },
      "source": [
        "## Guardar Mejor Modelo"
      ]
    },
    {
      "cell_type": "code",
      "execution_count": null,
      "metadata": {
        "id": "aBFOSfvOwPS9",
        "outputId": "da27f8a2-3c1f-4286-a376-d92f593baa09"
      },
      "outputs": [
        {
          "ename": "NameError",
          "evalue": "name 'mejor_modelo' is not defined",
          "output_type": "error",
          "traceback": [
            "\u001b[1;31m---------------------------------------------------------------------------\u001b[0m",
            "\u001b[1;31mNameError\u001b[0m                                 Traceback (most recent call last)",
            "Cell \u001b[1;32mIn[42], line 1\u001b[0m\n\u001b[1;32m----> 1\u001b[0m dump(\u001b[43mmejor_modelo\u001b[49m, \u001b[38;5;124m'\u001b[39m\u001b[38;5;124mfilename.joblib\u001b[39m\u001b[38;5;124m'\u001b[39m)\n",
            "\u001b[1;31mNameError\u001b[0m: name 'mejor_modelo' is not defined"
          ]
        }
      ],
      "source": [
        "dump(mejor_modelo, 'filename.joblib')"
      ]
    },
    {
      "cell_type": "markdown",
      "metadata": {
        "id": "Q-iqwQ3RwPS-"
      },
      "source": [
        "# Testeo"
      ]
    },
    {
      "cell_type": "code",
      "execution_count": null,
      "metadata": {
        "id": "rs_sqZ2RwPS-"
      },
      "outputs": [],
      "source": [
        "clasiffier_model = load('filename.joblib')\n",
        "#clasiffier_model = best_model4"
      ]
    },
    {
      "cell_type": "code",
      "execution_count": null,
      "metadata": {
        "id": "gaC5y-yh6Ym8",
        "outputId": "c156bae5-2b3a-429c-9597-dd16ebd113fd"
      },
      "outputs": [
        {
          "data": {
            "text/plain": [
              "{'memory': None,\n",
              " 'steps': [('scale', StandardScaler()),\n",
              "  ('clf',\n",
              "   LogisticRegression(C=46.41588833612782, class_weight={0: 1, 1: 1},\n",
              "                      random_state=42, solver='newton-cholesky'))],\n",
              " 'verbose': False,\n",
              " 'scale': StandardScaler(),\n",
              " 'clf': LogisticRegression(C=46.41588833612782, class_weight={0: 1, 1: 1},\n",
              "                    random_state=42, solver='newton-cholesky'),\n",
              " 'scale__copy': True,\n",
              " 'scale__with_mean': True,\n",
              " 'scale__with_std': True,\n",
              " 'clf__C': 46.41588833612782,\n",
              " 'clf__class_weight': {0: 1, 1: 1},\n",
              " 'clf__dual': False,\n",
              " 'clf__fit_intercept': True,\n",
              " 'clf__intercept_scaling': 1,\n",
              " 'clf__l1_ratio': None,\n",
              " 'clf__max_iter': 100,\n",
              " 'clf__multi_class': 'auto',\n",
              " 'clf__n_jobs': None,\n",
              " 'clf__penalty': 'l2',\n",
              " 'clf__random_state': 42,\n",
              " 'clf__solver': 'newton-cholesky',\n",
              " 'clf__tol': 0.0001,\n",
              " 'clf__verbose': 0,\n",
              " 'clf__warm_start': False}"
            ]
          },
          "execution_count": 51,
          "metadata": {},
          "output_type": "execute_result"
        }
      ],
      "source": [
        "clasiffier_model.get_params()"
      ]
    },
    {
      "cell_type": "code",
      "execution_count": null,
      "metadata": {
        "id": "v9yRpKZQwPS-"
      },
      "outputs": [],
      "source": [
        "train_median_Respuesta = fill_missing_median(request_test_df.copy())\n",
        "\n",
        "objectColumns = train_median_Respuesta.select_dtypes(include=['object']).columns.tolist()\n",
        "objectColumns.remove('WEEKDAY_APPR_PROCESS_START')\n",
        "\n",
        "order_WEEKDAY_APPR_PROCESS_START = ['MONDAY','TUESDAY','WEDNESDAY','THURSDAY','FRIDAY','SATURDAY','SUNDAY']\n",
        "train_median_Respuesta['WEEKDAY_APPR_PROCESS_START'] = OrdinalEncoder(categories=[order_WEEKDAY_APPR_PROCESS_START]).fit_transform(train_median_Respuesta[['WEEKDAY_APPR_PROCESS_START']])\n",
        "\n",
        "encoded_data = ohe_X2.transform(train_median_Respuesta[objectColumns])\n",
        "encoded_df = pd.DataFrame(encoded_data.toarray(), columns=ohe_X2.get_feature_names_out(objectColumns))\n",
        "\n",
        "train_median_Respuesta = pd.concat([train_median_Respuesta, encoded_df], axis=1)\n",
        "train_median_Respuesta.drop(columns=objectColumns, inplace=True)\n",
        "\n"
      ]
    },
    {
      "cell_type": "code",
      "execution_count": null,
      "metadata": {
        "id": "liF_ow1XwPS-",
        "outputId": "159efc9a-51d9-473a-8969-a85cb6c40d88"
      },
      "outputs": [
        {
          "data": {
            "text/plain": [
              "array([0, 1, 0, ..., 1, 1, 1], dtype=int64)"
            ]
          },
          "execution_count": 52,
          "metadata": {},
          "output_type": "execute_result"
        }
      ],
      "source": [
        "SK_IDs_column = train_median_Respuesta['SK_ID_CURR'].values\n",
        "predicciones = clasiffier_model.predict(train_median_Respuesta.drop(columns = ['SK_ID_CURR']))\n",
        "predicciones"
      ]
    },
    {
      "cell_type": "code",
      "execution_count": null,
      "metadata": {
        "id": "yL6SWLxzwPS-",
        "outputId": "cc01b805-7230-41ae-9970-0c932fddb052"
      },
      "outputs": [
        {
          "data": {
            "text/html": [
              "<div>\n",
              "<style scoped>\n",
              "    .dataframe tbody tr th:only-of-type {\n",
              "        vertical-align: middle;\n",
              "    }\n",
              "\n",
              "    .dataframe tbody tr th {\n",
              "        vertical-align: top;\n",
              "    }\n",
              "\n",
              "    .dataframe thead th {\n",
              "        text-align: right;\n",
              "    }\n",
              "</style>\n",
              "<table border=\"1\" class=\"dataframe\">\n",
              "  <thead>\n",
              "    <tr style=\"text-align: right;\">\n",
              "      <th></th>\n",
              "      <th>SK_ID_CURR</th>\n",
              "      <th>TARGET</th>\n",
              "    </tr>\n",
              "  </thead>\n",
              "  <tbody>\n",
              "    <tr>\n",
              "      <th>0</th>\n",
              "      <td>251482</td>\n",
              "      <td>0</td>\n",
              "    </tr>\n",
              "    <tr>\n",
              "      <th>1</th>\n",
              "      <td>152322</td>\n",
              "      <td>1</td>\n",
              "    </tr>\n",
              "    <tr>\n",
              "      <th>2</th>\n",
              "      <td>213864</td>\n",
              "      <td>0</td>\n",
              "    </tr>\n",
              "    <tr>\n",
              "      <th>3</th>\n",
              "      <td>149195</td>\n",
              "      <td>0</td>\n",
              "    </tr>\n",
              "    <tr>\n",
              "      <th>4</th>\n",
              "      <td>215443</td>\n",
              "      <td>0</td>\n",
              "    </tr>\n",
              "    <tr>\n",
              "      <th>...</th>\n",
              "      <td>...</td>\n",
              "      <td>...</td>\n",
              "    </tr>\n",
              "    <tr>\n",
              "      <th>64573</th>\n",
              "      <td>449354</td>\n",
              "      <td>1</td>\n",
              "    </tr>\n",
              "    <tr>\n",
              "      <th>64574</th>\n",
              "      <td>118433</td>\n",
              "      <td>0</td>\n",
              "    </tr>\n",
              "    <tr>\n",
              "      <th>64575</th>\n",
              "      <td>177671</td>\n",
              "      <td>1</td>\n",
              "    </tr>\n",
              "    <tr>\n",
              "      <th>64576</th>\n",
              "      <td>449847</td>\n",
              "      <td>1</td>\n",
              "    </tr>\n",
              "    <tr>\n",
              "      <th>64577</th>\n",
              "      <td>390409</td>\n",
              "      <td>1</td>\n",
              "    </tr>\n",
              "  </tbody>\n",
              "</table>\n",
              "<p>64578 rows × 2 columns</p>\n",
              "</div>"
            ],
            "text/plain": [
              "       SK_ID_CURR  TARGET\n",
              "0          251482       0\n",
              "1          152322       1\n",
              "2          213864       0\n",
              "3          149195       0\n",
              "4          215443       0\n",
              "...           ...     ...\n",
              "64573      449354       1\n",
              "64574      118433       0\n",
              "64575      177671       1\n",
              "64576      449847       1\n",
              "64577      390409       1\n",
              "\n",
              "[64578 rows x 2 columns]"
            ]
          },
          "execution_count": 61,
          "metadata": {},
          "output_type": "execute_result"
        }
      ],
      "source": [
        "df = pd.DataFrame(list(zip(SK_IDs_column, predicciones)), columns=['SK_ID_CURR', 'TARGET'])\n",
        "df"
      ]
    },
    {
      "cell_type": "code",
      "execution_count": null,
      "metadata": {
        "id": "S38athcD6Ym8"
      },
      "outputs": [],
      "source": [
        "df.to_csv('respuesta.csv', index = False)"
      ]
    },
    {
      "cell_type": "code",
      "execution_count": null,
      "metadata": {
        "id": "YeOfdZDb6Ym9"
      },
      "outputs": [],
      "source": []
    }
  ],
  "metadata": {
    "colab": {
      "provenance": [],
      "toc_visible": true
    },
    "kernelspec": {
      "display_name": "Python 3 (ipykernel)",
      "language": "python",
      "name": "python3"
    },
    "language_info": {
      "codemirror_mode": {
        "name": "ipython",
        "version": 3
      },
      "file_extension": ".py",
      "mimetype": "text/x-python",
      "name": "python",
      "nbconvert_exporter": "python",
      "pygments_lexer": "ipython3",
      "version": "3.10.13"
    }
  },
  "nbformat": 4,
  "nbformat_minor": 0
}